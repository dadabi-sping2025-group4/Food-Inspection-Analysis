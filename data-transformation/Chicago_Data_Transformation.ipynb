{
 "cells": [
  {
   "cell_type": "markdown",
   "metadata": {
    "application/vnd.databricks.v1+cell": {
     "cellMetadata": {
      "byteLimit": 2048000,
      "rowLimit": 10000
     },
     "inputWidgets": {},
     "nuid": "3a2e57de-6966-4be4-aa87-40d3bd99e471",
     "showTitle": false,
     "tableResultSettingsMap": {},
     "title": ""
    }
   },
   "source": [
    "# Chicago Food Inspection Data Transformation"
   ]
  },
  {
   "cell_type": "markdown",
   "metadata": {
    "application/vnd.databricks.v1+cell": {
     "cellMetadata": {
      "byteLimit": 2048000,
      "rowLimit": 10000
     },
     "inputWidgets": {},
     "nuid": "cad142e4-1561-44a4-8d82-87b7711f122b",
     "showTitle": false,
     "tableResultSettingsMap": {},
     "title": ""
    }
   },
   "source": [
    "### Read Chicago parquet file from silver container in azure data lake"
   ]
  },
  {
   "cell_type": "code",
   "execution_count": 0,
   "metadata": {
    "application/vnd.databricks.v1+cell": {
     "cellMetadata": {
      "byteLimit": 2048000,
      "rowLimit": 10000
     },
     "inputWidgets": {},
     "nuid": "741aa19f-812d-4ce6-9b5b-95f29a71f9c0",
     "showTitle": false,
     "tableResultSettingsMap": {},
     "title": ""
    }
   },
   "outputs": [
    {
     "output_type": "stream",
     "name": "stdout",
     "output_type": "stream",
     "text": [
      "Mount point already exists or error: An error occurred while calling o399.mount.\n: java.rmi.RemoteException: java.lang.IllegalArgumentException: requirement failed: Directory already mounted: /mnt/silver; nested exception is: \n\tjava.lang.IllegalArgumentException: requirement failed: Directory already mounted: /mnt/silver\n\tat com.databricks.backend.daemon.data.client.DbfsClient.send0(DbfsClient.scala:135)\n\tat com.databricks.backend.daemon.data.client.DbfsClient.sendIdempotent(DbfsClient.scala:69)\n\tat com.databricks.backend.daemon.dbutils.DBUtilsCore.createOrUpdateMount(DBUtilsCore.scala:1053)\n\tat com.databricks.backend.daemon.dbutils.DBUtilsCore.$anonfun$mount$1(DBUtilsCore.scala:1079)\n\tat com.databricks.logging.UsageLogging.$anonfun$recordOperation$1(UsageLogging.scala:571)\n\tat com.databricks.logging.UsageLogging.executeThunkAndCaptureResultTags$1(UsageLogging.scala:667)\n\tat com.databricks.logging.UsageLogging.$anonfun$recordOperationWithResultTags$4(UsageLogging.scala:685)\n\tat com.databricks.logging.UsageLogging.$anonfun$withAttributionContext$1(UsageLogging.scala:426)\n\tat scala.util.DynamicVariable.withValue(DynamicVariable.scala:62)\n\tat com.databricks.logging.AttributionContext$.withValue(AttributionContext.scala:196)\n\tat com.databricks.logging.UsageLogging.withAttributionContext(UsageLogging.scala:424)\n\tat com.databricks.logging.UsageLogging.withAttributionContext$(UsageLogging.scala:418)\n\tat com.databricks.backend.daemon.dbutils.FSUtils.withAttributionContext(DBUtilsCore.scala:71)\n\tat com.databricks.logging.UsageLogging.withAttributionTags(UsageLogging.scala:470)\n\tat com.databricks.logging.UsageLogging.withAttributionTags$(UsageLogging.scala:455)\n\tat com.databricks.backend.daemon.dbutils.FSUtils.withAttributionTags(DBUtilsCore.scala:71)\n\tat com.databricks.logging.UsageLogging.recordOperationWithResultTags(UsageLogging.scala:662)\n\tat com.databricks.logging.UsageLogging.recordOperationWithResultTags$(UsageLogging.scala:580)\n\tat com.databricks.backend.daemon.dbutils.FSUtils.recordOperationWithResultTags(DBUtilsCore.scala:71)\n\tat com.databricks.logging.UsageLogging.recordOperation(UsageLogging.scala:571)\n\tat com.databricks.logging.UsageLogging.recordOperation$(UsageLogging.scala:540)\n\tat com.databricks.backend.daemon.dbutils.FSUtils.recordOperation(DBUtilsCore.scala:71)\n\tat com.databricks.backend.daemon.dbutils.FSUtils.recordDbutilsFsOp(DBUtilsCore.scala:135)\n\tat com.databricks.backend.daemon.dbutils.DBUtilsCore.mount(DBUtilsCore.scala:1073)\n\tat sun.reflect.NativeMethodAccessorImpl.invoke0(Native Method)\n\tat sun.reflect.NativeMethodAccessorImpl.invoke(NativeMethodAccessorImpl.java:62)\n\tat sun.reflect.DelegatingMethodAccessorImpl.invoke(DelegatingMethodAccessorImpl.java:43)\n\tat java.lang.reflect.Method.invoke(Method.java:498)\n\tat py4j.reflection.MethodInvoker.invoke(MethodInvoker.java:244)\n\tat py4j.reflection.ReflectionEngine.invoke(ReflectionEngine.java:397)\n\tat py4j.Gateway.invoke(Gateway.java:306)\n\tat py4j.commands.AbstractCommand.invokeMethod(AbstractCommand.java:132)\n\tat py4j.commands.CallCommand.execute(CallCommand.java:79)\n\tat py4j.ClientServerConnection.waitForCommands(ClientServerConnection.java:199)\n\tat py4j.ClientServerConnection.run(ClientServerConnection.java:119)\n\tat java.lang.Thread.run(Thread.java:750)\nCaused by: java.lang.IllegalArgumentException: requirement failed: Directory already mounted: /mnt/silver\n\tat scala.Predef$.require(Predef.scala:281)\n\tat com.databricks.backend.daemon.data.server.DefaultMetadataManager.$anonfun$insertMount$1(MetadataManager.scala:813)\n\tat com.databricks.backend.daemon.data.server.DefaultMetadataManager.$anonfun$modifyAndVerify$2(MetadataManager.scala:1195)\n\tat scala.runtime.java8.JFunction0$mcV$sp.apply(JFunction0$mcV$sp.java:23)\n\tat com.databricks.backend.daemon.data.server.DefaultMetadataManager.withRetries(MetadataManager.scala:968)\n\tat com.databricks.backend.daemon.data.server.DefaultMetadataManager.modifyAndVerify(MetadataManager.scala:1184)\n\tat com.databricks.backend.daemon.data.server.DefaultMetadataManager.insertMount(MetadataManager.scala:821)\n\tat com.databricks.backend.daemon.data.server.handler.MountHandler.receive(MountHandler.scala:131)\n\tat com.databricks.backend.daemon.data.server.handler.CEMountHandler.receive(MountHandler.scala:175)\n\tat com.databricks.backend.daemon.data.server.handler.DbfsRequestHandler.receive(DbfsRequestHandler.scala:16)\n\tat com.databricks.backend.daemon.data.server.handler.DbfsRequestHandler.receive$(DbfsRequestHandler.scala:15)\n\tat com.databricks.backend.daemon.data.server.handler.MountHandler.receive(MountHandler.scala:39)\n\tat com.databricks.backend.daemon.data.server.session.SessionContext.$anonfun$queryHandlers$1(SessionContext.scala:54)\n\tat com.databricks.backend.daemon.data.server.session.SessionContext.$anonfun$queryHandlers$1$adapted(SessionContext.scala:53)\n\tat scala.collection.immutable.List.foreach(List.scala:431)\n\tat com.databricks.backend.daemon.data.server.session.SessionContext.queryHandlers(SessionContext.scala:53)\n\tat com.databricks.backend.daemon.data.server.DbfsServerBackend$$anonfun$receive$4.$anonfun$applyOrElse$10(DbfsServerBackend.scala:482)\n\tat com.databricks.logging.AttributionContextTracing.$anonfun$withAttributionContext$1(AttributionContextTracing.scala:49)\n\tat com.databricks.logging.AttributionContext$.$anonfun$withValue$1(AttributionContext.scala:293)\n\tat scala.util.DynamicVariable.withValue(DynamicVariable.scala:62)\n\tat com.databricks.logging.AttributionContext$.withValue(AttributionContext.scala:289)\n\tat com.databricks.logging.AttributionContextTracing.withAttributionContext(AttributionContextTracing.scala:47)\n\tat com.databricks.logging.AttributionContextTracing.withAttributionContext$(AttributionContextTracing.scala:44)\n\tat com.databricks.rpc.ServerBackend.withAttributionContext(ServerBackend.scala:22)\n\tat com.databricks.logging.AttributionContextTracing.withAttributionTags(AttributionContextTracing.scala:96)\n\tat com.databricks.logging.AttributionContextTracing.withAttributionTags$(AttributionContextTracing.scala:77)\n\tat com.databricks.rpc.ServerBackend.withAttributionTags(ServerBackend.scala:22)\n\tat com.databricks.backend.daemon.data.server.DbfsServerBackend$$anonfun$receive$4.applyOrElse(DbfsServerBackend.scala:482)\n\tat com.databricks.backend.daemon.data.server.DbfsServerBackend$$anonfun$receive$4.applyOrElse(DbfsServerBackend.scala:371)\n\tat com.databricks.rpc.ServerBackend.$anonfun$internalReceive0$2(ServerBackend.scala:174)\n\tat com.databricks.rpc.ServerBackend$$anonfun$commonReceive$1.applyOrElse(ServerBackend.scala:200)\n\tat com.databricks.rpc.ServerBackend$$anonfun$commonReceive$1.applyOrElse(ServerBackend.scala:200)\n\tat com.databricks.rpc.ServerBackend.internalReceive0(ServerBackend.scala:171)\n\tat com.databricks.rpc.ServerBackend.$anonfun$internalReceive$1(ServerBackend.scala:147)\n\tat com.databricks.logging.UsageLogging.$anonfun$recordOperation$1(UsageLogging.scala:510)\n\tat com.databricks.logging.UsageLogging.executeThunkAndCaptureResultTags$1(UsageLogging.scala:616)\n\tat com.databricks.logging.UsageLogging.$anonfun$recordOperationWithResultTags$4(UsageLogging.scala:643)\n\tat com.databricks.logging.AttributionContextTracing.$anonfun$withAttributionContext$1(AttributionContextTracing.scala:49)\n\tat com.databricks.logging.AttributionContext$.$anonfun$withValue$1(AttributionContext.scala:293)\n\tat scala.util.DynamicVariable.withValue(DynamicVariable.scala:62)\n\tat com.databricks.logging.AttributionContext$.withValue(AttributionContext.scala:289)\n\tat com.databricks.logging.AttributionContextTracing.withAttributionContext(AttributionContextTracing.scala:47)\n\tat com.databricks.logging.AttributionContextTracing.withAttributionContext$(AttributionContextTracing.scala:44)\n\tat com.databricks.rpc.ServerBackend.withAttributionContext(ServerBackend.scala:22)\n\tat com.databricks.logging.AttributionContextTracing.withAttributionTags(AttributionContextTracing.scala:96)\n\tat com.databricks.logging.AttributionContextTracing.withAttributionTags$(AttributionContextTracing.scala:77)\n\tat com.databricks.rpc.ServerBackend.withAttributionTags(ServerBackend.scala:22)\n\tat com.databricks.logging.UsageLogging.recordOperationWithResultTags(UsageLogging.scala:611)\n\tat com.databricks.logging.UsageLogging.recordOperationWithResultTags$(UsageLogging.scala:519)\n\tat com.databricks.rpc.ServerBackend.recordOperationWithResultTags(ServerBackend.scala:22)\n\tat com.databricks.logging.UsageLogging.recordOperation(UsageLogging.scala:511)\n\tat com.databricks.logging.UsageLogging.recordOperation$(UsageLogging.scala:475)\n\tat com.databricks.rpc.ServerBackend.recordOperation(ServerBackend.scala:22)\n\tat com.databricks.rpc.ServerBackend.internalReceive(ServerBackend.scala:146)\n\tat com.databricks.rpc.JettyServer$RequestManager.handleRPC(JettyServer.scala:1033)\n\tat com.databricks.rpc.JettyServer$RequestManager.handleRequestAndRespond(JettyServer.scala:953)\n\tat com.databricks.rpc.JettyServer$RequestManager.$anonfun$handleHttp$5(JettyServer.scala:548)\n\tat com.databricks.rpc.JettyServer$RequestManager.$anonfun$handleHttp$5$adapted(JettyServer.scala:513)\n\tat com.databricks.logging.activity.ActivityContextFactory$.$anonfun$withActivityInternal$13(ActivityContextFactory.scala:831)\n\tat com.databricks.logging.AttributionContextTracing.$anonfun$withAttributionContext$1(AttributionContextTracing.scala:49)\n\tat com.databricks.logging.AttributionContext$.$anonfun$withValue$1(AttributionContext.scala:293)\n\tat scala.util.DynamicVariable.withValue(DynamicVariable.scala:62)\n\tat com.databricks.logging.AttributionContext$.withValue(AttributionContext.scala:289)\n\tat com.databricks.logging.AttributionContextTracing.withAttributionContext(AttributionContextTracing.scala:47)\n\tat com.databricks.logging.AttributionContextTracing.withAttributionContext$(AttributionContextTracing.scala:44)\n\tat com.databricks.logging.activity.ActivityContextFactory$.withAttributionContext(ActivityContextFactory.scala:53)\n\tat com.databricks.logging.activity.ActivityContextFactory$.$anonfun$withActivityInternal$3(ActivityContextFactory.scala:831)\n\tat com.databricks.context.integrity.IntegrityCheckContext$ThreadLocalStorage$.withValue(IntegrityCheckContext.scala:73)\n\tat com.databricks.logging.activity.ActivityContextFactory$.withActivityInternal(ActivityContextFactory.scala:794)\n\tat com.databricks.logging.activity.ActivityContextFactory$.withActivityInternal(ActivityContextFactory.scala:776)\n\tat com.databricks.logging.activity.ActivityContextFactory$.$anonfun$withServiceRequestActivity$15(ActivityContextFactory.scala:285)\n\tat com.databricks.logging.AttributionContextTracing.$anonfun$withAttributionContext$1(AttributionContextTracing.scala:49)\n\tat com.databricks.logging.AttributionContext$.$anonfun$withValue$1(AttributionContext.scala:293)\n\tat scala.util.DynamicVariable.withValue(DynamicVariable.scala:62)\n\tat com.databricks.logging.AttributionContext$.withValue(AttributionContext.scala:289)\n\tat com.databricks.logging.AttributionContextTracing.withAttributionContext(AttributionContextTracing.scala:47)\n\tat com.databricks.logging.AttributionContextTracing.withAttributionContext$(AttributionContextTracing.scala:44)\n\tat com.databricks.logging.activity.ActivityContextFactory$.withAttributionContext(ActivityContextFactory.scala:53)\n\tat com.databricks.logging.activity.ActivityContextFactory$.withServiceRequestActivity(ActivityContextFactory.scala:285)\n\tat com.databricks.rpc.JettyServer$RequestManager.handleHttp(JettyServer.scala:513)\n\tat com.databricks.rpc.JettyServer$RequestManager.doPost(JettyServer.scala:408)\n\tat javax.servlet.http.HttpServlet.service(HttpServlet.java:665)\n\tat com.databricks.rpc.HttpServletWithPatch.service(HttpServletWithPatch.scala:33)\n\tat javax.servlet.http.HttpServlet.service(HttpServlet.java:750)\n\tat org.eclipse.jetty.servlet.ServletHolder.handle(ServletHolder.java:799)\n\tat org.eclipse.jetty.servlet.ServletHandler.doHandle(ServletHandler.java:554)\n\tat org.eclipse.jetty.server.handler.ScopedHandler.nextScope(ScopedHandler.java:190)\n\tat org.eclipse.jetty.servlet.ServletHandler.doScope(ServletHandler.java:505)\n\tat org.eclipse.jetty.server.handler.ScopedHandler.handle(ScopedHandler.java:141)\n\tat org.eclipse.jetty.server.handler.HandlerWrapper.handle(HandlerWrapper.java:127)\n\tat org.eclipse.jetty.server.Server.handle(Server.java:516)\n\tat org.eclipse.jetty.server.HttpChannel.lambda$handle$1(HttpChannel.java:487)\n\tat org.eclipse.jetty.server.HttpChannel.dispatch(HttpChannel.java:732)\n\tat org.eclipse.jetty.server.HttpChannel.handle(HttpChannel.java:479)\n\tat org.eclipse.jetty.server.HttpConnection.onFillable(HttpConnection.java:277)\n\tat org.eclipse.jetty.io.AbstractConnection$ReadCallback.succeeded(AbstractConnection.java:311)\n\tat org.eclipse.jetty.io.FillInterest.fillable(FillInterest.java:105)\n\tat org.eclipse.jetty.io.ChannelEndPoint$1.run(ChannelEndPoint.java:104)\n\tat org.eclipse.jetty.util.thread.strategy.EatWhatYouKill.runTask(EatWhatYouKill.java:338)\n\tat org.eclipse.jetty.util.thread.strategy.EatWhatYouKill.doProduce(EatWhatYouKill.java:315)\n\tat org.eclipse.jetty.util.thread.strategy.EatWhatYouKill.tryProduce(EatWhatYouKill.java:173)\n\tat org.eclipse.jetty.util.thread.strategy.EatWhatYouKill.run(EatWhatYouKill.java:131)\n\tat org.eclipse.jetty.util.thread.ReservedThreadExecutor$ReservedThread.run(ReservedThreadExecutor.java:409)\n\tat com.databricks.rpc.InstrumentedQueuedThreadPool$$anon$1.$anonfun$run$2(InstrumentedQueuedThreadPool.scala:110)\n\tat scala.runtime.java8.JFunction0$mcV$sp.apply(JFunction0$mcV$sp.java:23)\n\tat com.databricks.logging.AttributionContextTracing.$anonfun$withAttributionContext$1(AttributionContextTracing.scala:49)\n\tat com.databricks.logging.AttributionContext$.$anonfun$withValue$1(AttributionContext.scala:293)\n\tat scala.util.DynamicVariable.withValue(DynamicVariable.scala:62)\n\tat com.databricks.logging.AttributionContext$.withValue(AttributionContext.scala:289)\n\tat com.databricks.logging.AttributionContextTracing.withAttributionContext(AttributionContextTracing.scala:47)\n\tat com.databricks.logging.AttributionContextTracing.withAttributionContext$(AttributionContextTracing.scala:44)\n\tat com.databricks.rpc.InstrumentedQueuedThreadPool.withAttributionContext(InstrumentedQueuedThreadPool.scala:45)\n\tat com.databricks.rpc.InstrumentedQueuedThreadPool$$anon$1.$anonfun$run$1(InstrumentedQueuedThreadPool.scala:110)\n\tat scala.runtime.java8.JFunction0$mcV$sp.apply(JFunction0$mcV$sp.java:23)\n\tat com.databricks.instrumentation.QueuedThreadPoolInstrumenter.trackActiveThreads(QueuedThreadPoolInstrumenter.scala:132)\n\tat com.databricks.instrumentation.QueuedThreadPoolInstrumenter.trackActiveThreads$(QueuedThreadPoolInstrumenter.scala:129)\n\tat com.databricks.rpc.InstrumentedQueuedThreadPool.trackActiveThreads(InstrumentedQueuedThreadPool.scala:45)\n\tat com.databricks.rpc.InstrumentedQueuedThreadPool$$anon$1.run(InstrumentedQueuedThreadPool.scala:92)\n\tat org.eclipse.jetty.util.thread.QueuedThreadPool.runJob(QueuedThreadPool.java:883)\n\tat org.eclipse.jetty.util.thread.QueuedThreadPool$Runner.run(QueuedThreadPool.java:1034)\n\tat java.lang.Thread.run(Thread.java:840)\n\n+-------------+--------------------+--------------+--------------------+------+------------------+-------+-----+-------+---------------+---------------+--------+--------------------+\n|inspection_id|       business_name|license_number|       facility_type|  risk|    street_address|   city|state|zipcode|inspection_date|inspection_type|  result|          violations|\n+-------------+--------------------+--------------+--------------------+------+------------------+-------+-----+-------+---------------+---------------+--------+--------------------+\n|      2589123|LADYBUG MDL LINCOLN1|       2631866|Daycare (Under 2 ...|  High|6100 N LINCOLN AVE|Chicago|   IL|  60659|     2024-02-05|        License|    Pass|             Unknown|\n|      2612492|HAROLDS CHICKEN C...|       2807913|          Restaurant|Medium|806- 808 E 79TH ST|Chicago|   IL|  60619|     2025-02-20|      Complaint|No Entry|             Unknown|\n|      2568082|TONY'S STEAK & LE...|       2851533|          Restaurant|  High|    1757 W 87TH ST|Chicago|   IL|  60620|     2022-12-06|        Canvass|    Fail|\"10. ADEQUATE HAN...|\n|      2570409|AFC Sushi @ Jewel...|       2334636|       Grocery Store|  High|   5343 N BROADWAY|Chicago|   IL|  60640|     2023-01-30|        Canvass|    Pass|55. PHYSICAL FACI...|\n|      2497976|          PALENQUE 2|       2781241|          Restaurant|  High| 4316 S PULASKI RD|Chicago|   IL|  60632|     2021-04-08|        License|    Pass|39. CONTAMINATION...|\n+-------------+--------------------+--------------+--------------------+------+------------------+-------+-----+-------+---------------+---------------+--------+--------------------+\nonly showing top 5 rows\n\nroot\n |-- inspection_id: integer (nullable = true)\n |-- business_name: string (nullable = true)\n |-- license_number: integer (nullable = true)\n |-- facility_type: string (nullable = true)\n |-- risk: string (nullable = true)\n |-- street_address: string (nullable = true)\n |-- city: string (nullable = true)\n |-- state: string (nullable = true)\n |-- zipcode: integer (nullable = true)\n |-- inspection_date: date (nullable = true)\n |-- inspection_type: string (nullable = true)\n |-- result: string (nullable = true)\n |-- violations: string (nullable = true)\n\nTotal rows: 73113\n"
     ]
    }
   ],
   "source": [
    "# Define storage account info\n",
    "storage_account_name = \"foodinspection2025stg\"\n",
    "storage_account_key = \"uI7JBnr/H6GB9Qhcglge+1gciYSvBpIm/G98cSsiJp6Cos+kqBfDQClmGCWWpZ+wXGtP3SsVeCbj+AStiA9Jvg==\"\n",
    "container_name = \"silver\"\n",
    "mount_point = \"/mnt/silver\"\n",
    "\n",
    "# Configure the mount with the storage credentials\n",
    "configs = {\n",
    "  f\"fs.azure.account.key.{storage_account_name}.blob.core.windows.net\": storage_account_key\n",
    "}\n",
    "\n",
    "try:\n",
    "  dbutils.fs.mount(\n",
    "    source = f\"wasbs://{container_name}@{storage_account_name}.blob.core.windows.net\",\n",
    "    mount_point = mount_point,\n",
    "    extra_configs = configs\n",
    "  )\n",
    "  print(f\"Successfully mounted {container_name} to {mount_point}\")\n",
    "except Exception as e:\n",
    "  print(f\"Mount point already exists or error: {str(e)}\")\n",
    "\n",
    "df_chicago = spark.read.parquet(f\"{mount_point}/chicago_parquet.parquet\")\n",
    "\n",
    "# Display sample data\n",
    "df_chicago.show(5)\n",
    "\n",
    "# Get schema information\n",
    "df_chicago.printSchema()\n",
    "\n",
    "# Count rows\n",
    "row_count = df_chicago.count()\n",
    "print(f\"Total rows: {row_count}\")"
   ]
  },
  {
   "cell_type": "markdown",
   "metadata": {
    "application/vnd.databricks.v1+cell": {
     "cellMetadata": {
      "byteLimit": 2048000,
      "rowLimit": 10000
     },
     "inputWidgets": {},
     "nuid": "8a18244e-dcb8-4f31-8ad7-52d14b239701",
     "showTitle": false,
     "tableResultSettingsMap": {},
     "title": ""
    }
   },
   "source": [
    "### Transformations\n",
    "\n",
    "Lookup license_number to fill facility type, if exists.\n",
    "\n",
    "Split violations into code, description, and comments\n",
    "\n",
    "Rules followed for transformation:\n",
    "1. if violation code is not present, and description is not present -> insert (9999, 'Unknown')\n",
    "2. if violation code is not present, and description is present -> insert (-1, description)\n",
    "3. if violation code is present, and description is present -> insert (code, desc)"
   ]
  },
  {
   "cell_type": "code",
   "execution_count": 0,
   "metadata": {
    "application/vnd.databricks.v1+cell": {
     "cellMetadata": {
      "byteLimit": 2048000,
      "rowLimit": 10000
     },
     "inputWidgets": {},
     "nuid": "a9185063-291a-4adb-b9cd-16c55ef2e4ba",
     "showTitle": false,
     "tableResultSettingsMap": {},
     "title": ""
    }
   },
   "outputs": [
    {
     "output_type": "stream",
     "name": "stdout",
     "output_type": "stream",
     "text": [
      "+--------------+-------------+-------------+\n|license_number|facility_type|business_name|\n+--------------+-------------+-------------+\n|2967251       |Restaurant   |MANO A MANO  |\n|2967251       |Restaurant   |MANO A MANO  |\n|2967251       |Unknown      |MANO A MANO  |\n+--------------+-------------+-------------+\n\n"
     ]
    }
   ],
   "source": [
    "from pyspark.sql import functions as F\n",
    "\n",
    "df_chicago.filter(F.col(\"license_number\") == 2967251).select(\"license_number\", \"facility_type\", \"business_name\").show(truncate=False)"
   ]
  },
  {
   "cell_type": "code",
   "execution_count": 0,
   "metadata": {
    "application/vnd.databricks.v1+cell": {
     "cellMetadata": {
      "byteLimit": 2048000,
      "rowLimit": 10000
     },
     "inputWidgets": {},
     "nuid": "2a8efa15-fc0a-40cb-8ad7-8d626f493304",
     "showTitle": false,
     "tableResultSettingsMap": {},
     "title": ""
    }
   },
   "outputs": [],
   "source": [
    "# Create a mapping of license_number → known facility_type\n",
    "facility_lookup = df_chicago \\\n",
    "    .filter(F.col(\"facility_type\") != \"Unknown\") \\\n",
    "    .groupBy(\"license_number\") \\\n",
    "    .agg(F.first(\"facility_type\", ignorenulls=True).alias(\"facility_type\"))\n",
    "\n",
    "\n",
    "# Join the original data with the lookup table on license_number\n",
    "df_enriched = df_chicago.alias(\"main\") \\\n",
    "    .join(\n",
    "        facility_lookup.alias(\"lookup\"),\n",
    "        on=\"license_number\",\n",
    "        how=\"left\"\n",
    "    )\n",
    "\n",
    "# Replace 'Unknown' with matched value using coalesce\n",
    "df_chicago_data = df_enriched.withColumn(\n",
    "    \"facility_type_filled\",\n",
    "    F.coalesce(\n",
    "        F.when(F.col(\"main.facility_type\") == \"Unknown\", F.col(\"lookup.facility_type\")),\n",
    "        F.col(\"main.facility_type\")\n",
    "    )\n",
    ").drop(\"facility_type\").withColumnRenamed(\"facility_type_filled\", \"facility_type\")\n"
   ]
  },
  {
   "cell_type": "code",
   "execution_count": 0,
   "metadata": {
    "application/vnd.databricks.v1+cell": {
     "cellMetadata": {
      "byteLimit": 2048000,
      "rowLimit": 10000
     },
     "inputWidgets": {},
     "nuid": "c0f57273-2c22-4f1d-b885-dc285bf0c8d1",
     "showTitle": false,
     "tableResultSettingsMap": {},
     "title": ""
    }
   },
   "outputs": [
    {
     "output_type": "stream",
     "name": "stdout",
     "output_type": "stream",
     "text": [
      "+--------------+-------------+-------------+\n|license_number|business_name|facility_type|\n+--------------+-------------+-------------+\n|       2967251|  MANO A MANO|   Restaurant|\n|       2967251|  MANO A MANO|   Restaurant|\n|       2967251|  MANO A MANO|   Restaurant|\n+--------------+-------------+-------------+\n\n"
     ]
    }
   ],
   "source": [
    "df_chicago_data.filter(F.col('license_number')==2967251).select(\"license_number\", \"business_name\",\"facility_type\").show()"
   ]
  },
  {
   "cell_type": "code",
   "execution_count": 0,
   "metadata": {
    "application/vnd.databricks.v1+cell": {
     "cellMetadata": {
      "byteLimit": 2048000,
      "rowLimit": 10000
     },
     "inputWidgets": {},
     "nuid": "1de6ca56-47bc-4faa-8ede-98a740986c29",
     "showTitle": false,
     "tableResultSettingsMap": {},
     "title": ""
    }
   },
   "outputs": [
    {
     "output_type": "stream",
     "name": "stdout",
     "output_type": "stream",
     "text": [
      "+-------------+-------------------------------------------------+--------------------------------------------------------+---------------------------------------------------------------------------------------------------------------------------------------------------------------------------------------------------------------------------------------------------------------------------------------------------------------------------------------------------------------------------------------------------------------------------------------------------------------------------------------------------------------------------------------------------------------------------------------------------------------------------------------------------------------------------------------------------------------------+-----------------------------------------------------------------------------------------------------------------------------------------------------------------------------------------------------------------------------------------------------------------------------------------------------------------------------------------------------------------------------------------------------------------------------------------------------------------------------------------------------------------------------------------------------------------------------------------------------------------------------------------------------------------------------------------------------------------------------------------------------------------------------------------------------------------------------------------------------------------------------------------------------------------------------------------------------------------------------------------------------------------------------------------------------------------------------------------------------------------------------------------------------------------------------------------------------------------------------------------------------------------------------------------------------------------------------------------------------------------------------------------------------------------------------------------------------------------------------------------------------------------------------------------------------------------------------------------------------------------------------------+\n|inspection_id|business_name                                    |violation_code                                          |violation_description                                                                                                                                                                                                                                                                                                                                                                                                                                                                                                                                                                                                                                                                                                |violation_comments                                                                                                                                                                                                                                                                                                                                                                                                                                                                                                                                                                                                                                                                                                                                                                                                                                                                                                                                                                                                                                                                                                                                                                                                                                                                                                                                                                                                                                                                                                                                                                                                                 |\n+-------------+-------------------------------------------------+--------------------------------------------------------+---------------------------------------------------------------------------------------------------------------------------------------------------------------------------------------------------------------------------------------------------------------------------------------------------------------------------------------------------------------------------------------------------------------------------------------------------------------------------------------------------------------------------------------------------------------------------------------------------------------------------------------------------------------------------------------------------------------------+-----------------------------------------------------------------------------------------------------------------------------------------------------------------------------------------------------------------------------------------------------------------------------------------------------------------------------------------------------------------------------------------------------------------------------------------------------------------------------------------------------------------------------------------------------------------------------------------------------------------------------------------------------------------------------------------------------------------------------------------------------------------------------------------------------------------------------------------------------------------------------------------------------------------------------------------------------------------------------------------------------------------------------------------------------------------------------------------------------------------------------------------------------------------------------------------------------------------------------------------------------------------------------------------------------------------------------------------------------------------------------------------------------------------------------------------------------------------------------------------------------------------------------------------------------------------------------------------------------------------------------------+\n|2589123      |LADYBUG MDL LINCOLN1                             |[-9999]                                                 |[Unknown]                                                                                                                                                                                                                                                                                                                                                                                                                                                                                                                                                                                                                                                                                                            |[Unknown]                                                                                                                                                                                                                                                                                                                                                                                                                                                                                                                                                                                                                                                                                                                                                                                                                                                                                                                                                                                                                                                                                                                                                                                                                                                                                                                                                                                                                                                                                                                                                                                                                          |\n|2612492      |HAROLDS CHICKEN CHATHAM #82                      |[-9999]                                                 |[Unknown]                                                                                                                                                                                                                                                                                                                                                                                                                                                                                                                                                                                                                                                                                                            |[Unknown]                                                                                                                                                                                                                                                                                                                                                                                                                                                                                                                                                                                                                                                                                                                                                                                                                                                                                                                                                                                                                                                                                                                                                                                                                                                                                                                                                                                                                                                                                                                                                                                                                          |\n|2568082      |TONY'S STEAK & LEMONADE SHRIMP MAX FISH & CHICKEN|[10, 37, 38, 38, 41, 47, 49, 55, 55, 55, 55, 56, 56, 58]|[ADEQUATE HANDWASHING SINKS PROPERLY SUPPLIED AND ACCESSIBLE, FOOD PROPERLY LABELED; ORIGINAL CONTAINER, INSECTS, RODENTS, & ANIMALS NOT PRESENT, INSECTS, RODENTS, & ANIMALS NOT PRESENT, WIPING CLOTHS: PROPERLY USED & STORED, FOOD & NON-FOOD CONTACT SURFACES CLEANABLE, PROPERLY DESIGNED, CONSTRUCTED & USED, NON-FOOD/FOOD CONTACT SURFACES CLEAN, PHYSICAL FACILITIES INSTALLED, MAINTAINED & CLEAN, PHYSICAL FACILITIES INSTALLED, MAINTAINED & CLEAN, PHYSICAL FACILITIES INSTALLED, MAINTAINED & CLEAN, PHYSICAL FACILITIES INSTALLED, MAINTAINED & CLEAN, ADEQUATE VENTILATION & LIGHTING; DESIGNATED AREAS USED, ADEQUATE VENTILATION & LIGHTING; DESIGNATED AREAS USED, ALLERGEN TRAINING AS REQUIRED]|[OBSERVED NO HAND WASHING SIGN FOR REAR DISH WASHING AREA HAND SINK MUST PROVIDE AND MAINTAIN., MUST LABEL FOOD STORAGE CONTAINERS WHEN FOOD IS NOT IN ORIGINAL PACKAGE., OBSERVED APPX. 25 OR MORE LIVE SMALL FLIES ON WALLS IN MOPSINK AREA,ON UPPER WALLS IN FRONT PREP AREA,FLYING AROUND MIDDLE PREP AREA AND DISH WASHING AREA. RECOMMENDED TO HAVE A PEST CONTROL OPERATOR TO SERVICE PREMISES ON OR AFTER 12/6/22.(PRIORITY FOUNDATION 7-38-020(A)(CITATION ISSUED), OBSERVED AN APPX.\"\"1/2-3/4\"\" GAP ALONG BOTTOM OF REAR DOOR MUST MAKE DOOR TIGHT FITTING., MUST STORE WIPING CLOTHS IN A SANITIZING SOLUTION WHEN NOT IN USE AND NOT ON TOPSIDE OF CUTTING BOARDS AND PREP TABLES., MUST REMOVE RUST FROM WALK IN COOLER SHELVING UNITS., MUST CLEAN GREASE AND FOOD DEBRIS BUILD UP FROM WALK IN COOLER -FANGUARD COVERS AND SHELVING UNITS,FRYER CABINETS, PREP TABLES,ROLLING CARTS., MUST SCRAPE AND PAINT CHIPPING PAINT ON WALL IN LOBBY AREA., MUST CLEAN GREASE AND FOOD DEBRIS BUILD UP FROM FLOOR BEHIND AND UNDER FRYER CABINETS,FLOOR DRAIN UNDER 1- COMPARTMENT SINK., MUST CLEAN FOOD DEBRIS BUILD UP AND FOOD SPLATTER FROM DOOR OF OFFICE AND WALLS BEHIND COOKING EQUIPMENT., MUST CLEAN EXCESSIVE DUST BUILD UP FROM CEILING TILES AND VENTILATION UNITS IN CEILING THROUGHOUT PREMISES.MUST REMOVE BLACK MOLDED CAULKING FROM WALL NEXT TO 1- COMPARTMENT SINK., MUST CLEAN GREASE AND FOOD DEBRIS BUILD UP FROM FILTERS AND HOOD AT COOKING EQUIPMENT., MUST REPLACE BURNTOUT LIGHT AT HOOD OF COOKING EQUIPMENT., OBSERVED NO FOOD ALLERGEN TRAINING FOR FOOD MANAGERS MUST PROVIDE AND MAINTAIN.]|\n|2570409      |AFC Sushi @ Jewel Osco #3443                     |[55]                                                    |[PHYSICAL FACILITIES INSTALLED, MAINTAINED & CLEAN]                                                                                                                                                                                                                                                                                                                                                                                                                                                                                                                                                                                                                                                                  |[OBSERVED SOME FOOD DEBRIS ON FLOOR IN PREPARATION AREA. INSTRUCTED THE PERSON IN CHARGE TO DETAIL CLEAN AND MAINTAIN.]                                                                                                                                                                                                                                                                                                                                                                                                                                                                                                                                                                                                                                                                                                                                                                                                                                                                                                                                                                                                                                                                                                                                                                                                                                                                                                                                                                                                                                                                                                            |\n|2497976      |PALENQUE 2                                       |[39, 47, 58]                                            |[CONTAMINATION PREVENTED DURING FOOD PREPARATION, STORAGE & DISPLAY, FOOD & NON-FOOD CONTACT SURFACES CLEANABLE, PROPERLY DESIGNED, CONSTRUCTED & USED, ALLERGEN TRAINING AS REQUIRED]                                                                                                                                                                                                                                                                                                                                                                                                                                                                                                                               |[NO SPLASHGUARD AT FRONT HANDSINK NEXT TO TABLE. INSTD TO PROVIDE AND MAINTAIN, RAW WOOD ON BOTTOM OF STORAGE SHELF. INSTD TO SEAL SO AS TO AN EASILY CLEANABLE, NON POROUS SURFACE, MISSING ALLERGEN TRAINING FOR 1 CITY OF CHICAGO CERTIFIED MANAGER. INSTD TO OBTAIN TRAINING  AND MAINTAIN VERIFICATION]                                                                                                                                                                                                                                                                                                                                                                                                                                                                                                                                                                                                                                                                                                                                                                                                                                                                                                                                                                                                                                                                                                                                                                                                                                                                                                                       |\n+-------------+-------------------------------------------------+--------------------------------------------------------+---------------------------------------------------------------------------------------------------------------------------------------------------------------------------------------------------------------------------------------------------------------------------------------------------------------------------------------------------------------------------------------------------------------------------------------------------------------------------------------------------------------------------------------------------------------------------------------------------------------------------------------------------------------------------------------------------------------------+-----------------------------------------------------------------------------------------------------------------------------------------------------------------------------------------------------------------------------------------------------------------------------------------------------------------------------------------------------------------------------------------------------------------------------------------------------------------------------------------------------------------------------------------------------------------------------------------------------------------------------------------------------------------------------------------------------------------------------------------------------------------------------------------------------------------------------------------------------------------------------------------------------------------------------------------------------------------------------------------------------------------------------------------------------------------------------------------------------------------------------------------------------------------------------------------------------------------------------------------------------------------------------------------------------------------------------------------------------------------------------------------------------------------------------------------------------------------------------------------------------------------------------------------------------------------------------------------------------------------------------------+\nonly showing top 5 rows\n\n"
     ]
    }
   ],
   "source": [
    "\n",
    "df_chicago_copy = df_chicago_data.select(\"*\")\n",
    "\n",
    "df_arrays = (\n",
    "    df_chicago_copy\n",
    "    # strip leading/trailing quotes (if any) then split & drop empty pieces\n",
    "    .withColumn(\n",
    "        \"violations_arr\",\n",
    "        F.array_remove(\n",
    "            F.split(\n",
    "                F.regexp_replace(F.col(\"violations\"), r'^\"+|\"+$', \"\"),\n",
    "                r\"\\s*\\|\\s*\"\n",
    "            ),\n",
    "            \"\"  \n",
    "        )\n",
    "    )\n",
    "    .withColumn(\"violation_code\",\n",
    "        F.transform(\"violations_arr\", lambda v: \n",
    "            F.when(F.lower(F.trim(v)) == \"unknown\", F.lit(-9999))\n",
    "                .when(F.regexp_extract(v, r\"^(\\d+)\\.\", 1) != \"\",\n",
    "                    F.regexp_extract(v, r\"^(\\d+)\\.\", 1).cast(\"int\"))\n",
    "                .when((F.regexp_extract(v, r\"^(\\d+)\\.\", 1) == \"\") &\n",
    "                    (F.regexp_extract(v, r\"^\\d+\\.\\s*([^-]+)\", 1) != \"\"), \n",
    "                    F.lit(-1))\n",
    "                .otherwise(F.lit(-9999))\n",
    "        )\n",
    "    )\n",
    "    # build an array of descriptions\n",
    "    .withColumn(\"violation_description\",\n",
    "        F.transform(\"violations_arr\", lambda v:\n",
    "            F.when(F.lower(F.trim(v)) == \"unknown\", F.lit(\"Unknown\"))\n",
    "             .when(\n",
    "                 F.regexp_extract(F.trim(v),\n",
    "                                  r\"^\\d+\\.\\s*(.*?)\\s*-\\s*Comments:\", 1) != \"\",\n",
    "                 F.regexp_extract(F.trim(v),\n",
    "                                  r\"^\\d+\\.\\s*(.*?)\\s*-\\s*Comments:\", 1)\n",
    "             )\n",
    "             .otherwise(F.lit(\"Unknown\"))\n",
    "        )\n",
    "    )\n",
    "    # build an array of comments\n",
    "    .withColumn(\"violation_comments\",\n",
    "        F.transform(\"violations_arr\", lambda v:\n",
    "            F.when(F.lower(F.trim(v)) == \"unknown\", F.lit(\"Unknown\"))\n",
    "                .when(F.regexp_extract(v, r\"Comments:\\s*(.*)\", 1) != \"\",\n",
    "                    F.regexp_extract(v, r\"Comments:\\s*(.*)\", 1))\n",
    "                .otherwise(F.lit(\"Unknown\"))\n",
    "        )\n",
    "    )\n",
    "    # clean up\n",
    "    .drop(\"violations_arr\")\n",
    ")\n",
    "\n",
    "df_arrays.select(\"inspection_id\", \"business_name\",\n",
    "                 \"violation_code\",\n",
    "                 \"violation_description\",\n",
    "                 \"violation_comments\"\n",
    ").show(5, truncate=False)\n"
   ]
  },
  {
   "cell_type": "code",
   "execution_count": 0,
   "metadata": {
    "application/vnd.databricks.v1+cell": {
     "cellMetadata": {
      "byteLimit": 2048000,
      "rowLimit": 10000
     },
     "inputWidgets": {},
     "nuid": "65d9aa20-8adf-45a3-a2a6-7085d08d5b7a",
     "showTitle": false,
     "tableResultSettingsMap": {},
     "title": ""
    }
   },
   "outputs": [
    {
     "output_type": "stream",
     "name": "stdout",
     "output_type": "stream",
     "text": [
      "root\n |-- license_number: integer (nullable = true)\n |-- inspection_id: integer (nullable = true)\n |-- business_name: string (nullable = true)\n |-- risk: string (nullable = true)\n |-- street_address: string (nullable = true)\n |-- city: string (nullable = true)\n |-- state: string (nullable = true)\n |-- zipcode: integer (nullable = true)\n |-- inspection_date: date (nullable = true)\n |-- inspection_type: string (nullable = true)\n |-- result: string (nullable = true)\n |-- violations: string (nullable = true)\n |-- facility_type: string (nullable = true)\n |-- violation_code: array (nullable = true)\n |    |-- element: integer (containsNull = true)\n |-- violation_description: array (nullable = true)\n |    |-- element: string (containsNull = false)\n |-- violation_comments: array (nullable = true)\n |    |-- element: string (containsNull = false)\n\n"
     ]
    }
   ],
   "source": [
    "df_arrays.printSchema()\n"
   ]
  },
  {
   "cell_type": "markdown",
   "metadata": {
    "application/vnd.databricks.v1+cell": {
     "cellMetadata": {
      "byteLimit": 2048000,
      "rowLimit": 10000
     },
     "inputWidgets": {},
     "nuid": "f55032d1-82e9-418b-bd52-4df32eb0decc",
     "showTitle": false,
     "tableResultSettingsMap": {},
     "title": ""
    }
   },
   "source": [
    "Check if the length of arrays in violation code, description and comments column is the same"
   ]
  },
  {
   "cell_type": "code",
   "execution_count": 0,
   "metadata": {
    "application/vnd.databricks.v1+cell": {
     "cellMetadata": {
      "byteLimit": 2048000,
      "rowLimit": 10000
     },
     "inputWidgets": {},
     "nuid": "288a0e28-bedd-47ac-8ae7-56f8ce129662",
     "showTitle": false,
     "tableResultSettingsMap": {},
     "title": ""
    }
   },
   "outputs": [
    {
     "output_type": "stream",
     "name": "stdout",
     "output_type": "stream",
     "text": [
      "+-------------+--------+--------+--------+-----------------+\n|inspection_id|len_code|len_desc|len_comm|arrays_consistent|\n+-------------+--------+--------+--------+-----------------+\n|2589123      |1       |1       |1       |true             |\n|2612492      |1       |1       |1       |true             |\n|2568082      |14      |14      |14      |true             |\n|2570409      |1       |1       |1       |true             |\n|2497976      |3       |3       |3       |true             |\n|2500224      |20      |20      |20      |true             |\n|2576428      |1       |1       |1       |true             |\n|2561780      |1       |1       |1       |true             |\n|2611510      |1       |1       |1       |true             |\n|2605098      |1       |1       |1       |true             |\n+-------------+--------+--------+--------+-----------------+\nonly showing top 10 rows\n\n"
     ]
    }
   ],
   "source": [
    "# compute lengths and a consistency flag\n",
    "df_check_consistency = df_arrays \\\n",
    "  .withColumn(\"len_code\", F.size(\"violation_code\")) \\\n",
    "  .withColumn(\"len_desc\", F.size(\"violation_description\")) \\\n",
    "  .withColumn(\"len_comm\", F.size(\"violation_comments\")) \\\n",
    "  .withColumn(\"arrays_consistent\",\n",
    "      (F.col(\"len_code\") == F.col(\"len_desc\")) &\n",
    "      (F.col(\"len_code\") == F.col(\"len_comm\"))\n",
    "  )\n",
    "\n",
    "# view every row’s lengths + consistency\n",
    "df_check_consistency.select(\"inspection_id\",\"len_code\",\"len_desc\",\"len_comm\",\"arrays_consistent\") \\\n",
    "        .show(10,truncate=False)\n"
   ]
  },
  {
   "cell_type": "code",
   "execution_count": 0,
   "metadata": {
    "application/vnd.databricks.v1+cell": {
     "cellMetadata": {
      "byteLimit": 2048000,
      "rowLimit": 10000
     },
     "inputWidgets": {},
     "nuid": "e0e794e8-1b0b-4c3f-a34d-9eb266253d93",
     "showTitle": false,
     "tableResultSettingsMap": {},
     "title": ""
    }
   },
   "outputs": [
    {
     "output_type": "stream",
     "name": "stdout",
     "output_type": "stream",
     "text": [
      "Rows with inconsistent array‐lengths: 0\n"
     ]
    }
   ],
   "source": [
    "# count how many mismatches there are\n",
    "mismatch_count = df_check_consistency.filter(~F.col(\"arrays_consistent\")).count()\n",
    "print(f\"Rows with inconsistent array‐lengths: {mismatch_count}\")"
   ]
  },
  {
   "cell_type": "markdown",
   "metadata": {
    "application/vnd.databricks.v1+cell": {
     "cellMetadata": {
      "byteLimit": 2048000,
      "rowLimit": 10000
     },
     "inputWidgets": {},
     "nuid": "389cd716-7136-4fbf-9901-215f49fbb41d",
     "showTitle": false,
     "tableResultSettingsMap": {},
     "title": ""
    }
   },
   "source": [
    "Check how many rows have no code and Unknown description"
   ]
  },
  {
   "cell_type": "code",
   "execution_count": 0,
   "metadata": {
    "application/vnd.databricks.v1+cell": {
     "cellMetadata": {
      "byteLimit": 2048000,
      "rowLimit": 10000
     },
     "inputWidgets": {},
     "nuid": "869cb390-3928-4aa6-85f5-4853370d3717",
     "showTitle": false,
     "tableResultSettingsMap": {},
     "title": ""
    }
   },
   "outputs": [
    {
     "output_type": "stream",
     "name": "stdout",
     "output_type": "stream",
     "text": [
      "+-------------+--------------+----------------------------------------------------------------------------------------------+\n|inspection_id|violation_code|violation_description                                                                         |\n+-------------+--------------+----------------------------------------------------------------------------------------------+\n|2589123      |[-9999]       |[Unknown]                                                                                     |\n|2612492      |[-9999]       |[Unknown]                                                                                     |\n|2576428      |[-9999]       |[Unknown]                                                                                     |\n|2561780      |[-9999]       |[Unknown]                                                                                     |\n|2611510      |[-9999]       |[Unknown]                                                                                     |\n|2605098      |[-9999]       |[Unknown]                                                                                     |\n|2588497      |[-9999]       |[Unknown]                                                                                     |\n|2521757      |[-9999]       |[Unknown]                                                                                     |\n|2532162      |[-9999]       |[Unknown]                                                                                     |\n|2566847      |[-9999]       |[Unknown]                                                                                     |\n|2572008      |[-9999]       |[Unknown]                                                                                     |\n|2545298      |[-9999]       |[Unknown]                                                                                     |\n|2609992      |[-9999]       |[Unknown]                                                                                     |\n|2591384      |[-9999]       |[Unknown]                                                                                     |\n|2563550      |[-9999]       |[Unknown]                                                                                     |\n|2582900      |[-9999]       |[Unknown]                                                                                     |\n|2587214      |[-9999]       |[Unknown]                                                                                     |\n|2537650      |[-9999]       |[Unknown]                                                                                     |\n|2570181      |[-9999]       |[Unknown]                                                                                     |\n|2561757      |[16, 38, 57]  |[FOOD-CONTACT SURFACES: CLEANED & SANITIZED, INSECTS, RODENTS, & ANIMALS NOT PRESENT, Unknown]|\n+-------------+--------------+----------------------------------------------------------------------------------------------+\nonly showing top 20 rows\n\n"
     ]
    }
   ],
   "source": [
    "df_unknown = df_arrays.filter(\n",
    "    F.expr(\"exists(violation_description, desc -> desc = 'Unknown')\")\n",
    ")\n",
    "\n",
    "df_unknown.select(\"inspection_id\", \"violation_code\", \"violation_description\").show(truncate=False)"
   ]
  },
  {
   "cell_type": "markdown",
   "metadata": {
    "application/vnd.databricks.v1+cell": {
     "cellMetadata": {
      "byteLimit": 2048000,
      "rowLimit": 10000
     },
     "inputWidgets": {},
     "nuid": "426d1600-bf8b-4015-afef-3fd20c9b0c23",
     "showTitle": false,
     "tableResultSettingsMap": {},
     "title": ""
    }
   },
   "source": [
    "### Flatten the data"
   ]
  },
  {
   "cell_type": "code",
   "execution_count": 0,
   "metadata": {
    "application/vnd.databricks.v1+cell": {
     "cellMetadata": {
      "byteLimit": 2048000,
      "rowLimit": 10000
     },
     "inputWidgets": {},
     "nuid": "16482332-9198-496d-b1ec-120e4130d7b7",
     "showTitle": false,
     "tableResultSettingsMap": {},
     "title": ""
    }
   },
   "outputs": [
    {
     "output_type": "stream",
     "name": "stdout",
     "output_type": "stream",
     "text": [
      "+--------------+-------------+-------------------------------------------------+------+------------------+-------+-----+-------+---------------+---------------+--------+---------------------------------------------------------------------------------------------------------------------------------------------------------------------------------------------------------------------------------------------------------------------------------------------------------------------------------------------------------------------------------------------------------------------------------------------------------------------------------------------------------------------------------------------------------------------------------------------------------------------------------------------------------------------------------------------------------------------------------------------------------------------------------------------------------------------------------------------------------------------------------------------------------------------------------------------------------------------------------------------------------------------------------------------------------------------------------------------------------------------------------------------------------------------------------------------------------------------------------------------------------------------------------------------------------------------------------------------------------------------------------------------------------------------------------------------------------------------------------------------------------------------------------------------------------------------------------------------------------------------------------------------------------------------------------------------------------------------------------------------------------------------------------------------------------------------------------------------------------------------------------------------------------------------------------------------------------------------------------------------------------------------------------------------------------------------------------------------------------------------------------------------------------------------------------------------------------------------------------------------------------------------------------------------------------------------------------------------------------------------------------------------------------------------------------------------------------------------------------------------------------------------------------------------------------------------------------------+-----------------------+--------------+---------------------------------------------------------------------------------+-------------------------------------------------------------------------------------------------------------------------------------------------------------------------------------------------------------------------------------------------------------------------------------------------+\n|license_number|inspection_id|business_name                                    |risk  |street_address    |city   |state|zipcode|inspection_date|inspection_type|result  |violations                                                                                                                                                                                                                                                                                                                                                                                                                                                                                                                                                                                                                                                                                                                                                                                                                                                                                                                                                                                                                                                                                                                                                                                                                                                                                                                                                                                                                                                                                                                                                                                                                                                                                                                                                                                                                                                                                                                                                                                                                                                                                                                                                                                                                                                                                                                                                                                                                                                                                                                                                                             |facility_type          |violation_code|violation_description                                                            |violation_comments                                                                                                                                                                                                                                                                               |\n+--------------+-------------+-------------------------------------------------+------+------------------+-------+-----+-------+---------------+---------------+--------+---------------------------------------------------------------------------------------------------------------------------------------------------------------------------------------------------------------------------------------------------------------------------------------------------------------------------------------------------------------------------------------------------------------------------------------------------------------------------------------------------------------------------------------------------------------------------------------------------------------------------------------------------------------------------------------------------------------------------------------------------------------------------------------------------------------------------------------------------------------------------------------------------------------------------------------------------------------------------------------------------------------------------------------------------------------------------------------------------------------------------------------------------------------------------------------------------------------------------------------------------------------------------------------------------------------------------------------------------------------------------------------------------------------------------------------------------------------------------------------------------------------------------------------------------------------------------------------------------------------------------------------------------------------------------------------------------------------------------------------------------------------------------------------------------------------------------------------------------------------------------------------------------------------------------------------------------------------------------------------------------------------------------------------------------------------------------------------------------------------------------------------------------------------------------------------------------------------------------------------------------------------------------------------------------------------------------------------------------------------------------------------------------------------------------------------------------------------------------------------------------------------------------------------------------------------------------------------+-----------------------+--------------+---------------------------------------------------------------------------------+-------------------------------------------------------------------------------------------------------------------------------------------------------------------------------------------------------------------------------------------------------------------------------------------------+\n|2631866       |2589123      |LADYBUG MDL LINCOLN1                             |High  |6100 N LINCOLN AVE|Chicago|IL   |60659  |2024-02-05     |License        |Pass    |Unknown                                                                                                                                                                                                                                                                                                                                                                                                                                                                                                                                                                                                                                                                                                                                                                                                                                                                                                                                                                                                                                                                                                                                                                                                                                                                                                                                                                                                                                                                                                                                                                                                                                                                                                                                                                                                                                                                                                                                                                                                                                                                                                                                                                                                                                                                                                                                                                                                                                                                                                                                                                                |Daycare (Under 2 Years)|-9999         |Unknown                                                                          |Unknown                                                                                                                                                                                                                                                                                          |\n|2807913       |2612492      |HAROLDS CHICKEN CHATHAM #82                      |Medium|806- 808 E 79TH ST|Chicago|IL   |60619  |2025-02-20     |Complaint      |No Entry|Unknown                                                                                                                                                                                                                                                                                                                                                                                                                                                                                                                                                                                                                                                                                                                                                                                                                                                                                                                                                                                                                                                                                                                                                                                                                                                                                                                                                                                                                                                                                                                                                                                                                                                                                                                                                                                                                                                                                                                                                                                                                                                                                                                                                                                                                                                                                                                                                                                                                                                                                                                                                                                |Restaurant             |-9999         |Unknown                                                                          |Unknown                                                                                                                                                                                                                                                                                          |\n|2851533       |2568082      |TONY'S STEAK & LEMONADE SHRIMP MAX FISH & CHICKEN|High  |1757 W 87TH ST    |Chicago|IL   |60620  |2022-12-06     |Canvass        |Fail    |\"10. ADEQUATE HANDWASHING SINKS PROPERLY SUPPLIED AND ACCESSIBLE - Comments: OBSERVED NO HAND WASHING SIGN FOR REAR DISH WASHING AREA HAND SINK MUST PROVIDE AND MAINTAIN. | 37. FOOD PROPERLY LABELED; ORIGINAL CONTAINER - Comments: MUST LABEL FOOD STORAGE CONTAINERS WHEN FOOD IS NOT IN ORIGINAL PACKAGE. | 38. INSECTS, RODENTS, & ANIMALS NOT PRESENT - Comments: OBSERVED APPX. 25 OR MORE LIVE SMALL FLIES ON WALLS IN MOPSINK AREA,ON UPPER WALLS IN FRONT PREP AREA,FLYING AROUND MIDDLE PREP AREA AND DISH WASHING AREA. RECOMMENDED TO HAVE A PEST CONTROL OPERATOR TO SERVICE PREMISES ON OR AFTER 12/6/22.(PRIORITY FOUNDATION 7-38-020(A)(CITATION ISSUED) | 38. INSECTS, RODENTS, & ANIMALS NOT PRESENT - Comments: OBSERVED AN APPX.\"\"1/2-3/4\"\" GAP ALONG BOTTOM OF REAR DOOR MUST MAKE DOOR TIGHT FITTING. | 41. WIPING CLOTHS: PROPERLY USED & STORED - Comments: MUST STORE WIPING CLOTHS IN A SANITIZING SOLUTION WHEN NOT IN USE AND NOT ON TOPSIDE OF CUTTING BOARDS AND PREP TABLES. | 47. FOOD & NON-FOOD CONTACT SURFACES CLEANABLE, PROPERLY DESIGNED, CONSTRUCTED & USED - Comments: MUST REMOVE RUST FROM WALK IN COOLER SHELVING UNITS. | 49. NON-FOOD/FOOD CONTACT SURFACES CLEAN - Comments: MUST CLEAN GREASE AND FOOD DEBRIS BUILD UP FROM WALK IN COOLER -FANGUARD COVERS AND SHELVING UNITS,FRYER CABINETS, PREP TABLES,ROLLING CARTS. | 55. PHYSICAL FACILITIES INSTALLED, MAINTAINED & CLEAN - Comments: MUST SCRAPE AND PAINT CHIPPING PAINT ON WALL IN LOBBY AREA. | 55. PHYSICAL FACILITIES INSTALLED, MAINTAINED & CLEAN - Comments: MUST CLEAN GREASE AND FOOD DEBRIS BUILD UP FROM FLOOR BEHIND AND UNDER FRYER CABINETS,FLOOR DRAIN UNDER 1- COMPARTMENT SINK. | 55. PHYSICAL FACILITIES INSTALLED, MAINTAINED & CLEAN - Comments: MUST CLEAN FOOD DEBRIS BUILD UP AND FOOD SPLATTER FROM DOOR OF OFFICE AND WALLS BEHIND COOKING EQUIPMENT. | 55. PHYSICAL FACILITIES INSTALLED, MAINTAINED & CLEAN - Comments: MUST CLEAN EXCESSIVE DUST BUILD UP FROM CEILING TILES AND VENTILATION UNITS IN CEILING THROUGHOUT PREMISES.MUST REMOVE BLACK MOLDED CAULKING FROM WALL NEXT TO 1- COMPARTMENT SINK. | 56. ADEQUATE VENTILATION & LIGHTING; DESIGNATED AREAS USED - Comments: MUST CLEAN GREASE AND FOOD DEBRIS BUILD UP FROM FILTERS AND HOOD AT COOKING EQUIPMENT. | 56. ADEQUATE VENTILATION & LIGHTING; DESIGNATED AREAS USED - Comments: MUST REPLACE BURNTOUT LIGHT AT HOOD OF COOKING EQUIPMENT. | 58. ALLERGEN TRAINING AS REQUIRED - Comments: OBSERVED NO FOOD ALLERGEN TRAINING FOR FOOD MANAGERS MUST PROVIDE AND MAINTAIN.\"|Restaurant             |10            |ADEQUATE HANDWASHING SINKS PROPERLY SUPPLIED AND ACCESSIBLE                      |OBSERVED NO HAND WASHING SIGN FOR REAR DISH WASHING AREA HAND SINK MUST PROVIDE AND MAINTAIN.                                                                                                                                                                                                    |\n|2851533       |2568082      |TONY'S STEAK & LEMONADE SHRIMP MAX FISH & CHICKEN|High  |1757 W 87TH ST    |Chicago|IL   |60620  |2022-12-06     |Canvass        |Fail    |\"10. ADEQUATE HANDWASHING SINKS PROPERLY SUPPLIED AND ACCESSIBLE - Comments: OBSERVED NO HAND WASHING SIGN FOR REAR DISH WASHING AREA HAND SINK MUST PROVIDE AND MAINTAIN. | 37. FOOD PROPERLY LABELED; ORIGINAL CONTAINER - Comments: MUST LABEL FOOD STORAGE CONTAINERS WHEN FOOD IS NOT IN ORIGINAL PACKAGE. | 38. INSECTS, RODENTS, & ANIMALS NOT PRESENT - Comments: OBSERVED APPX. 25 OR MORE LIVE SMALL FLIES ON WALLS IN MOPSINK AREA,ON UPPER WALLS IN FRONT PREP AREA,FLYING AROUND MIDDLE PREP AREA AND DISH WASHING AREA. RECOMMENDED TO HAVE A PEST CONTROL OPERATOR TO SERVICE PREMISES ON OR AFTER 12/6/22.(PRIORITY FOUNDATION 7-38-020(A)(CITATION ISSUED) | 38. INSECTS, RODENTS, & ANIMALS NOT PRESENT - Comments: OBSERVED AN APPX.\"\"1/2-3/4\"\" GAP ALONG BOTTOM OF REAR DOOR MUST MAKE DOOR TIGHT FITTING. | 41. WIPING CLOTHS: PROPERLY USED & STORED - Comments: MUST STORE WIPING CLOTHS IN A SANITIZING SOLUTION WHEN NOT IN USE AND NOT ON TOPSIDE OF CUTTING BOARDS AND PREP TABLES. | 47. FOOD & NON-FOOD CONTACT SURFACES CLEANABLE, PROPERLY DESIGNED, CONSTRUCTED & USED - Comments: MUST REMOVE RUST FROM WALK IN COOLER SHELVING UNITS. | 49. NON-FOOD/FOOD CONTACT SURFACES CLEAN - Comments: MUST CLEAN GREASE AND FOOD DEBRIS BUILD UP FROM WALK IN COOLER -FANGUARD COVERS AND SHELVING UNITS,FRYER CABINETS, PREP TABLES,ROLLING CARTS. | 55. PHYSICAL FACILITIES INSTALLED, MAINTAINED & CLEAN - Comments: MUST SCRAPE AND PAINT CHIPPING PAINT ON WALL IN LOBBY AREA. | 55. PHYSICAL FACILITIES INSTALLED, MAINTAINED & CLEAN - Comments: MUST CLEAN GREASE AND FOOD DEBRIS BUILD UP FROM FLOOR BEHIND AND UNDER FRYER CABINETS,FLOOR DRAIN UNDER 1- COMPARTMENT SINK. | 55. PHYSICAL FACILITIES INSTALLED, MAINTAINED & CLEAN - Comments: MUST CLEAN FOOD DEBRIS BUILD UP AND FOOD SPLATTER FROM DOOR OF OFFICE AND WALLS BEHIND COOKING EQUIPMENT. | 55. PHYSICAL FACILITIES INSTALLED, MAINTAINED & CLEAN - Comments: MUST CLEAN EXCESSIVE DUST BUILD UP FROM CEILING TILES AND VENTILATION UNITS IN CEILING THROUGHOUT PREMISES.MUST REMOVE BLACK MOLDED CAULKING FROM WALL NEXT TO 1- COMPARTMENT SINK. | 56. ADEQUATE VENTILATION & LIGHTING; DESIGNATED AREAS USED - Comments: MUST CLEAN GREASE AND FOOD DEBRIS BUILD UP FROM FILTERS AND HOOD AT COOKING EQUIPMENT. | 56. ADEQUATE VENTILATION & LIGHTING; DESIGNATED AREAS USED - Comments: MUST REPLACE BURNTOUT LIGHT AT HOOD OF COOKING EQUIPMENT. | 58. ALLERGEN TRAINING AS REQUIRED - Comments: OBSERVED NO FOOD ALLERGEN TRAINING FOR FOOD MANAGERS MUST PROVIDE AND MAINTAIN.\"|Restaurant             |37            |FOOD PROPERLY LABELED; ORIGINAL CONTAINER                                        |MUST LABEL FOOD STORAGE CONTAINERS WHEN FOOD IS NOT IN ORIGINAL PACKAGE.                                                                                                                                                                                                                         |\n|2851533       |2568082      |TONY'S STEAK & LEMONADE SHRIMP MAX FISH & CHICKEN|High  |1757 W 87TH ST    |Chicago|IL   |60620  |2022-12-06     |Canvass        |Fail    |\"10. ADEQUATE HANDWASHING SINKS PROPERLY SUPPLIED AND ACCESSIBLE - Comments: OBSERVED NO HAND WASHING SIGN FOR REAR DISH WASHING AREA HAND SINK MUST PROVIDE AND MAINTAIN. | 37. FOOD PROPERLY LABELED; ORIGINAL CONTAINER - Comments: MUST LABEL FOOD STORAGE CONTAINERS WHEN FOOD IS NOT IN ORIGINAL PACKAGE. | 38. INSECTS, RODENTS, & ANIMALS NOT PRESENT - Comments: OBSERVED APPX. 25 OR MORE LIVE SMALL FLIES ON WALLS IN MOPSINK AREA,ON UPPER WALLS IN FRONT PREP AREA,FLYING AROUND MIDDLE PREP AREA AND DISH WASHING AREA. RECOMMENDED TO HAVE A PEST CONTROL OPERATOR TO SERVICE PREMISES ON OR AFTER 12/6/22.(PRIORITY FOUNDATION 7-38-020(A)(CITATION ISSUED) | 38. INSECTS, RODENTS, & ANIMALS NOT PRESENT - Comments: OBSERVED AN APPX.\"\"1/2-3/4\"\" GAP ALONG BOTTOM OF REAR DOOR MUST MAKE DOOR TIGHT FITTING. | 41. WIPING CLOTHS: PROPERLY USED & STORED - Comments: MUST STORE WIPING CLOTHS IN A SANITIZING SOLUTION WHEN NOT IN USE AND NOT ON TOPSIDE OF CUTTING BOARDS AND PREP TABLES. | 47. FOOD & NON-FOOD CONTACT SURFACES CLEANABLE, PROPERLY DESIGNED, CONSTRUCTED & USED - Comments: MUST REMOVE RUST FROM WALK IN COOLER SHELVING UNITS. | 49. NON-FOOD/FOOD CONTACT SURFACES CLEAN - Comments: MUST CLEAN GREASE AND FOOD DEBRIS BUILD UP FROM WALK IN COOLER -FANGUARD COVERS AND SHELVING UNITS,FRYER CABINETS, PREP TABLES,ROLLING CARTS. | 55. PHYSICAL FACILITIES INSTALLED, MAINTAINED & CLEAN - Comments: MUST SCRAPE AND PAINT CHIPPING PAINT ON WALL IN LOBBY AREA. | 55. PHYSICAL FACILITIES INSTALLED, MAINTAINED & CLEAN - Comments: MUST CLEAN GREASE AND FOOD DEBRIS BUILD UP FROM FLOOR BEHIND AND UNDER FRYER CABINETS,FLOOR DRAIN UNDER 1- COMPARTMENT SINK. | 55. PHYSICAL FACILITIES INSTALLED, MAINTAINED & CLEAN - Comments: MUST CLEAN FOOD DEBRIS BUILD UP AND FOOD SPLATTER FROM DOOR OF OFFICE AND WALLS BEHIND COOKING EQUIPMENT. | 55. PHYSICAL FACILITIES INSTALLED, MAINTAINED & CLEAN - Comments: MUST CLEAN EXCESSIVE DUST BUILD UP FROM CEILING TILES AND VENTILATION UNITS IN CEILING THROUGHOUT PREMISES.MUST REMOVE BLACK MOLDED CAULKING FROM WALL NEXT TO 1- COMPARTMENT SINK. | 56. ADEQUATE VENTILATION & LIGHTING; DESIGNATED AREAS USED - Comments: MUST CLEAN GREASE AND FOOD DEBRIS BUILD UP FROM FILTERS AND HOOD AT COOKING EQUIPMENT. | 56. ADEQUATE VENTILATION & LIGHTING; DESIGNATED AREAS USED - Comments: MUST REPLACE BURNTOUT LIGHT AT HOOD OF COOKING EQUIPMENT. | 58. ALLERGEN TRAINING AS REQUIRED - Comments: OBSERVED NO FOOD ALLERGEN TRAINING FOR FOOD MANAGERS MUST PROVIDE AND MAINTAIN.\"|Restaurant             |38            |INSECTS, RODENTS, & ANIMALS NOT PRESENT                                          |OBSERVED APPX. 25 OR MORE LIVE SMALL FLIES ON WALLS IN MOPSINK AREA,ON UPPER WALLS IN FRONT PREP AREA,FLYING AROUND MIDDLE PREP AREA AND DISH WASHING AREA. RECOMMENDED TO HAVE A PEST CONTROL OPERATOR TO SERVICE PREMISES ON OR AFTER 12/6/22.(PRIORITY FOUNDATION 7-38-020(A)(CITATION ISSUED)|\n|2851533       |2568082      |TONY'S STEAK & LEMONADE SHRIMP MAX FISH & CHICKEN|High  |1757 W 87TH ST    |Chicago|IL   |60620  |2022-12-06     |Canvass        |Fail    |\"10. ADEQUATE HANDWASHING SINKS PROPERLY SUPPLIED AND ACCESSIBLE - Comments: OBSERVED NO HAND WASHING SIGN FOR REAR DISH WASHING AREA HAND SINK MUST PROVIDE AND MAINTAIN. | 37. FOOD PROPERLY LABELED; ORIGINAL CONTAINER - Comments: MUST LABEL FOOD STORAGE CONTAINERS WHEN FOOD IS \n\n*** WARNING: max output size exceeded, skipping output. ***\n\nAINTAIN.\"|Restaurant             |55            |PHYSICAL FACILITIES INSTALLED, MAINTAINED & CLEAN                                |MUST CLEAN EXCESSIVE DUST BUILD UP FROM CEILING TILES AND VENTILATION UNITS IN CEILING THROUGHOUT PREMISES.MUST REMOVE BLACK MOLDED CAULKING FROM WALL NEXT TO 1- COMPARTMENT SINK.                                                                                                              |\n|2851533       |2568082      |TONY'S STEAK & LEMONADE SHRIMP MAX FISH & CHICKEN|High  |1757 W 87TH ST    |Chicago|IL   |60620  |2022-12-06     |Canvass        |Fail    |\"10. ADEQUATE HANDWASHING SINKS PROPERLY SUPPLIED AND ACCESSIBLE - Comments: OBSERVED NO HAND WASHING SIGN FOR REAR DISH WASHING AREA HAND SINK MUST PROVIDE AND MAINTAIN. | 37. FOOD PROPERLY LABELED; ORIGINAL CONTAINER - Comments: MUST LABEL FOOD STORAGE CONTAINERS WHEN FOOD IS NOT IN ORIGINAL PACKAGE. | 38. INSECTS, RODENTS, & ANIMALS NOT PRESENT - Comments: OBSERVED APPX. 25 OR MORE LIVE SMALL FLIES ON WALLS IN MOPSINK AREA,ON UPPER WALLS IN FRONT PREP AREA,FLYING AROUND MIDDLE PREP AREA AND DISH WASHING AREA. RECOMMENDED TO HAVE A PEST CONTROL OPERATOR TO SERVICE PREMISES ON OR AFTER 12/6/22.(PRIORITY FOUNDATION 7-38-020(A)(CITATION ISSUED) | 38. INSECTS, RODENTS, & ANIMALS NOT PRESENT - Comments: OBSERVED AN APPX.\"\"1/2-3/4\"\" GAP ALONG BOTTOM OF REAR DOOR MUST MAKE DOOR TIGHT FITTING. | 41. WIPING CLOTHS: PROPERLY USED & STORED - Comments: MUST STORE WIPING CLOTHS IN A SANITIZING SOLUTION WHEN NOT IN USE AND NOT ON TOPSIDE OF CUTTING BOARDS AND PREP TABLES. | 47. FOOD & NON-FOOD CONTACT SURFACES CLEANABLE, PROPERLY DESIGNED, CONSTRUCTED & USED - Comments: MUST REMOVE RUST FROM WALK IN COOLER SHELVING UNITS. | 49. NON-FOOD/FOOD CONTACT SURFACES CLEAN - Comments: MUST CLEAN GREASE AND FOOD DEBRIS BUILD UP FROM WALK IN COOLER -FANGUARD COVERS AND SHELVING UNITS,FRYER CABINETS, PREP TABLES,ROLLING CARTS. | 55. PHYSICAL FACILITIES INSTALLED, MAINTAINED & CLEAN - Comments: MUST SCRAPE AND PAINT CHIPPING PAINT ON WALL IN LOBBY AREA. | 55. PHYSICAL FACILITIES INSTALLED, MAINTAINED & CLEAN - Comments: MUST CLEAN GREASE AND FOOD DEBRIS BUILD UP FROM FLOOR BEHIND AND UNDER FRYER CABINETS,FLOOR DRAIN UNDER 1- COMPARTMENT SINK. | 55. PHYSICAL FACILITIES INSTALLED, MAINTAINED & CLEAN - Comments: MUST CLEAN FOOD DEBRIS BUILD UP AND FOOD SPLATTER FROM DOOR OF OFFICE AND WALLS BEHIND COOKING EQUIPMENT. | 55. PHYSICAL FACILITIES INSTALLED, MAINTAINED & CLEAN - Comments: MUST CLEAN EXCESSIVE DUST BUILD UP FROM CEILING TILES AND VENTILATION UNITS IN CEILING THROUGHOUT PREMISES.MUST REMOVE BLACK MOLDED CAULKING FROM WALL NEXT TO 1- COMPARTMENT SINK. | 56. ADEQUATE VENTILATION & LIGHTING; DESIGNATED AREAS USED - Comments: MUST CLEAN GREASE AND FOOD DEBRIS BUILD UP FROM FILTERS AND HOOD AT COOKING EQUIPMENT. | 56. ADEQUATE VENTILATION & LIGHTING; DESIGNATED AREAS USED - Comments: MUST REPLACE BURNTOUT LIGHT AT HOOD OF COOKING EQUIPMENT. | 58. ALLERGEN TRAINING AS REQUIRED - Comments: OBSERVED NO FOOD ALLERGEN TRAINING FOR FOOD MANAGERS MUST PROVIDE AND MAINTAIN.\"|Restaurant             |56            |ADEQUATE VENTILATION & LIGHTING; DESIGNATED AREAS USED                           |MUST CLEAN GREASE AND FOOD DEBRIS BUILD UP FROM FILTERS AND HOOD AT COOKING EQUIPMENT.                                                                                                                                                                                                           |\n|2851533       |2568082      |TONY'S STEAK & LEMONADE SHRIMP MAX FISH & CHICKEN|High  |1757 W 87TH ST    |Chicago|IL   |60620  |2022-12-06     |Canvass        |Fail    |\"10. ADEQUATE HANDWASHING SINKS PROPERLY SUPPLIED AND ACCESSIBLE - Comments: OBSERVED NO HAND WASHING SIGN FOR REAR DISH WASHING AREA HAND SINK MUST PROVIDE AND MAINTAIN. | 37. FOOD PROPERLY LABELED; ORIGINAL CONTAINER - Comments: MUST LABEL FOOD STORAGE CONTAINERS WHEN FOOD IS NOT IN ORIGINAL PACKAGE. | 38. INSECTS, RODENTS, & ANIMALS NOT PRESENT - Comments: OBSERVED APPX. 25 OR MORE LIVE SMALL FLIES ON WALLS IN MOPSINK AREA,ON UPPER WALLS IN FRONT PREP AREA,FLYING AROUND MIDDLE PREP AREA AND DISH WASHING AREA. RECOMMENDED TO HAVE A PEST CONTROL OPERATOR TO SERVICE PREMISES ON OR AFTER 12/6/22.(PRIORITY FOUNDATION 7-38-020(A)(CITATION ISSUED) | 38. INSECTS, RODENTS, & ANIMALS NOT PRESENT - Comments: OBSERVED AN APPX.\"\"1/2-3/4\"\" GAP ALONG BOTTOM OF REAR DOOR MUST MAKE DOOR TIGHT FITTING. | 41. WIPING CLOTHS: PROPERLY USED & STORED - Comments: MUST STORE WIPING CLOTHS IN A SANITIZING SOLUTION WHEN NOT IN USE AND NOT ON TOPSIDE OF CUTTING BOARDS AND PREP TABLES. | 47. FOOD & NON-FOOD CONTACT SURFACES CLEANABLE, PROPERLY DESIGNED, CONSTRUCTED & USED - Comments: MUST REMOVE RUST FROM WALK IN COOLER SHELVING UNITS. | 49. NON-FOOD/FOOD CONTACT SURFACES CLEAN - Comments: MUST CLEAN GREASE AND FOOD DEBRIS BUILD UP FROM WALK IN COOLER -FANGUARD COVERS AND SHELVING UNITS,FRYER CABINETS, PREP TABLES,ROLLING CARTS. | 55. PHYSICAL FACILITIES INSTALLED, MAINTAINED & CLEAN - Comments: MUST SCRAPE AND PAINT CHIPPING PAINT ON WALL IN LOBBY AREA. | 55. PHYSICAL FACILITIES INSTALLED, MAINTAINED & CLEAN - Comments: MUST CLEAN GREASE AND FOOD DEBRIS BUILD UP FROM FLOOR BEHIND AND UNDER FRYER CABINETS,FLOOR DRAIN UNDER 1- COMPARTMENT SINK. | 55. PHYSICAL FACILITIES INSTALLED, MAINTAINED & CLEAN - Comments: MUST CLEAN FOOD DEBRIS BUILD UP AND FOOD SPLATTER FROM DOOR OF OFFICE AND WALLS BEHIND COOKING EQUIPMENT. | 55. PHYSICAL FACILITIES INSTALLED, MAINTAINED & CLEAN - Comments: MUST CLEAN EXCESSIVE DUST BUILD UP FROM CEILING TILES AND VENTILATION UNITS IN CEILING THROUGHOUT PREMISES.MUST REMOVE BLACK MOLDED CAULKING FROM WALL NEXT TO 1- COMPARTMENT SINK. | 56. ADEQUATE VENTILATION & LIGHTING; DESIGNATED AREAS USED - Comments: MUST CLEAN GREASE AND FOOD DEBRIS BUILD UP FROM FILTERS AND HOOD AT COOKING EQUIPMENT. | 56. ADEQUATE VENTILATION & LIGHTING; DESIGNATED AREAS USED - Comments: MUST REPLACE BURNTOUT LIGHT AT HOOD OF COOKING EQUIPMENT. | 58. ALLERGEN TRAINING AS REQUIRED - Comments: OBSERVED NO FOOD ALLERGEN TRAINING FOR FOOD MANAGERS MUST PROVIDE AND MAINTAIN.\"|Restaurant             |56            |ADEQUATE VENTILATION & LIGHTING; DESIGNATED AREAS USED                           |MUST REPLACE BURNTOUT LIGHT AT HOOD OF COOKING EQUIPMENT.                                                                                                                                                                                                                                        |\n|2851533       |2568082      |TONY'S STEAK & LEMONADE SHRIMP MAX FISH & CHICKEN|High  |1757 W 87TH ST    |Chicago|IL   |60620  |2022-12-06     |Canvass        |Fail    |\"10. ADEQUATE HANDWASHING SINKS PROPERLY SUPPLIED AND ACCESSIBLE - Comments: OBSERVED NO HAND WASHING SIGN FOR REAR DISH WASHING AREA HAND SINK MUST PROVIDE AND MAINTAIN. | 37. FOOD PROPERLY LABELED; ORIGINAL CONTAINER - Comments: MUST LABEL FOOD STORAGE CONTAINERS WHEN FOOD IS NOT IN ORIGINAL PACKAGE. | 38. INSECTS, RODENTS, & ANIMALS NOT PRESENT - Comments: OBSERVED APPX. 25 OR MORE LIVE SMALL FLIES ON WALLS IN MOPSINK AREA,ON UPPER WALLS IN FRONT PREP AREA,FLYING AROUND MIDDLE PREP AREA AND DISH WASHING AREA. RECOMMENDED TO HAVE A PEST CONTROL OPERATOR TO SERVICE PREMISES ON OR AFTER 12/6/22.(PRIORITY FOUNDATION 7-38-020(A)(CITATION ISSUED) | 38. INSECTS, RODENTS, & ANIMALS NOT PRESENT - Comments: OBSERVED AN APPX.\"\"1/2-3/4\"\" GAP ALONG BOTTOM OF REAR DOOR MUST MAKE DOOR TIGHT FITTING. | 41. WIPING CLOTHS: PROPERLY USED & STORED - Comments: MUST STORE WIPING CLOTHS IN A SANITIZING SOLUTION WHEN NOT IN USE AND NOT ON TOPSIDE OF CUTTING BOARDS AND PREP TABLES. | 47. FOOD & NON-FOOD CONTACT SURFACES CLEANABLE, PROPERLY DESIGNED, CONSTRUCTED & USED - Comments: MUST REMOVE RUST FROM WALK IN COOLER SHELVING UNITS. | 49. NON-FOOD/FOOD CONTACT SURFACES CLEAN - Comments: MUST CLEAN GREASE AND FOOD DEBRIS BUILD UP FROM WALK IN COOLER -FANGUARD COVERS AND SHELVING UNITS,FRYER CABINETS, PREP TABLES,ROLLING CARTS. | 55. PHYSICAL FACILITIES INSTALLED, MAINTAINED & CLEAN - Comments: MUST SCRAPE AND PAINT CHIPPING PAINT ON WALL IN LOBBY AREA. | 55. PHYSICAL FACILITIES INSTALLED, MAINTAINED & CLEAN - Comments: MUST CLEAN GREASE AND FOOD DEBRIS BUILD UP FROM FLOOR BEHIND AND UNDER FRYER CABINETS,FLOOR DRAIN UNDER 1- COMPARTMENT SINK. | 55. PHYSICAL FACILITIES INSTALLED, MAINTAINED & CLEAN - Comments: MUST CLEAN FOOD DEBRIS BUILD UP AND FOOD SPLATTER FROM DOOR OF OFFICE AND WALLS BEHIND COOKING EQUIPMENT. | 55. PHYSICAL FACILITIES INSTALLED, MAINTAINED & CLEAN - Comments: MUST CLEAN EXCESSIVE DUST BUILD UP FROM CEILING TILES AND VENTILATION UNITS IN CEILING THROUGHOUT PREMISES.MUST REMOVE BLACK MOLDED CAULKING FROM WALL NEXT TO 1- COMPARTMENT SINK. | 56. ADEQUATE VENTILATION & LIGHTING; DESIGNATED AREAS USED - Comments: MUST CLEAN GREASE AND FOOD DEBRIS BUILD UP FROM FILTERS AND HOOD AT COOKING EQUIPMENT. | 56. ADEQUATE VENTILATION & LIGHTING; DESIGNATED AREAS USED - Comments: MUST REPLACE BURNTOUT LIGHT AT HOOD OF COOKING EQUIPMENT. | 58. ALLERGEN TRAINING AS REQUIRED - Comments: OBSERVED NO FOOD ALLERGEN TRAINING FOR FOOD MANAGERS MUST PROVIDE AND MAINTAIN.\"|Restaurant             |58            |ALLERGEN TRAINING AS REQUIRED                                                    |OBSERVED NO FOOD ALLERGEN TRAINING FOR FOOD MANAGERS MUST PROVIDE AND MAINTAIN.                                                                                                                                                                                                                  |\n|2334636       |2570409      |AFC Sushi @ Jewel Osco #3443                     |High  |5343 N BROADWAY   |Chicago|IL   |60640  |2023-01-30     |Canvass        |Pass    |55. PHYSICAL FACILITIES INSTALLED, MAINTAINED & CLEAN - Comments: OBSERVED SOME FOOD DEBRIS ON FLOOR IN PREPARATION AREA. INSTRUCTED THE PERSON IN CHARGE TO DETAIL CLEAN AND MAINTAIN.                                                                                                                                                                                                                                                                                                                                                                                                                                                                                                                                                                                                                                                                                                                                                                                                                                                                                                                                                                                                                                                                                                                                                                                                                                                                                                                                                                                                                                                                                                                                                                                                                                                                                                                                                                                                                                                                                                                                                                                                                                                                                                                                                                                                                                                                                                                                                                                                |Grocery Store          |55            |PHYSICAL FACILITIES INSTALLED, MAINTAINED & CLEAN                                |OBSERVED SOME FOOD DEBRIS ON FLOOR IN PREPARATION AREA. INSTRUCTED THE PERSON IN CHARGE TO DETAIL CLEAN AND MAINTAIN.                                                                                                                                                                            |\n|2781241       |2497976      |PALENQUE 2                                       |High  |4316 S PULASKI RD |Chicago|IL   |60632  |2021-04-08     |License        |Pass    |39. CONTAMINATION PREVENTED DURING FOOD PREPARATION, STORAGE & DISPLAY - Comments: NO SPLASHGUARD AT FRONT HANDSINK NEXT TO TABLE. INSTD TO PROVIDE AND MAINTAIN | 47. FOOD & NON-FOOD CONTACT SURFACES CLEANABLE, PROPERLY DESIGNED, CONSTRUCTED & USED - Comments: RAW WOOD ON BOTTOM OF STORAGE SHELF. INSTD TO SEAL SO AS TO AN EASILY CLEANABLE, NON POROUS SURFACE | 58. ALLERGEN TRAINING AS REQUIRED - Comments: MISSING ALLERGEN TRAINING FOR 1 CITY OF CHICAGO CERTIFIED MANAGER. INSTD TO OBTAIN TRAINING  AND MAINTAIN VERIFICATION                                                                                                                                                                                                                                                                                                                                                                                                                                                                                                                                                                                                                                                                                                                                                                                                                                                                                                                                                                                                                                                                                                                                                                                                                                                                                                                                                                                                                                                                                                                                                                                                                                                                                                                                                                                                                                                                                                                                                                                                                                        |Restaurant             |39            |CONTAMINATION PREVENTED DURING FOOD PREPARATION, STORAGE & DISPLAY               |NO SPLASHGUARD AT FRONT HANDSINK NEXT TO TABLE. INSTD TO PROVIDE AND MAINTAIN                                                                                                                                                                                                                    |\n|2781241       |2497976      |PALENQUE 2                                       |High  |4316 S PULASKI RD |Chicago|IL   |60632  |2021-04-08     |License        |Pass    |39. CONTAMINATION PREVENTED DURING FOOD PREPARATION, STORAGE & DISPLAY - Comments: NO SPLASHGUARD AT FRONT HANDSINK NEXT TO TABLE. INSTD TO PROVIDE AND MAINTAIN | 47. FOOD & NON-FOOD CONTACT SURFACES CLEANABLE, PROPERLY DESIGNED, CONSTRUCTED & USED - Comments: RAW WOOD ON BOTTOM OF STORAGE SHELF. INSTD TO SEAL SO AS TO AN EASILY CLEANABLE, NON POROUS SURFACE | 58. ALLERGEN TRAINING AS REQUIRED - Comments: MISSING ALLERGEN TRAINING FOR 1 CITY OF CHICAGO CERTIFIED MANAGER. INSTD TO OBTAIN TRAINING  AND MAINTAIN VERIFICATION                                                                                                                                                                                                                                                                                                                                                                                                                                                                                                                                                                                                                                                                                                                                                                                                                                                                                                                                                                                                                                                                                                                                                                                                                                                                                                                                                                                                                                                                                                                                                                                                                                                                                                                                                                                                                                                                                                                                                                                                                                        |Restaurant             |47            |FOOD & NON-FOOD CONTACT SURFACES CLEANABLE, PROPERLY DESIGNED, CONSTRUCTED & USED|RAW WOOD ON BOTTOM OF STORAGE SHELF. INSTD TO SEAL SO AS TO AN EASILY CLEANABLE, NON POROUS SURFACE                                                                                                                                                                                              |\n|2781241       |2497976      |PALENQUE 2                                       |High  |4316 S PULASKI RD |Chicago|IL   |60632  |2021-04-08     |License        |Pass    |39. CONTAMINATION PREVENTED DURING FOOD PREPARATION, STORAGE & DISPLAY - Comments: NO SPLASHGUARD AT FRONT HANDSINK NEXT TO TABLE. INSTD TO PROVIDE AND MAINTAIN | 47. FOOD & NON-FOOD CONTACT SURFACES CLEANABLE, PROPERLY DESIGNED, CONSTRUCTED & USED - Comments: RAW WOOD ON BOTTOM OF STORAGE SHELF. INSTD TO SEAL SO AS TO AN EASILY CLEANABLE, NON POROUS SURFACE | 58. ALLERGEN TRAINING AS REQUIRED - Comments: MISSING ALLERGEN TRAINING FOR 1 CITY OF CHICAGO CERTIFIED MANAGER. INSTD TO OBTAIN TRAINING  AND MAINTAIN VERIFICATION                                                                                                                                                                                                                                                                                                                                                                                                                                                                                                                                                                                                                                                                                                                                                                                                                                                                                                                                                                                                                                                                                                                                                                                                                                                                                                                                                                                                                                                                                                                                                                                                                                                                                                                                                                                                                                                                                                                                                                                                                                        |Restaurant             |58            |ALLERGEN TRAINING AS REQUIRED                                                    |MISSING ALLERGEN TRAINING FOR 1 CITY OF CHICAGO CERTIFIED MANAGER. INSTD TO OBTAIN TRAINING  AND MAINTAIN VERIFICATION                                                                                                                                                                           |\n+--------------+-------------+-------------------------------------------------+------+------------------+-------+-----+-------+---------------+---------------+--------+---------------------------------------------------------------------------------------------------------------------------------------------------------------------------------------------------------------------------------------------------------------------------------------------------------------------------------------------------------------------------------------------------------------------------------------------------------------------------------------------------------------------------------------------------------------------------------------------------------------------------------------------------------------------------------------------------------------------------------------------------------------------------------------------------------------------------------------------------------------------------------------------------------------------------------------------------------------------------------------------------------------------------------------------------------------------------------------------------------------------------------------------------------------------------------------------------------------------------------------------------------------------------------------------------------------------------------------------------------------------------------------------------------------------------------------------------------------------------------------------------------------------------------------------------------------------------------------------------------------------------------------------------------------------------------------------------------------------------------------------------------------------------------------------------------------------------------------------------------------------------------------------------------------------------------------------------------------------------------------------------------------------------------------------------------------------------------------------------------------------------------------------------------------------------------------------------------------------------------------------------------------------------------------------------------------------------------------------------------------------------------------------------------------------------------------------------------------------------------------------------------------------------------------------------------------------------------------+-----------------------+--------------+---------------------------------------------------------------------------------+-------------------------------------------------------------------------------------------------------------------------------------------------------------------------------------------------------------------------------------------------------------------------------------------------+\nonly showing top 20 rows\n\n"
     ]
    }
   ],
   "source": [
    "df_copy = df_arrays.select(\"*\")\n",
    "\n",
    "# Create a \"pos\" column to maintain the relationship between arrays\n",
    "df_exploded = df_copy.withColumn(\n",
    "    \"pos\", \n",
    "    F.expr(\"sequence(0, greatest(size(violation_code), size(violation_description), size(violation_comments)) - 1)\")\n",
    ")\n",
    "\n",
    "# Explode the position array to create one row per violation\n",
    "df_exploded = df_exploded.withColumn(\"pos\", F.explode(F.col(\"pos\")))\n",
    "\n",
    "# Extract the corresponding elements for each position\n",
    "df_flattened = df_exploded.withColumn(\n",
    "    \"temp_violation_code\", \n",
    "    F.expr(\"if(pos < size(violation_code), violation_code[pos], null)\")\n",
    ")\n",
    "\n",
    "df_flattened = df_flattened.withColumn(\n",
    "    \"temp_violation_description\", \n",
    "    F.expr(\"if(pos < size(violation_description), violation_description[pos], null)\")\n",
    ")\n",
    "\n",
    "df_flattened = df_flattened.withColumn(\n",
    "    \"temp_violation_comments\", \n",
    "    F.expr(\"if(pos < size(violation_comments), violation_comments[pos], null)\")\n",
    ")\n",
    "\n",
    "# Filter out rows where all three values are null\n",
    "df_flattened = df_flattened.filter(\n",
    "    (F.col(\"temp_violation_code\").isNotNull()) | \n",
    "    (F.col(\"temp_violation_description\").isNotNull()) |\n",
    "    (F.col(\"temp_violation_comments\").isNotNull())\n",
    ")\n",
    "\n",
    "# Get all columns except the ones we're replacing\n",
    "columns_to_keep = [col for col in df_flattened.columns if col not in \n",
    "                   [\"pos\", \"temp_violation_code\", \"temp_violation_description\", \n",
    "                    \"temp_violation_comments\", \"violation_code\", \"violation_description\", \n",
    "                    \"violation_comments\"]]\n",
    "\n",
    "# Create the final DataFrame with the flattened values\n",
    "df_final = df_flattened.select(\n",
    "    *columns_to_keep,\n",
    "    F.col(\"temp_violation_code\").alias(\"violation_code\"),\n",
    "    F.col(\"temp_violation_description\").alias(\"violation_description\"),\n",
    "    F.col(\"temp_violation_comments\").alias(\"violation_comments\")\n",
    ")\n",
    "\n",
    "df_final.show(truncate=False)"
   ]
  },
  {
   "cell_type": "code",
   "execution_count": 0,
   "metadata": {
    "application/vnd.databricks.v1+cell": {
     "cellMetadata": {
      "byteLimit": 2048000,
      "rowLimit": 10000
     },
     "inputWidgets": {},
     "nuid": "5f548c22-6087-409c-882a-c5cf74cef795",
     "showTitle": false,
     "tableResultSettingsMap": {},
     "title": ""
    }
   },
   "outputs": [],
   "source": [
    "df_chicago_food_inspection = df_final.withColumnRenamed(\"facility_type\", \"business_type\").withColumnRenamed(\"street_address\", \"address\").withColumnRenamed(\"result\", \"results\")"
   ]
  },
  {
   "cell_type": "code",
   "execution_count": 0,
   "metadata": {
    "application/vnd.databricks.v1+cell": {
     "cellMetadata": {
      "byteLimit": 2048000,
      "rowLimit": 10000
     },
     "inputWidgets": {},
     "nuid": "6678cc5f-cab8-4db1-a56e-fc7445be0b42",
     "showTitle": false,
     "tableResultSettingsMap": {},
     "title": ""
    }
   },
   "outputs": [
    {
     "output_type": "stream",
     "name": "stdout",
     "output_type": "stream",
     "text": [
      "+-------------+-------------------------------------------------+-----------------------+--------------+------------------+-------+-------+-----+---------------+---------------+------+--------+--------------+---------------------------------------------------------------------------------+-------------------------------------------------------------------------------------------------------------------------------------------------------------------------------------------------------------------------------------------------------------------------------------------------+\n|inspection_id|business_name                                    |business_type          |license_number|address           |zipcode|city   |state|inspection_type|inspection_date|risk  |results |violation_code|violation_description                                                            |violation_comments                                                                                                                                                                                                                                                                               |\n+-------------+-------------------------------------------------+-----------------------+--------------+------------------+-------+-------+-----+---------------+---------------+------+--------+--------------+---------------------------------------------------------------------------------+-------------------------------------------------------------------------------------------------------------------------------------------------------------------------------------------------------------------------------------------------------------------------------------------------+\n|2589123      |LADYBUG MDL LINCOLN1                             |Daycare (Under 2 Years)|2631866       |6100 N LINCOLN AVE|60659  |Chicago|IL   |License        |2024-02-05     |High  |Pass    |-9999         |Unknown                                                                          |Unknown                                                                                                                                                                                                                                                                                          |\n|2612492      |HAROLDS CHICKEN CHATHAM #82                      |Restaurant             |2807913       |806- 808 E 79TH ST|60619  |Chicago|IL   |Complaint      |2025-02-20     |Medium|No Entry|-9999         |Unknown                                                                          |Unknown                                                                                                                                                                                                                                                                                          |\n|2568082      |TONY'S STEAK & LEMONADE SHRIMP MAX FISH & CHICKEN|Restaurant             |2851533       |1757 W 87TH ST    |60620  |Chicago|IL   |Canvass        |2022-12-06     |High  |Fail    |10            |ADEQUATE HANDWASHING SINKS PROPERLY SUPPLIED AND ACCESSIBLE                      |OBSERVED NO HAND WASHING SIGN FOR REAR DISH WASHING AREA HAND SINK MUST PROVIDE AND MAINTAIN.                                                                                                                                                                                                    |\n|2568082      |TONY'S STEAK & LEMONADE SHRIMP MAX FISH & CHICKEN|Restaurant             |2851533       |1757 W 87TH ST    |60620  |Chicago|IL   |Canvass        |2022-12-06     |High  |Fail    |37            |FOOD PROPERLY LABELED; ORIGINAL CONTAINER                                        |MUST LABEL FOOD STORAGE CONTAINERS WHEN FOOD IS NOT IN ORIGINAL PACKAGE.                                                                                                                                                                                                                         |\n|2568082      |TONY'S STEAK & LEMONADE SHRIMP MAX FISH & CHICKEN|Restaurant             |2851533       |1757 W 87TH ST    |60620  |Chicago|IL   |Canvass        |2022-12-06     |High  |Fail    |38            |INSECTS, RODENTS, & ANIMALS NOT PRESENT                                          |OBSERVED APPX. 25 OR MORE LIVE SMALL FLIES ON WALLS IN MOPSINK AREA,ON UPPER WALLS IN FRONT PREP AREA,FLYING AROUND MIDDLE PREP AREA AND DISH WASHING AREA. RECOMMENDED TO HAVE A PEST CONTROL OPERATOR TO SERVICE PREMISES ON OR AFTER 12/6/22.(PRIORITY FOUNDATION 7-38-020(A)(CITATION ISSUED)|\n|2568082      |TONY'S STEAK & LEMONADE SHRIMP MAX FISH & CHICKEN|Restaurant             |2851533       |1757 W 87TH ST    |60620  |Chicago|IL   |Canvass        |2022-12-06     |High  |Fail    |38            |INSECTS, RODENTS, & ANIMALS NOT PRESENT                                          |OBSERVED AN APPX.\"\"1/2-3/4\"\" GAP ALONG BOTTOM OF REAR DOOR MUST MAKE DOOR TIGHT FITTING.                                                                                                                                                                                                         |\n|2568082      |TONY'S STEAK & LEMONADE SHRIMP MAX FISH & CHICKEN|Restaurant             |2851533       |1757 W 87TH ST    |60620  |Chicago|IL   |Canvass        |2022-12-06     |High  |Fail    |41            |WIPING CLOTHS: PROPERLY USED & STORED                                            |MUST STORE WIPING CLOTHS IN A SANITIZING SOLUTION WHEN NOT IN USE AND NOT ON TOPSIDE OF CUTTING BOARDS AND PREP TABLES.                                                                                                                                                                          |\n|2568082      |TONY'S STEAK & LEMONADE SHRIMP MAX FISH & CHICKEN|Restaurant             |2851533       |1757 W 87TH ST    |60620  |Chicago|IL   |Canvass        |2022-12-06     |High  |Fail    |47            |FOOD & NON-FOOD CONTACT SURFACES CLEANABLE, PROPERLY DESIGNED, CONSTRUCTED & USED|MUST REMOVE RUST FROM WALK IN COOLER SHELVING UNITS.                                                                                                                                                                                                                                             |\n|2568082      |TONY'S STEAK & LEMONADE SHRIMP MAX FISH & CHICKEN|Restaurant             |2851533       |1757 W 87TH ST    |60620  |Chicago|IL   |Canvass        |2022-12-06     |High  |Fail    |49            |NON-FOOD/FOOD CONTACT SURFACES CLEAN                                             |MUST CLEAN GREASE AND FOOD DEBRIS BUILD UP FROM WALK IN COOLER -FANGUARD COVERS AND SHELVING UNITS,FRYER CABINETS, PREP TABLES,ROLLING CARTS.                                                                                                                                                    |\n|2568082      |TONY'S STEAK & LEMONADE SHRIMP MAX FISH & CHICKEN|Restaurant             |2851533       |1757 W 87TH ST    |60620  |Chicago|IL   |Canvass        |2022-12-06     |High  |Fail    |55            |PHYSICAL FACILITIES INSTALLED, MAINTAINED & CLEAN                                |MUST SCRAPE AND PAINT CHIPPING PAINT ON WALL IN LOBBY AREA.                                                                                                                                                                                                                                      |\n|2568082      |TONY'S STEAK & LEMONADE SHRIMP MAX FISH & CHICKEN|Restaurant             |2851533       |1757 W 87TH ST    |60620  |Chicago|IL   |Canvass        |2022-12-06     |High  |Fail    |55            |PHYSICAL FACILITIES INSTALLED, MAINTAINED & CLEAN                                |MUST CLEAN GREASE AND FOOD DEBRIS BUILD UP FROM FLOOR BEHIND AND UNDER FRYER CABINETS,FLOOR DRAIN UNDER 1- COMPARTMENT SINK.                                                                                                                                                                     |\n|2568082      |TONY'S STEAK & LEMONADE SHRIMP MAX FISH & CHICKEN|Restaurant             |2851533       |1757 W 87TH ST    |60620  |Chicago|IL   |Canvass        |2022-12-06     |High  |Fail    |55            |PHYSICAL FACILITIES INSTALLED, MAINTAINED & CLEAN                                |MUST CLEAN FOOD DEBRIS BUILD UP AND FOOD SPLATTER FROM DOOR OF OFFICE AND WALLS BEHIND COOKING EQUIPMENT.                                                                                                                                                                                        |\n|2568082      |TONY'S STEAK & LEMONADE SHRIMP MAX FISH & CHICKEN|Restaurant             |2851533       |1757 W 87TH ST    |60620  |Chicago|IL   |Canvass        |2022-12-06     |High  |Fail    |55            |PHYSICAL FACILITIES INSTALLED, MAINTAINED & CLEAN                                |MUST CLEAN EXCESSIVE DUST BUILD UP FROM CEILING TILES AND VENTILATION UNITS IN CEILING THROUGHOUT PREMISES.MUST REMOVE BLACK MOLDED CAULKING FROM WALL NEXT TO 1- COMPARTMENT SINK.                                                                                                              |\n|2568082      |TONY'S STEAK & LEMONADE SHRIMP MAX FISH & CHICKEN|Restaurant             |2851533       |1757 W 87TH ST    |60620  |Chicago|IL   |Canvass        |2022-12-06     |High  |Fail    |56            |ADEQUATE VENTILATION & LIGHTING; DESIGNATED AREAS USED                           |MUST CLEAN GREASE AND FOOD DEBRIS BUILD UP FROM FILTERS AND HOOD AT COOKING EQUIPMENT.                                                                                                                                                                                                           |\n|2568082      |TONY'S STEAK & LEMONADE SHRIMP MAX FISH & CHICKEN|Restaurant             |2851533       |1757 W 87TH ST    |60620  |Chicago|IL   |Canvass        |2022-12-06     |High  |Fail    |56            |ADEQUATE VENTILATION & LIGHTING; DESIGNATED AREAS USED                           |MUST REPLACE BURNTOUT LIGHT AT HOOD OF COOKING EQUIPMENT.                                                                                                                                                                                                                                        |\n|2568082      |TONY'S STEAK & LEMONADE SHRIMP MAX FISH & CHICKEN|Restaurant             |2851533       |1757 W 87TH ST    |60620  |Chicago|IL   |Canvass        |2022-12-06     |High  |Fail    |58            |ALLERGEN TRAINING AS REQUIRED                                                    |OBSERVED NO FOOD ALLERGEN TRAINING FOR FOOD MANAGERS MUST PROVIDE AND MAINTAIN.                                                                                                                                                                                                                  |\n|2570409      |AFC Sushi @ Jewel Osco #3443                     |Grocery Store          |2334636       |5343 N BROADWAY   |60640  |Chicago|IL   |Canvass        |2023-01-30     |High  |Pass    |55            |PHYSICAL FACILITIES INSTALLED, MAINTAINED & CLEAN                                |OBSERVED SOME FOOD DEBRIS ON FLOOR IN PREPARATION AREA. INSTRUCTED THE PERSON IN CHARGE TO DETAIL CLEAN AND MAINTAIN.                                                                                                                                                                            |\n|2497976      |PALENQUE 2                                       |Restaurant             |2781241       |4316 S PULASKI RD |60632  |Chicago|IL   |License        |2021-04-08     |High  |Pass    |39            |CONTAMINATION PREVENTED DURING FOOD PREPARATION, STORAGE & DISPLAY               |NO SPLASHGUARD AT FRONT HANDSINK NEXT TO TABLE. INSTD TO PROVIDE AND MAINTAIN                                                                                                                                                                                                                    |\n|2497976      |PALENQUE 2                                       |Restaurant             |2781241       |4316 S PULASKI RD |60632  |Chicago|IL   |License        |2021-04-08     |High  |Pass    |47            |FOOD & NON-FOOD CONTACT SURFACES CLEANABLE, PROPERLY DESIGNED, CONSTRUCTED & USED|RAW WOOD ON BOTTOM OF STORAGE SHELF. INSTD TO SEAL SO AS TO AN EASILY CLEANABLE, NON POROUS SURFACE                                                                                                                                                                                              |\n|2497976      |PALENQUE 2                                       |Restaurant             |2781241       |4316 S PULASKI RD |60632  |Chicago|IL   |License        |2021-04-08     |High  |Pass    |58            |ALLERGEN TRAINING AS REQUIRED                                                    |MISSING ALLERGEN TRAINING FOR 1 CITY OF CHICAGO CERTIFIED MANAGER. INSTD TO OBTAIN TRAINING  AND MAINTAIN VERIFICATION                                                                                                                                                                           |\n+-------------+-------------------------------------------------+-----------------------+--------------+------------------+-------+-------+-----+---------------+---------------+------+--------+--------------+---------------------------------------------------------------------------------+-------------------------------------------------------------------------------------------------------------------------------------------------------------------------------------------------------------------------------------------------------------------------------------------------+\nonly showing top 20 rows\n\n"
     ]
    }
   ],
   "source": [
    "# Define the list of columns to keep\n",
    "final_columns = [\n",
    "    'inspection_id',\n",
    "    'business_name',\n",
    "    'business_type',\n",
    "    'license_number',\n",
    "    'address',\n",
    "    'zipcode',\n",
    "    'city',\n",
    "    'state',\n",
    "    'inspection_type',\n",
    "    'inspection_date',\n",
    "    'risk',\n",
    "    'results',\n",
    "    'violation_code',\n",
    "    'violation_description',\n",
    "    'violation_comments'\n",
    "    \n",
    "]\n",
    "\n",
    "df_chicago_final = df_chicago_food_inspection.select(*final_columns)\n",
    "\n",
    "df_chicago_final.show(truncate=False)"
   ]
  },
  {
   "cell_type": "code",
   "execution_count": 0,
   "metadata": {
    "application/vnd.databricks.v1+cell": {
     "cellMetadata": {
      "byteLimit": 2048000,
      "rowLimit": 10000
     },
     "inputWidgets": {},
     "nuid": "984a3a4d-1794-4319-8e7d-56a84537bcf0",
     "showTitle": false,
     "tableResultSettingsMap": {},
     "title": ""
    }
   },
   "outputs": [
    {
     "output_type": "execute_result",
     "data": {
      "text/plain": [
       "260047"
      ]
     },
     "execution_count": 17,
     "metadata": {},
     "output_type": "execute_result"
    }
   ],
   "source": [
    "df_chicago_final.count()"
   ]
  },
  {
   "cell_type": "markdown",
   "metadata": {
    "application/vnd.databricks.v1+cell": {
     "cellMetadata": {
      "byteLimit": 2048000,
      "rowLimit": 10000
     },
     "inputWidgets": {},
     "nuid": "2762e1fb-ebf5-45ad-a0fd-13343f4aa14b",
     "showTitle": false,
     "tableResultSettingsMap": {},
     "title": ""
    }
   },
   "source": [
    "### Load the cleaned and transformed data to Snowflake Chicago stage table"
   ]
  },
  {
   "cell_type": "code",
   "execution_count": 0,
   "metadata": {
    "application/vnd.databricks.v1+cell": {
     "cellMetadata": {
      "byteLimit": 2048000,
      "rowLimit": 10000
     },
     "inputWidgets": {},
     "nuid": "0e01acb5-870c-4f82-a00d-16f6a3a5ba87",
     "showTitle": false,
     "tableResultSettingsMap": {},
     "title": ""
    }
   },
   "outputs": [],
   "source": [
    "# Set up Snowflake options\n",
    "sfOptions = {\n",
    "    \"sfURL\": \"KOMAXUA-FHA53164.snowflakecomputing.com\",  # Snowflake URL (without \"https://\")\n",
    "    \"sfDatabase\": \"FOOD_INSPECTION_DB\",                 # Snowflake database name\n",
    "    \"sfSchema\": \"RAW_STAGE_SCHEMA\",                     # Snowflake schema name\n",
    "    \"sfWarehouse\": \"DADABI_WH\",                         # Snowflake warehouse name\n",
    "    \"sfRole\": \"DEVELOPER\",                              # Snowflake role (optional)\n",
    "    \"sfUser\": \"DADABI_USER\",                            # Snowflake username\n",
    "    \"sfPassword\": \"snowflake123#\"                       # Snowflake password\n",
    "}\n",
    "\n",
    "# Write DataFrame to Snowflake\n",
    "(\n",
    "    df_chicago_final.write\n",
    "    .format(\"net.snowflake.spark.snowflake\")\n",
    "    .options(**sfOptions)\n",
    "    .option(\"dbtable\", \"STG_CHICAGO\")\n",
    "    .mode(\"overwrite\")\n",
    "    .save()\n",
    ")"
   ]
  }
 ],
 "metadata": {
  "application/vnd.databricks.v1+notebook": {
   "computePreferences": null,
   "dashboards": [],
   "environmentMetadata": {
    "base_environment": "",
    "environment_version": "1"
   },
   "inputWidgetPreferences": null,
   "language": "python",
   "notebookMetadata": {
    "pythonIndentUnit": 4
   },
   "notebookName": "Chicago_Data_Transformation",
   "widgets": {}
  }
 },
 "nbformat": 4,
 "nbformat_minor": 0
}