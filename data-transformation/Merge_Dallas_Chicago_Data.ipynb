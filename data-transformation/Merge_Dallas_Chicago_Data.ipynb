{
 "cells": [
  {
   "cell_type": "markdown",
   "metadata": {
    "application/vnd.databricks.v1+cell": {
     "cellMetadata": {
      "byteLimit": 2048000,
      "rowLimit": 10000
     },
     "inputWidgets": {},
     "nuid": "55945045-385a-4ecb-bda0-6272a4325011",
     "showTitle": false,
     "tableResultSettingsMap": {},
     "title": ""
    }
   },
   "source": [
    "# Combine Dallas and Chicago Stage Tables"
   ]
  },
  {
   "cell_type": "code",
   "execution_count": 0,
   "metadata": {
    "application/vnd.databricks.v1+cell": {
     "cellMetadata": {
      "byteLimit": 2048000,
      "rowLimit": 10000
     },
     "inputWidgets": {},
     "nuid": "6c2e953d-56d5-442b-8182-7a9b15555aab",
     "showTitle": false,
     "tableResultSettingsMap": {},
     "title": ""
    }
   },
   "outputs": [],
   "source": [
    "from pyspark.sql import functions as F\n",
    "\n",
    "sfOptions = {\n",
    "    \"sfURL\": \"KOMAXUA-FHA53164.snowflakecomputing.com\",  \n",
    "    \"sfDatabase\": \"FOOD_INSPECTION_DB\",                 \n",
    "    \"sfSchema\": \"RAW_STAGE_SCHEMA\",                     \n",
    "    \"sfWarehouse\": \"DADABI_WH\",                         \n",
    "    \"sfRole\": \"DEVELOPER\",                              \n",
    "    \"sfUser\": \"DADABI_USER\",                           \n",
    "    \"sfPassword\": \"snowflake123#\"\n",
    "}"
   ]
  },
  {
   "cell_type": "code",
   "execution_count": 0,
   "metadata": {
    "application/vnd.databricks.v1+cell": {
     "cellMetadata": {
      "byteLimit": 2048000,
      "rowLimit": 10000
     },
     "inputWidgets": {},
     "nuid": "5a3240b6-db44-450b-a880-192f6d2d4ad9",
     "showTitle": false,
     "tableResultSettingsMap": {},
     "title": ""
    }
   },
   "outputs": [
    {
     "output_type": "stream",
     "name": "stdout",
     "output_type": "stream",
     "text": [
      "+-------------+----------------+-------------+--------------------+-------+------+-----+---------------+---------------+----+-------+--------------+---------------------+--------------------+\n|inspection_id|   BUSINESS_NAME|BUSINESS_TYPE|             ADDRESS|ZIPCODE|  CITY|STATE|INSPECTION_TYPE|INSPECTION_DATE|RISK|RESULTS|VIOLATION_CODE|VIOLATION_DESCRIPTION|  VIOLATION_COMMENTS|\n+-------------+----------------+-------------+--------------------+-------+------+-----+---------------+---------------+----+-------+--------------+---------------------+--------------------+\n| 10000_dallas|7-ELEVEN #38461A|      Unknown|2450 GUS THOMASSO...|  75228|Dallas|   TX|        Routine|     2021-11-22| Low|   Pass|         -9999|              Unknown|             Unknown|\n| 10001_dallas|         FRESHII|      Unknown|2414 VICTORY PARK LN|  75219|Dallas|   TX|        Routine|     2022-09-17| Low|   Pass|            21|   RFSM - Not On Site|Sec. 17-2.2(c)(1)...|\n| 10001_dallas|         FRESHII|      Unknown|2414 VICTORY PARK LN|  75219|Dallas|   TX|        Routine|     2022-09-17| Low|   Pass|            26|    Allergen Labeling|228.79  Food.    ...|\n| 10002_dallas|            TCBY|      Unknown|6402 E MOCKINGBIR...|  75214|Dallas|   TX|        Routine|     2023-01-17| Low|   Pass|            10| Clean Sight and T...|228.113  Equipmen...|\n| 10002_dallas|            TCBY|      Unknown|6402 E MOCKINGBIR...|  75214|Dallas|   TX|        Routine|     2023-01-17| Low|   Pass|            22| Accredited food h...|õ228.33. Certifie...|\n+-------------+----------------+-------------+--------------------+-------+------+-----+---------------+---------------+----+-------+--------------+---------------------+--------------------+\nonly showing top 5 rows\n\n+---------------+--------------------+-------------+--------------------+-------+-------+-----+---------------+---------------+------+--------+--------------+---------------------+--------------------+\n|  inspection_id|       BUSINESS_NAME|BUSINESS_TYPE|             ADDRESS|ZIPCODE|   CITY|STATE|INSPECTION_TYPE|INSPECTION_DATE|  RISK| RESULTS|VIOLATION_CODE|VIOLATION_DESCRIPTION|  VIOLATION_COMMENTS|\n+---------------+--------------------+-------------+--------------------+-------+-------+-----+---------------+---------------+------+--------+--------------+---------------------+--------------------+\n|2596805_chicago|   KIFAH FOOD MARKET|Grocery Store|3906 W ROOSEVELT RD |  60624|Chicago|   IL|        License|     2024-07-01|  High|    Pass|            36| THERMOMETERS PROV...|OBSERVED COOLING ...|\n|2596805_chicago|   KIFAH FOOD MARKET|Grocery Store|3906 W ROOSEVELT RD |  60624|Chicago|   IL|        License|     2024-07-01|  High|    Pass|            47| FOOD & NON-FOOD C...|INSTRUCTED TO REM...|\n|2596805_chicago|   KIFAH FOOD MARKET|Grocery Store|3906 W ROOSEVELT RD |  60624|Chicago|   IL|        License|     2024-07-01|  High|    Pass|            53| TOILET FACILITIES...|OBSERVED INADEQUA...|\n|2596805_chicago|   KIFAH FOOD MARKET|Grocery Store|3906 W ROOSEVELT RD |  60624|Chicago|   IL|        License|     2024-07-01|  High|    Pass|            55| PHYSICAL FACILITI...|OBSERVED STORED U...|\n|2612492_chicago|HAROLDS CHICKEN C...|   Restaurant|  806- 808 E 79TH ST|  60619|Chicago|   IL|      Complaint|     2025-02-20|Medium|No Entry|         -9999|              Unknown|             Unknown|\n+---------------+--------------------+-------------+--------------------+-------+-------+-----+---------------+---------------+------+--------+--------------+---------------------+--------------------+\nonly showing top 5 rows\n\n"
     ]
    }
   ],
   "source": [
    "# load Dallas\n",
    "df_dallas_stg = (\n",
    "    spark.read\n",
    "         .format(\"snowflake\")\n",
    "         .options(**sfOptions)\n",
    "         .option(\"dbtable\", \"STG_DALLAS\")\n",
    "         .load()\n",
    "    # cast ID to string so types line up in the union\n",
    "    .withColumn(\"inspection_id\", F.col(\"inspection_id\").cast(\"string\"))\n",
    ")\n",
    "\n",
    "# load Chicago and suffix its IDs\n",
    "df_chicago_stg = (\n",
    "    spark.read\n",
    "         .format(\"snowflake\")\n",
    "         .options(**sfOptions)\n",
    "         .option(\"dbtable\", \"STG_CHICAGO\")\n",
    "         .load()\n",
    "    .withColumn(\"inspection_id\",\n",
    "        F.concat(F.col(\"inspection_id\").cast(\"string\"), F.lit(\"_chicago\"))\n",
    "    )\n",
    ")\n",
    "\n",
    "df_dallas_stg.show(5)\n",
    "df_chicago_stg.show(5)"
   ]
  },
  {
   "cell_type": "code",
   "execution_count": 0,
   "metadata": {
    "application/vnd.databricks.v1+cell": {
     "cellMetadata": {
      "byteLimit": 2048000,
      "rowLimit": 10000
     },
     "inputWidgets": {},
     "nuid": "1a88a7bc-f2d4-41a2-82b2-4302604f4431",
     "showTitle": false,
     "tableResultSettingsMap": {},
     "title": ""
    }
   },
   "outputs": [
    {
     "output_type": "stream",
     "name": "stdout",
     "output_type": "stream",
     "text": [
      "root\n |-- inspection_id: string (nullable = true)\n |-- BUSINESS_NAME: string (nullable = true)\n |-- BUSINESS_TYPE: string (nullable = true)\n |-- ADDRESS: string (nullable = true)\n |-- ZIPCODE: decimal(38,0) (nullable = true)\n |-- CITY: string (nullable = true)\n |-- STATE: string (nullable = true)\n |-- INSPECTION_TYPE: string (nullable = true)\n |-- INSPECTION_DATE: date (nullable = true)\n |-- RISK: string (nullable = true)\n |-- RESULTS: string (nullable = true)\n |-- VIOLATION_CODE: decimal(38,0) (nullable = true)\n |-- VIOLATION_DESCRIPTION: string (nullable = true)\n |-- VIOLATION_COMMENTS: string (nullable = true)\n\n"
     ]
    }
   ],
   "source": [
    "df_chicago_stg.printSchema()"
   ]
  },
  {
   "cell_type": "code",
   "execution_count": 0,
   "metadata": {
    "application/vnd.databricks.v1+cell": {
     "cellMetadata": {
      "byteLimit": 2048000,
      "rowLimit": 10000
     },
     "inputWidgets": {},
     "nuid": "a17c4ea1-0a8f-43ac-af94-93efb36e9d26",
     "showTitle": false,
     "tableResultSettingsMap": {},
     "title": ""
    }
   },
   "outputs": [
    {
     "output_type": "stream",
     "name": "stdout",
     "output_type": "stream",
     "text": [
      "root\n |-- inspection_id: string (nullable = false)\n |-- BUSINESS_NAME: string (nullable = true)\n |-- BUSINESS_TYPE: string (nullable = false)\n |-- ADDRESS: string (nullable = true)\n |-- ZIPCODE: decimal(38,0) (nullable = true)\n |-- CITY: string (nullable = true)\n |-- STATE: string (nullable = true)\n |-- INSPECTION_TYPE: string (nullable = true)\n |-- INSPECTION_DATE: date (nullable = true)\n |-- RISK: string (nullable = false)\n |-- RESULTS: string (nullable = false)\n |-- VIOLATION_CODE: decimal(38,0) (nullable = true)\n |-- VIOLATION_DESCRIPTION: string (nullable = true)\n |-- VIOLATION_COMMENTS: string (nullable = true)\n\n"
     ]
    }
   ],
   "source": [
    "df_dallas_stg.printSchema()"
   ]
  },
  {
   "cell_type": "code",
   "execution_count": 0,
   "metadata": {
    "application/vnd.databricks.v1+cell": {
     "cellMetadata": {
      "byteLimit": 2048000,
      "rowLimit": 10000
     },
     "inputWidgets": {},
     "nuid": "ab9b16a6-859a-4046-ac66-e55807e68334",
     "showTitle": false,
     "tableResultSettingsMap": {},
     "title": ""
    }
   },
   "outputs": [],
   "source": [
    "# Add source = \"dallas\"\n",
    "df_dallas_stg = df_dallas_stg.withColumn(\"source\", F.lit(\"dallas\"))\n",
    "\n",
    "# Add source = \"chicago\"\n",
    "df_chicago_stg = df_chicago_stg.withColumn(\"source\", F.lit(\"chicago\"))\n",
    "\n",
    "# Now union the two\n",
    "df_combined = df_dallas_stg.unionByName(df_chicago_stg)"
   ]
  },
  {
   "cell_type": "code",
   "execution_count": 0,
   "metadata": {
    "application/vnd.databricks.v1+cell": {
     "cellMetadata": {
      "byteLimit": 2048000,
      "rowLimit": 10000
     },
     "inputWidgets": {},
     "nuid": "b48439d1-ba65-41c0-b0fe-097f5a62cbf6",
     "showTitle": false,
     "tableResultSettingsMap": {},
     "title": ""
    }
   },
   "outputs": [],
   "source": [
    "import uuid\n",
    "\n",
    "job_id = str(uuid.uuid4())\n",
    "df_combined_stg = df_combined.withColumn(\"job_id\", F.lit(job_id)) \\\n",
    "                                   .withColumn(\"load_dt\", F.current_timestamp().cast(\"date\"))"
   ]
  },
  {
   "cell_type": "code",
   "execution_count": 0,
   "metadata": {
    "application/vnd.databricks.v1+cell": {
     "cellMetadata": {
      "byteLimit": 2048000,
      "rowLimit": 10000
     },
     "inputWidgets": {},
     "nuid": "da7c8841-6d8a-4a77-864d-cb3041f04d6b",
     "showTitle": false,
     "tableResultSettingsMap": {},
     "title": ""
    }
   },
   "outputs": [
    {
     "output_type": "stream",
     "name": "stdout",
     "output_type": "stream",
     "text": [
      "+-------------+--------------------+-------------+--------------------+-------+------+-----+---------------+---------------+----+-------+--------------+---------------------+--------------------+------+--------------------+----------+\n|inspection_id|       BUSINESS_NAME|BUSINESS_TYPE|             ADDRESS|ZIPCODE|  CITY|STATE|INSPECTION_TYPE|INSPECTION_DATE|RISK|RESULTS|VIOLATION_CODE|VIOLATION_DESCRIPTION|  VIOLATION_COMMENTS|source|              job_id|   load_dt|\n+-------------+--------------------+-------------+--------------------+-------+------+-----+---------------+---------------+----+-------+--------------+---------------------+--------------------+------+--------------------+----------+\n| 10000_dallas|    7-ELEVEN #38461A|      Unknown|2450 GUS THOMASSO...|  75228|Dallas|   TX|        Routine|     2021-11-22| Low|   Pass|         -9999|              Unknown|             Unknown|dallas|74596cf1-124b-44c...|2025-04-20|\n| 10001_dallas|             FRESHII|      Unknown|2414 VICTORY PARK LN|  75219|Dallas|   TX|        Routine|     2022-09-17| Low|   Pass|            21|   RFSM - Not On Site|Sec. 17-2.2(c)(1)...|dallas|74596cf1-124b-44c...|2025-04-20|\n| 10001_dallas|             FRESHII|      Unknown|2414 VICTORY PARK LN|  75219|Dallas|   TX|        Routine|     2022-09-17| Low|   Pass|            26|    Allergen Labeling|228.79  Food.    ...|dallas|74596cf1-124b-44c...|2025-04-20|\n| 10002_dallas|                TCBY|      Unknown|6402 E MOCKINGBIR...|  75214|Dallas|   TX|        Routine|     2023-01-17| Low|   Pass|            10| Clean Sight and T...|228.113  Equipmen...|dallas|74596cf1-124b-44c...|2025-04-20|\n| 10002_dallas|                TCBY|      Unknown|6402 E MOCKINGBIR...|  75214|Dallas|   TX|        Routine|     2023-01-17| Low|   Pass|            22| Accredited food h...|õ228.33. Certifie...|dallas|74596cf1-124b-44c...|2025-04-20|\n| 10003_dallas|  BUFFALO WILD WINGS|      Unknown|4140 LEMMON AVE #176|  75219|Dallas|   TX|        Routine|     2021-02-09| Low|   Pass|            32| Maintain in Good ...|228.223 REQUIREME...|dallas|74596cf1-124b-44c...|2025-04-20|\n| 10003_dallas|  BUFFALO WILD WINGS|      Unknown|4140 LEMMON AVE #176|  75219|Dallas|   TX|        Routine|     2021-02-09| Low|   Pass|            39| Store all equipme...|228.124  Equipmen...|dallas|74596cf1-124b-44c...|2025-04-20|\n| 10003_dallas|  BUFFALO WILD WINGS|      Unknown|4140 LEMMON AVE #176|  75219|Dallas|   TX|        Routine|     2021-02-09| Low|   Pass|            42| Dirty nonfood con...|228.113  Equipmen...|dallas|74596cf1-124b-44c...|2025-04-20|\n| 10003_dallas|  BUFFALO WILD WINGS|      Unknown|4140 LEMMON AVE #176|  75219|Dallas|   TX|        Routine|     2021-02-09| Low|   Pass|            43| Light bulbs, ligh...|228.174  Physical...|dallas|74596cf1-124b-44c...|2025-04-20|\n| 10004_dallas|MORELIA MEXICAN R...|      Unknown| 1034 S BUCKNER BLVD|  75217|Dallas|   TX|        Routine|     2021-06-14| Low|   Pass|             2| Cold Hold (41øF/4...|228.75  Food.    ...|dallas|74596cf1-124b-44c...|2025-04-20|\n| 10004_dallas|MORELIA MEXICAN R...|      Unknown| 1034 S BUCKNER BLVD|  75217|Dallas|   TX|        Routine|     2021-06-14| Low|   Pass|             9| Food protected cr...|228.66  Food.    ...|dallas|74596cf1-124b-44c...|2025-04-20|\n| 10004_dallas|MORELIA MEXICAN R...|      Unknown| 1034 S BUCKNER BLVD|  75217|Dallas|   TX|        Routine|     2021-06-14| Low|   Pass|            15| Contact RTE Produ...|SEC. 17-3.2. ADDI...|dallas|74596cf1-124b-44c...|2025-04-20|\n| 10004_dallas|MORELIA MEXICAN R...|      Unknown| 1034 S BUCKNER BLVD|  75217|Dallas|   TX|        Routine|     2021-06-14| Low|   Pass|            21|   RFSM - Not On Site|Sec. 17-2.2(c)(1)...|dallas|74596cf1-124b-44c...|2025-04-20|\n| 10004_dallas|MORELIA MEXICAN R...|      Unknown| 1034 S BUCKNER BLVD|  75217|Dallas|   TX|        Routine|     2021-06-14| Low|   Pass|            32| Maintain in Good ...|228.223 REQUIREME...|dallas|74596cf1-124b-44c...|2025-04-20|\n| 10004_dallas|MORELIA MEXICAN R...|      Unknown| 1034 S BUCKNER BLVD|  75217|Dallas|   TX|        Routine|     2021-06-14| Low|   Pass|            34| Pest control-rout...|228.186  Physical...|dallas|74596cf1-124b-44c...|2025-04-20|\n| 10004_dallas|MORELIA MEXICAN R...|      Unknown| 1034 S BUCKNER BLVD|  75217|Dallas|   TX|        Routine|     2021-06-14| Low|   Pass|            35| Eating food, chew...|228.42  Managemen...|dallas|74596cf1-124b-44c...|2025-04-20|\n| 10004_dallas|MORELIA MEXICAN R...|      Unknown| 1034 S BUCKNER BLVD|  75217|Dallas|   TX|        Routine|     2021-06-14| Low|   Pass|            36| Containers of che...|228.68  Food.    ...|dallas|74596cf1-124b-44c...|2025-04-20|\n| 10004_dallas|MORELIA MEXICAN R...|      Unknown| 1034 S BUCKNER BLVD|  75217|Dallas|   TX|        Routine|     2021-06-14| Low|   Pass|            37| Storing the food ...|228.69  Food.    ...|dallas|74596cf1-124b-44c...|2025-04-20|\n| 10004_dallas|MORELIA MEXICAN R...|      Unknown| 1034 S BUCKNER BLVD|  75217|Dallas|   TX|        Routine|     2021-06-14| Low|   Pass|            39| Store  equipment ...|228.124  Equipmen...|dallas|74596cf1-124b-44c...|2025-04-20|\n| 10004_dallas|MORELIA MEXICAN R...|      Unknown| 1034 S BUCKNER BLVD|  75217|Dallas|   TX|        Routine|     2021-06-14| Low|   Pass|            42| Dirty nonfood con...|228.113  Equipmen...|dallas|74596cf1-124b-44c...|2025-04-20|\n+-------------+--------------------+-------------+--------------------+-------+------+-----+---------------+---------------+----+-------+--------------+---------------------+--------------------+------+--------------------+----------+\nonly showing top 20 rows\n\n"
     ]
    }
   ],
   "source": [
    "df_combined_stg.show()"
   ]
  },
  {
   "cell_type": "markdown",
   "metadata": {
    "application/vnd.databricks.v1+cell": {
     "cellMetadata": {
      "byteLimit": 2048000,
      "rowLimit": 10000
     },
     "inputWidgets": {},
     "nuid": "22ba0266-9ba7-42fd-8f31-4b18a751df9e",
     "showTitle": false,
     "tableResultSettingsMap": {},
     "title": ""
    }
   },
   "source": [
    "### Load final combine food inspection table to Snfowlake stage table"
   ]
  },
  {
   "cell_type": "code",
   "execution_count": 0,
   "metadata": {
    "application/vnd.databricks.v1+cell": {
     "cellMetadata": {
      "byteLimit": 2048000,
      "rowLimit": 10000
     },
     "inputWidgets": {},
     "nuid": "bb487391-def8-428e-87cd-fbc550b69729",
     "showTitle": false,
     "tableResultSettingsMap": {},
     "title": ""
    }
   },
   "outputs": [],
   "source": [
    "# write out (will create or overwrite the target table)\n",
    "df_combined_stg.write \\\n",
    "    .format(\"snowflake\") \\\n",
    "    .options(**sfOptions) \\\n",
    "    .option(\"dbtable\", \"STG_FINAL_TABLE\") \\\n",
    "    .mode(\"overwrite\") \\\n",
    "    .save()"
   ]
  }
 ],
 "metadata": {
  "application/vnd.databricks.v1+notebook": {
   "computePreferences": null,
   "dashboards": [],
   "environmentMetadata": {
    "base_environment": "",
    "environment_version": "1"
   },
   "inputWidgetPreferences": null,
   "language": "python",
   "notebookMetadata": {
    "pythonIndentUnit": 4
   },
   "notebookName": "Merge_Dallas_Chicago_Data",
   "widgets": {}
  }
 },
 "nbformat": 4,
 "nbformat_minor": 0
}