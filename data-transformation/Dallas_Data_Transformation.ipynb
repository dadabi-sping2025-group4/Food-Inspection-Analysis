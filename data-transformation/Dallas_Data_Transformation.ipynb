{
 "cells": [
  {
   "cell_type": "markdown",
   "metadata": {
    "application/vnd.databricks.v1+cell": {
     "cellMetadata": {
      "byteLimit": 2048000,
      "rowLimit": 10000
     },
     "inputWidgets": {},
     "nuid": "df0c7c1d-4c77-447f-ac03-4f5834489c73",
     "showTitle": false,
     "tableResultSettingsMap": {},
     "title": ""
    }
   },
   "source": [
    "# Dallas Food Inspection Data Transformation"
   ]
  },
  {
   "cell_type": "markdown",
   "metadata": {
    "application/vnd.databricks.v1+cell": {
     "cellMetadata": {
      "byteLimit": 2048000,
      "rowLimit": 10000
     },
     "inputWidgets": {},
     "nuid": "37f27433-7053-4f76-a336-cca133122344",
     "showTitle": false,
     "tableResultSettingsMap": {},
     "title": ""
    }
   },
   "source": [
    "### Read Dallas parquet file from silver container in azure data lake"
   ]
  },
  {
   "cell_type": "code",
   "execution_count": 0,
   "metadata": {
    "application/vnd.databricks.v1+cell": {
     "cellMetadata": {
      "byteLimit": 2048000,
      "rowLimit": 10000
     },
     "inputWidgets": {},
     "nuid": "63e93cda-efa1-4eb3-8f44-f111aa9f4a16",
     "showTitle": false,
     "tableResultSettingsMap": {},
     "title": ""
    }
   },
   "outputs": [
    {
     "output_type": "stream",
     "name": "stdout",
     "output_type": "stream",
     "text": [
      "Mount point already exists or error: An error occurred while calling o399.mount.\n: java.rmi.RemoteException: java.lang.IllegalArgumentException: requirement failed: Directory already mounted: /mnt/silver; nested exception is: \n\tjava.lang.IllegalArgumentException: requirement failed: Directory already mounted: /mnt/silver\n\tat com.databricks.backend.daemon.data.client.DbfsClient.send0(DbfsClient.scala:135)\n\tat com.databricks.backend.daemon.data.client.DbfsClient.sendIdempotent(DbfsClient.scala:69)\n\tat com.databricks.backend.daemon.dbutils.DBUtilsCore.createOrUpdateMount(DBUtilsCore.scala:1053)\n\tat com.databricks.backend.daemon.dbutils.DBUtilsCore.$anonfun$mount$1(DBUtilsCore.scala:1079)\n\tat com.databricks.logging.UsageLogging.$anonfun$recordOperation$1(UsageLogging.scala:571)\n\tat com.databricks.logging.UsageLogging.executeThunkAndCaptureResultTags$1(UsageLogging.scala:667)\n\tat com.databricks.logging.UsageLogging.$anonfun$recordOperationWithResultTags$4(UsageLogging.scala:685)\n\tat com.databricks.logging.UsageLogging.$anonfun$withAttributionContext$1(UsageLogging.scala:426)\n\tat scala.util.DynamicVariable.withValue(DynamicVariable.scala:62)\n\tat com.databricks.logging.AttributionContext$.withValue(AttributionContext.scala:196)\n\tat com.databricks.logging.UsageLogging.withAttributionContext(UsageLogging.scala:424)\n\tat com.databricks.logging.UsageLogging.withAttributionContext$(UsageLogging.scala:418)\n\tat com.databricks.backend.daemon.dbutils.FSUtils.withAttributionContext(DBUtilsCore.scala:71)\n\tat com.databricks.logging.UsageLogging.withAttributionTags(UsageLogging.scala:470)\n\tat com.databricks.logging.UsageLogging.withAttributionTags$(UsageLogging.scala:455)\n\tat com.databricks.backend.daemon.dbutils.FSUtils.withAttributionTags(DBUtilsCore.scala:71)\n\tat com.databricks.logging.UsageLogging.recordOperationWithResultTags(UsageLogging.scala:662)\n\tat com.databricks.logging.UsageLogging.recordOperationWithResultTags$(UsageLogging.scala:580)\n\tat com.databricks.backend.daemon.dbutils.FSUtils.recordOperationWithResultTags(DBUtilsCore.scala:71)\n\tat com.databricks.logging.UsageLogging.recordOperation(UsageLogging.scala:571)\n\tat com.databricks.logging.UsageLogging.recordOperation$(UsageLogging.scala:540)\n\tat com.databricks.backend.daemon.dbutils.FSUtils.recordOperation(DBUtilsCore.scala:71)\n\tat com.databricks.backend.daemon.dbutils.FSUtils.recordDbutilsFsOp(DBUtilsCore.scala:135)\n\tat com.databricks.backend.daemon.dbutils.DBUtilsCore.mount(DBUtilsCore.scala:1073)\n\tat sun.reflect.NativeMethodAccessorImpl.invoke0(Native Method)\n\tat sun.reflect.NativeMethodAccessorImpl.invoke(NativeMethodAccessorImpl.java:62)\n\tat sun.reflect.DelegatingMethodAccessorImpl.invoke(DelegatingMethodAccessorImpl.java:43)\n\tat java.lang.reflect.Method.invoke(Method.java:498)\n\tat py4j.reflection.MethodInvoker.invoke(MethodInvoker.java:244)\n\tat py4j.reflection.ReflectionEngine.invoke(ReflectionEngine.java:397)\n\tat py4j.Gateway.invoke(Gateway.java:306)\n\tat py4j.commands.AbstractCommand.invokeMethod(AbstractCommand.java:132)\n\tat py4j.commands.CallCommand.execute(CallCommand.java:79)\n\tat py4j.ClientServerConnection.waitForCommands(ClientServerConnection.java:199)\n\tat py4j.ClientServerConnection.run(ClientServerConnection.java:119)\n\tat java.lang.Thread.run(Thread.java:750)\nCaused by: java.lang.IllegalArgumentException: requirement failed: Directory already mounted: /mnt/silver\n\tat scala.Predef$.require(Predef.scala:281)\n\tat com.databricks.backend.daemon.data.server.DefaultMetadataManager.$anonfun$insertMount$1(MetadataManager.scala:813)\n\tat com.databricks.backend.daemon.data.server.DefaultMetadataManager.$anonfun$modifyAndVerify$2(MetadataManager.scala:1195)\n\tat scala.runtime.java8.JFunction0$mcV$sp.apply(JFunction0$mcV$sp.java:23)\n\tat com.databricks.backend.daemon.data.server.DefaultMetadataManager.withRetries(MetadataManager.scala:968)\n\tat com.databricks.backend.daemon.data.server.DefaultMetadataManager.modifyAndVerify(MetadataManager.scala:1184)\n\tat com.databricks.backend.daemon.data.server.DefaultMetadataManager.insertMount(MetadataManager.scala:821)\n\tat com.databricks.backend.daemon.data.server.handler.MountHandler.receive(MountHandler.scala:131)\n\tat com.databricks.backend.daemon.data.server.handler.CEMountHandler.receive(MountHandler.scala:175)\n\tat com.databricks.backend.daemon.data.server.handler.DbfsRequestHandler.receive(DbfsRequestHandler.scala:16)\n\tat com.databricks.backend.daemon.data.server.handler.DbfsRequestHandler.receive$(DbfsRequestHandler.scala:15)\n\tat com.databricks.backend.daemon.data.server.handler.MountHandler.receive(MountHandler.scala:39)\n\tat com.databricks.backend.daemon.data.server.session.SessionContext.$anonfun$queryHandlers$1(SessionContext.scala:54)\n\tat com.databricks.backend.daemon.data.server.session.SessionContext.$anonfun$queryHandlers$1$adapted(SessionContext.scala:53)\n\tat scala.collection.immutable.List.foreach(List.scala:431)\n\tat com.databricks.backend.daemon.data.server.session.SessionContext.queryHandlers(SessionContext.scala:53)\n\tat com.databricks.backend.daemon.data.server.DbfsServerBackend$$anonfun$receive$4.$anonfun$applyOrElse$10(DbfsServerBackend.scala:482)\n\tat com.databricks.logging.AttributionContextTracing.$anonfun$withAttributionContext$1(AttributionContextTracing.scala:49)\n\tat com.databricks.logging.AttributionContext$.$anonfun$withValue$1(AttributionContext.scala:293)\n\tat scala.util.DynamicVariable.withValue(DynamicVariable.scala:62)\n\tat com.databricks.logging.AttributionContext$.withValue(AttributionContext.scala:289)\n\tat com.databricks.logging.AttributionContextTracing.withAttributionContext(AttributionContextTracing.scala:47)\n\tat com.databricks.logging.AttributionContextTracing.withAttributionContext$(AttributionContextTracing.scala:44)\n\tat com.databricks.rpc.ServerBackend.withAttributionContext(ServerBackend.scala:22)\n\tat com.databricks.logging.AttributionContextTracing.withAttributionTags(AttributionContextTracing.scala:96)\n\tat com.databricks.logging.AttributionContextTracing.withAttributionTags$(AttributionContextTracing.scala:77)\n\tat com.databricks.rpc.ServerBackend.withAttributionTags(ServerBackend.scala:22)\n\tat com.databricks.backend.daemon.data.server.DbfsServerBackend$$anonfun$receive$4.applyOrElse(DbfsServerBackend.scala:482)\n\tat com.databricks.backend.daemon.data.server.DbfsServerBackend$$anonfun$receive$4.applyOrElse(DbfsServerBackend.scala:371)\n\tat com.databricks.rpc.ServerBackend.$anonfun$internalReceive0$2(ServerBackend.scala:174)\n\tat com.databricks.rpc.ServerBackend$$anonfun$commonReceive$1.applyOrElse(ServerBackend.scala:200)\n\tat com.databricks.rpc.ServerBackend$$anonfun$commonReceive$1.applyOrElse(ServerBackend.scala:200)\n\tat com.databricks.rpc.ServerBackend.internalReceive0(ServerBackend.scala:171)\n\tat com.databricks.rpc.ServerBackend.$anonfun$internalReceive$1(ServerBackend.scala:147)\n\tat com.databricks.logging.UsageLogging.$anonfun$recordOperation$1(UsageLogging.scala:510)\n\tat com.databricks.logging.UsageLogging.executeThunkAndCaptureResultTags$1(UsageLogging.scala:616)\n\tat com.databricks.logging.UsageLogging.$anonfun$recordOperationWithResultTags$4(UsageLogging.scala:643)\n\tat com.databricks.logging.AttributionContextTracing.$anonfun$withAttributionContext$1(AttributionContextTracing.scala:49)\n\tat com.databricks.logging.AttributionContext$.$anonfun$withValue$1(AttributionContext.scala:293)\n\tat scala.util.DynamicVariable.withValue(DynamicVariable.scala:62)\n\tat com.databricks.logging.AttributionContext$.withValue(AttributionContext.scala:289)\n\tat com.databricks.logging.AttributionContextTracing.withAttributionContext(AttributionContextTracing.scala:47)\n\tat com.databricks.logging.AttributionContextTracing.withAttributionContext$(AttributionContextTracing.scala:44)\n\tat com.databricks.rpc.ServerBackend.withAttributionContext(ServerBackend.scala:22)\n\tat com.databricks.logging.AttributionContextTracing.withAttributionTags(AttributionContextTracing.scala:96)\n\tat com.databricks.logging.AttributionContextTracing.withAttributionTags$(AttributionContextTracing.scala:77)\n\tat com.databricks.rpc.ServerBackend.withAttributionTags(ServerBackend.scala:22)\n\tat com.databricks.logging.UsageLogging.recordOperationWithResultTags(UsageLogging.scala:611)\n\tat com.databricks.logging.UsageLogging.recordOperationWithResultTags$(UsageLogging.scala:519)\n\tat com.databricks.rpc.ServerBackend.recordOperationWithResultTags(ServerBackend.scala:22)\n\tat com.databricks.logging.UsageLogging.recordOperation(UsageLogging.scala:511)\n\tat com.databricks.logging.UsageLogging.recordOperation$(UsageLogging.scala:475)\n\tat com.databricks.rpc.ServerBackend.recordOperation(ServerBackend.scala:22)\n\tat com.databricks.rpc.ServerBackend.internalReceive(ServerBackend.scala:146)\n\tat com.databricks.rpc.JettyServer$RequestManager.handleRPC(JettyServer.scala:1033)\n\tat com.databricks.rpc.JettyServer$RequestManager.handleRequestAndRespond(JettyServer.scala:953)\n\tat com.databricks.rpc.JettyServer$RequestManager.$anonfun$handleHttp$5(JettyServer.scala:548)\n\tat com.databricks.rpc.JettyServer$RequestManager.$anonfun$handleHttp$5$adapted(JettyServer.scala:513)\n\tat com.databricks.logging.activity.ActivityContextFactory$.$anonfun$withActivityInternal$13(ActivityContextFactory.scala:831)\n\tat com.databricks.logging.AttributionContextTracing.$anonfun$withAttributionContext$1(AttributionContextTracing.scala:49)\n\tat com.databricks.logging.AttributionContext$.$anonfun$withValue$1(AttributionContext.scala:293)\n\tat scala.util.DynamicVariable.withValue(DynamicVariable.scala:62)\n\tat com.databricks.logging.AttributionContext$.withValue(AttributionContext.scala:289)\n\tat com.databricks.logging.AttributionContextTracing.withAttributionContext(AttributionContextTracing.scala:47)\n\tat com.databricks.logging.AttributionContextTracing.withAttributionContext$(AttributionContextTracing.scala:44)\n\tat com.databricks.logging.activity.ActivityContextFactory$.withAttributionContext(ActivityContextFactory.scala:53)\n\tat com.databricks.logging.activity.ActivityContextFactory$.$anonfun$withActivityInternal$3(ActivityContextFactory.scala:831)\n\tat com.databricks.context.integrity.IntegrityCheckContext$ThreadLocalStorage$.withValue(IntegrityCheckContext.scala:73)\n\tat com.databricks.logging.activity.ActivityContextFactory$.withActivityInternal(ActivityContextFactory.scala:794)\n\tat com.databricks.logging.activity.ActivityContextFactory$.withActivityInternal(ActivityContextFactory.scala:776)\n\tat com.databricks.logging.activity.ActivityContextFactory$.$anonfun$withServiceRequestActivity$15(ActivityContextFactory.scala:285)\n\tat com.databricks.logging.AttributionContextTracing.$anonfun$withAttributionContext$1(AttributionContextTracing.scala:49)\n\tat com.databricks.logging.AttributionContext$.$anonfun$withValue$1(AttributionContext.scala:293)\n\tat scala.util.DynamicVariable.withValue(DynamicVariable.scala:62)\n\tat com.databricks.logging.AttributionContext$.withValue(AttributionContext.scala:289)\n\tat com.databricks.logging.AttributionContextTracing.withAttributionContext(AttributionContextTracing.scala:47)\n\tat com.databricks.logging.AttributionContextTracing.withAttributionContext$(AttributionContextTracing.scala:44)\n\tat com.databricks.logging.activity.ActivityContextFactory$.withAttributionContext(ActivityContextFactory.scala:53)\n\tat com.databricks.logging.activity.ActivityContextFactory$.withServiceRequestActivity(ActivityContextFactory.scala:285)\n\tat com.databricks.rpc.JettyServer$RequestManager.handleHttp(JettyServer.scala:513)\n\tat com.databricks.rpc.JettyServer$RequestManager.doPost(JettyServer.scala:408)\n\tat javax.servlet.http.HttpServlet.service(HttpServlet.java:665)\n\tat com.databricks.rpc.HttpServletWithPatch.service(HttpServletWithPatch.scala:33)\n\tat javax.servlet.http.HttpServlet.service(HttpServlet.java:750)\n\tat org.eclipse.jetty.servlet.ServletHolder.handle(ServletHolder.java:799)\n\tat org.eclipse.jetty.servlet.ServletHandler.doHandle(ServletHandler.java:554)\n\tat org.eclipse.jetty.server.handler.ScopedHandler.nextScope(ScopedHandler.java:190)\n\tat org.eclipse.jetty.servlet.ServletHandler.doScope(ServletHandler.java:505)\n\tat org.eclipse.jetty.server.handler.ScopedHandler.handle(ScopedHandler.java:141)\n\tat org.eclipse.jetty.server.handler.HandlerWrapper.handle(HandlerWrapper.java:127)\n\tat org.eclipse.jetty.server.Server.handle(Server.java:516)\n\tat org.eclipse.jetty.server.HttpChannel.lambda$handle$1(HttpChannel.java:487)\n\tat org.eclipse.jetty.server.HttpChannel.dispatch(HttpChannel.java:732)\n\tat org.eclipse.jetty.server.HttpChannel.handle(HttpChannel.java:479)\n\tat org.eclipse.jetty.server.HttpConnection.onFillable(HttpConnection.java:277)\n\tat org.eclipse.jetty.io.AbstractConnection$ReadCallback.succeeded(AbstractConnection.java:311)\n\tat org.eclipse.jetty.io.FillInterest.fillable(FillInterest.java:105)\n\tat org.eclipse.jetty.io.ChannelEndPoint$1.run(ChannelEndPoint.java:104)\n\tat org.eclipse.jetty.util.thread.strategy.EatWhatYouKill.runTask(EatWhatYouKill.java:338)\n\tat org.eclipse.jetty.util.thread.strategy.EatWhatYouKill.doProduce(EatWhatYouKill.java:315)\n\tat org.eclipse.jetty.util.thread.strategy.EatWhatYouKill.tryProduce(EatWhatYouKill.java:173)\n\tat org.eclipse.jetty.util.thread.strategy.EatWhatYouKill.run(EatWhatYouKill.java:131)\n\tat org.eclipse.jetty.util.thread.ReservedThreadExecutor$ReservedThread.run(ReservedThreadExecutor.java:409)\n\tat com.databricks.rpc.InstrumentedQueuedThreadPool$$anon$1.$anonfun$run$2(InstrumentedQueuedThreadPool.scala:110)\n\tat scala.runtime.java8.JFunction0$mcV$sp.apply(JFunction0$mcV$sp.java:23)\n\tat com.databricks.logging.AttributionContextTracing.$anonfun$withAttributionContext$1(AttributionContextTracing.scala:49)\n\tat com.databricks.logging.AttributionContext$.$anonfun$withValue$1(AttributionContext.scala:293)\n\tat scala.util.DynamicVariable.withValue(DynamicVariable.scala:62)\n\tat com.databricks.logging.AttributionContext$.withValue(AttributionContext.scala:289)\n\tat com.databricks.logging.AttributionContextTracing.withAttributionContext(AttributionContextTracing.scala:47)\n\tat com.databricks.logging.AttributionContextTracing.withAttributionContext$(AttributionContextTracing.scala:44)\n\tat com.databricks.rpc.InstrumentedQueuedThreadPool.withAttributionContext(InstrumentedQueuedThreadPool.scala:45)\n\tat com.databricks.rpc.InstrumentedQueuedThreadPool$$anon$1.$anonfun$run$1(InstrumentedQueuedThreadPool.scala:110)\n\tat scala.runtime.java8.JFunction0$mcV$sp.apply(JFunction0$mcV$sp.java:23)\n\tat com.databricks.instrumentation.QueuedThreadPoolInstrumenter.trackActiveThreads(QueuedThreadPoolInstrumenter.scala:132)\n\tat com.databricks.instrumentation.QueuedThreadPoolInstrumenter.trackActiveThreads$(QueuedThreadPoolInstrumenter.scala:129)\n\tat com.databricks.rpc.InstrumentedQueuedThreadPool.trackActiveThreads(InstrumentedQueuedThreadPool.scala:45)\n\tat com.databricks.rpc.InstrumentedQueuedThreadPool$$anon$1.run(InstrumentedQueuedThreadPool.scala:92)\n\tat org.eclipse.jetty.util.thread.QueuedThreadPool.runJob(QueuedThreadPool.java:883)\n\tat org.eclipse.jetty.util.thread.QueuedThreadPool$Runner.run(QueuedThreadPool.java:1034)\n\tat java.lang.Thread.run(Thread.java:840)\n\n+--------------------+--------------------+-------+------+-----+---------------+---------------+----------------+----------------------+----------------------+----------------------+----------------------+----------------------+----------------------+----------------------+----------------------+----------------------+-----------------------+-----------------------+-----------------------+-----------------------+-----------------------+-----------------------+-----------------------+-----------------------+-----------------------+-----------------------+-----------------------+-----------------------+-----------------------+-----------------------+-----------------------+-----------------------+--------------------+--------------------+--------------------+--------------------+--------------------+--------------------+--------------------+-----------------+-----------------+------------------+------------------+------------------+------------------+------------------+------------------+------------------+------------------+------------------+------------------+------------------+------------------+------------------+------------------+------------------+------------------+--------------------+--------------------+--------------------+--------------------+--------------------+--------------------+--------------------+---------------+---------------+----------------+----------------+----------------+----------------+----------------+----------------+----------------+----------------+----------------+----------------+----------------+----------------+----------------+----------------+----------------+\n|     restaurant_name|      street_address|zipcode|  city|state|inspection_type|inspection_date|inspection_score|violation_description1|violation_description2|violation_description3|violation_description4|violation_description5|violation_description6|violation_description7|violation_description8|violation_description9|violation_description10|violation_description11|violation_description12|violation_description13|violation_description14|violation_description15|violation_description16|violation_description17|violation_description18|violation_description19|violation_description20|violation_description21|violation_description22|violation_description23|violation_description24|violation_description25|   violation_detail1|   violation_detail2|   violation_detail3|   violation_detail4|   violation_detail5|   violation_detail6|   violation_detail7|violation_detail8|violation_detail9|violation_detail10|violation_detail11|violation_detail12|violation_detail13|violation_detail14|violation_detail15|violation_detail16|violation_detail17|violation_detail18|violation_detail19|violation_detail20|violation_detail21|violation_detail22|violation_detail23|violation_detail24|violation_detail25|     violation_memo1|     violation_memo2|     violation_memo3|     violation_memo4|     violation_memo5|     violation_memo6|     violation_memo7|violation_memo8|violation_memo9|violation_memo10|violation_memo11|violation_memo12|violation_memo13|violation_memo14|violation_memo15|violation_memo16|violation_memo17|violation_memo18|violation_memo19|violation_memo21|violation_memo22|violation_memo23|violation_memo24|violation_memo25|\n+--------------------+--------------------+-------+------+-----+---------------+---------------+----------------+----------------------+----------------------+----------------------+----------------------+----------------------+----------------------+----------------------+----------------------+----------------------+-----------------------+-----------------------+-----------------------+-----------------------+-----------------------+-----------------------+-----------------------+-----------------------+-----------------------+-----------------------+-----------------------+-----------------------+-----------------------+-----------------------+-----------------------+-----------------------+--------------------+--------------------+--------------------+--------------------+--------------------+--------------------+--------------------+-----------------+-----------------+------------------+------------------+------------------+------------------+------------------+------------------+------------------+------------------+------------------+------------------+------------------+------------------+------------------+------------------+------------------+------------------+--------------------+--------------------+--------------------+--------------------+--------------------+--------------------+--------------------+---------------+---------------+----------------+----------------+----------------+----------------+----------------+----------------+----------------+----------------+----------------+----------------+----------------+----------------+----------------+----------------+----------------+\n|CHIPOTLE MEXICAN ...|3701 W NORTHWEST ...|  75220|Dallas|Texas|        Routine|     2023-07-14|            NULL|  44 Trash can prov...|  42 Floors/walls/c...|  39 Utensils, sing...|  37 Food shall be ...|  20 Grease Trap Ti...|  36 Cloths in-use ...|               Unknown|               Unknown|               Unknown|                Unknown|                Unknown|                Unknown|                Unknown|                Unknown|                Unknown|                Unknown|                Unknown|                Unknown|                Unknown|                Unknown|                Unknown|                Unknown|                Unknown|                Unknown|                Unknown|228.152  Water, P...|228.114  Equipmen...|228.124  Equipmen...|228.69  Food.    ...|Ch.19-126.5(c))  ...|228.68  Food.    ...|             Unknown|          Unknown|          Unknown|           Unknown|           Unknown|           Unknown|           Unknown|           Unknown|           Unknown|           Unknown|           Unknown|           Unknown|           Unknown|           Unknown|           Unknown|           Unknown|           Unknown|           Unknown|           Unknown|Provide trash can...|         clean floor|cannot have utens...|cannot place vent...|provide updated g...|store wiping clot...|             Unknown|        Unknown|        Unknown|         Unknown|         Unknown|         Unknown|         Unknown|         Unknown|         Unknown|         Unknown|         Unknown|         Unknown|         Unknown|         Unknown|         Unknown|         Unknown|         Unknown|         Unknown|\n|       LUSH CATERING|  6211 OWENS ST #120|  75235|Dallas|Texas|        Routine|     2023-03-24|            NULL|  10 Clean Sight an...|  20 Grease Trap Ti...|  21 RFSM - Not On ...|  33 Warewashing ma...|  37 Storing the fo...|  42 Dirty nonfood ...|  43 Light bulbs, l...|               Unknown|               Unknown|                Unknown|                Unknown|                Unknown|                Unknown|                Unknown|                Unknown|                Unknown|                Unknown|                Unknown|                Unknown|                Unknown|                Unknown|                Unknown|                Unknown|                Unknown|                Unknown|228.113  Equipmen...|Ch.19-126.5(c))  ...|Sec. 17-2.2(c)(1)...|228.106  Equipmen...|228.69  Food.    ...|228.113  Equipmen...|228.174  Physical...|          Unknown|          Unknown|           Unknown|           Unknown|           Unknown|           Unknown|           Unknown|           Unknown|           Unknown|           Unknown|           Unknown|           Unknown|           Unknown|           Unknown|           Unknown|           Unknown|           Unknown|           Unknown|Clean dirty can o...|             Unknown|             Unknown|observed dish mac...|Provide splash gu...|clean dirty venthood|Repair venthood l...|        Unknown|        Unknown|         Unknown|         Unknown|         Unknown|         Unknown|         Unknown|         Unknown|         Unknown|         Unknown|         Unknown|         Unknown|         Unknown|         Unknown|         Unknown|         Unknown|         Unknown|\n|  THE WINSTON SCHOOL|       5707 ROYAL LN|  75230|Dallas|Texas|        Routine|     2022-04-22|            NULL|  28 Original cont....|  37 Storing the fo...|  36 Containers of ...|               Unknown|               Unknown|               Unknown|               Unknown|               Unknown|               Unknown|                Unknown|                Unknown|                Unknown|                Unknown|                Unknown|                Unknown|                Unknown|                Unknown|                Unknown|                Unknown|                Unknown|                Unknown|                Unknown|                Unknown|                Unknown|                Unknown|228.75  Food.    ...|228.69  Food.    ...|228.68  Food.    ...|             Unknown|             Unknown|             Unknown|             Unknown|          Unknown|          Unknown|           Unknown|           Unknown|           Unknown|           Unknown|           Unknown|           Unknown|           Unknown|           Unknown|           Unknown|           Unknown|           Unknown|           Unknown|           Unknown|           Unknown|           Unknown|           Unknown|             Unknown|             Unknown|             Unknown|             Unknown|             Unknown|             Unknown|             Unknown|        Unknown|        Unknown|         Unknown|         Unknown|         Unknown|         Unknown|         Unknown|         Unknown|         Unknown|         Unknown|         Unknown|         Unknown|         Unknown|         Unknown|         Unknown|         Unknown|         Unknown|\n|MARY'S TWISTED KI...|  1223 E RED BIRD LN|  75241|Dallas|Texas|        Routine|     2022-12-15|            NULL|  35 Eating food, c...|  45  Premises shal...|  39 Store clean ut...|  42 Dirty nonfood ...|               Unknown|               Unknown|               Unknown|               Unknown|               Unknown|                Unknown|                Unknown|                Unknown|                Unknown|                Unknown|                Unknown|                Unknown|                Unknown|                Unknown|                Unknown|                Unknown|                Unknown|                Unknown|                Unknown|                Unknown|                Unknown|228.42  Managemen...|228.186  Physical...|228.124  Equipmen...|228.113  Equipmen...|             Unknown|             Unknown|             Unknown|          Unknown|          Unknown|           Unknown|           Unknown|           Unknown|           Unknown|           Unknown|           Unknown|           Unknown|           Unknown|           Unknown|           Unknown|           Unknown|           Unknown|           Unknown|           Unknown|           Unknown|           Unknown|Properly store pe...|Floors observed n...|Store clean dishe...|Remove grease bui...|             Unknown|             Unknown|             Unknown|        Unknown|        Unknown|         Unknown|         Unknown|         Unknown|         Unknown|         Unknown|         Unknown|         Unknown|         Unknown|         Unknown|         Unknown|         Unknown|         Unknown|         Unknown|         Unknown|         Unknown|\n|BELMONTS CAFE ON ...|3880 W NORTHWEST HWY|  75220|Dallas|Texas|        Routine|     2023-02-14|            NULL|  02 Cold Hold (41ø...|  09  Food protecte...|  39 Equipment in g...|  42 Dirty nonfood ...|  45  Premises shal...|               Unknown|               Unknown|               Unknown|               Unknown|                Unknown|                Unknown|                Unknown|                Unknown|                Unknown|                Unknown|                Unknown|                Unknown|                Unknown|                Unknown|                Unknown|                Unknown|                Unknown|                Unknown|                Unknown|                Unknown|228.75  Food.    ...|228.66  Food.    ...|228.111  Equipmen...|228.113  Equipmen...|228.186  Physical...|             Unknown|             Unknown|          Unknown|          Unknown|           Unknown|           Unknown|           Unknown|           Unknown|           Unknown|           Unknown|           Unknown|           Unknown|           Unknown|           Unknown|           Unknown|           Unknown|           Unknown|           Unknown|           Unknown|           Unknown|Observed milk @ 4...|Arrange raw meats...|Repair dairy RIC ...|Clean mold/diICs/...|Observed small le...|             Unknown|             Unknown|        Unknown|        Unknown|         Unknown|         Unknown|         Unknown|         Unknown|         Unknown|         Unknown|         Unknown|         Unknown|         Unknown|         Unknown|         Unknown|         Unknown|         Unknown|         Unknown|         Unknown|\n+--------------------+--------------------+-------+------+-----+---------------+---------------+----------------+----------------------+----------------------+----------------------+----------------------+----------------------+----------------------+----------------------+----------------------+----------------------+-----------------------+-----------------------+-----------------------+-----------------------+-----------------------+-----------------------+-----------------------+-----------------------+-----------------------+-----------------------+-----------------------+-----------------------+-----------------------+-----------------------+-----------------------+-----------------------+--------------------+--------------------+--------------------+--------------------+--------------------+--------------------+--------------------+-----------------+-----------------+------------------+------------------+------------------+------------------+------------------+------------------+------------------+------------------+------------------+------------------+------------------+------------------+------------------+------------------+------------------+------------------+--------------------+--------------------+--------------------+--------------------+--------------------+--------------------+--------------------+---------------+---------------+----------------+----------------+----------------+----------------+----------------+----------------+----------------+----------------+----------------+----------------+----------------+----------------+----------------+----------------+----------------+\nonly showing top 5 rows\n\nroot\n |-- restaurant_name: string (nullable = true)\n |-- street_address: string (nullable = true)\n |-- zipcode: integer (nullable = true)\n |-- city: string (nullable = true)\n |-- state: string (nullable = true)\n |-- inspection_type: string (nullable = true)\n |-- inspection_date: date (nullable = true)\n |-- inspection_score: integer (nullable = true)\n |-- violation_description1: string (nullable = true)\n |-- violation_description2: string (nullable = true)\n |-- violation_description3: string (nullable = true)\n |-- violation_description4: string (nullable = true)\n |-- violation_description5: string (nullable = true)\n |-- violation_description6: string (nullable = true)\n |-- violation_description7: string (nullable = true)\n |-- violation_description8: string (nullable = true)\n |-- violation_description9: string (nullable = true)\n |-- violation_description10: string (nullable = true)\n |-- violation_description11: string (nullable = true)\n |-- violation_description12: string (nullable = true)\n |-- violation_description13: string (nullable = true)\n |-- violation_description14: string (nullable = true)\n |-- violation_description15: string (nullable = true)\n |-- violation_description16: string (nullable = true)\n |-- violation_description17: string (nullable = true)\n |-- violation_description18: string (nullable = true)\n |-- violation_description19: string (nullable = true)\n |-- violation_description20: string (nullable = true)\n |-- violation_description21: string (nullable = true)\n |-- violation_description22: string (nullable = true)\n |-- violation_description23: string (nullable = true)\n |-- violation_description24: string (nullable = true)\n |-- violation_description25: string (nullable = true)\n |-- violation_detail1: string (nullable = true)\n |-- violation_detail2: string (nullable = true)\n |-- violation_detail3: string (nullable = true)\n |-- violation_detail4: string (nullable = true)\n |-- violation_detail5: string (nullable = true)\n |-- violation_detail6: string (nullable = true)\n |-- violation_detail7: string (nullable = true)\n |-- violation_detail8: string (nullable = true)\n |-- violation_detail9: string (nullable = true)\n |-- violation_detail10: string (nullable = true)\n |-- violation_detail11: string (nullable = true)\n |-- violation_detail12: string (nullable = true)\n |-- violation_detail13: string (nullable = true)\n |-- violation_detail14: string (nullable = true)\n |-- violation_detail15: string (nullable = true)\n |-- violation_detail16: string (nullable = true)\n |-- violation_detail17: string (nullable = true)\n |-- violation_detail18: string (nullable = true)\n |-- violation_detail19: string (nullable = true)\n |-- violation_detail20: string (nullable = true)\n |-- violation_detail21: string (nullable = true)\n |-- violation_detail22: string (nullable = true)\n |-- violation_detail23: string (nullable = true)\n |-- violation_detail24: string (nullable = true)\n |-- violation_detail25: string (nullable = true)\n |-- violation_memo1: string (nullable = true)\n |-- violation_memo2: string (nullable = true)\n |-- violation_memo3: string (nullable = true)\n |-- violation_memo4: string (nullable = true)\n |-- violation_memo5: string (nullable = true)\n |-- violation_memo6: string (nullable = true)\n |-- violation_memo7: string (nullable = true)\n |-- violation_memo8: string (nullable = true)\n |-- violation_memo9: string (nullable = true)\n |-- violation_memo10: string (nullable = true)\n |-- violation_memo11: string (nullable = true)\n |-- violation_memo12: string (nullable = true)\n |-- violation_memo13: string (nullable = true)\n |-- violation_memo14: string (nullable = true)\n |-- violation_memo15: string (nullable = true)\n |-- violation_memo16: string (nullable = true)\n |-- violation_memo17: string (nullable = true)\n |-- violation_memo18: string (nullable = true)\n |-- violation_memo19: string (nullable = true)\n |-- violation_memo21: string (nullable = true)\n |-- violation_memo22: string (nullable = true)\n |-- violation_memo23: string (nullable = true)\n |-- violation_memo24: string (nullable = true)\n |-- violation_memo25: string (nullable = true)\n\nTotal rows: 28224\n"
     ]
    }
   ],
   "source": [
    "# Define storage account info\n",
    "storage_account_name = \"foodinspection2025stg\"\n",
    "storage_account_key = \"uI7JBnr/H6GB9Qhcglge+1gciYSvBpIm/G98cSsiJp6Cos+kqBfDQClmGCWWpZ+wXGtP3SsVeCbj+AStiA9Jvg==\"\n",
    "container_name = \"silver\"\n",
    "mount_point = \"/mnt/silver\"\n",
    "\n",
    "# Configure the mount with the storage credentials\n",
    "configs = {\n",
    "  f\"fs.azure.account.key.{storage_account_name}.blob.core.windows.net\": storage_account_key\n",
    "}\n",
    "\n",
    "try:\n",
    "  dbutils.fs.mount(\n",
    "    source = f\"wasbs://{container_name}@{storage_account_name}.blob.core.windows.net\",\n",
    "    mount_point = mount_point,\n",
    "    extra_configs = configs\n",
    "  )\n",
    "  print(f\"Successfully mounted {container_name} to {mount_point}\")\n",
    "except Exception as e:\n",
    "  print(f\"Mount point already exists or error: {str(e)}\")\n",
    "\n",
    "# Now read the parquet file from the mount point\n",
    "df_dallas = spark.read.parquet(f\"{mount_point}/dallas.parquet\")\n",
    "\n",
    "# Display sample data\n",
    "df_dallas.show(5)\n",
    "\n",
    "# Get schema information\n",
    "df_dallas.printSchema()\n",
    "\n",
    "# Count rows\n",
    "row_count = df_dallas.count()\n",
    "print(f\"Total rows: {row_count}\")"
   ]
  },
  {
   "cell_type": "code",
   "execution_count": 0,
   "metadata": {
    "application/vnd.databricks.v1+cell": {
     "cellMetadata": {
      "byteLimit": 2048000,
      "rowLimit": 10000
     },
     "inputWidgets": {},
     "nuid": "d239949d-abe4-4958-8abb-8f80486e1f9e",
     "showTitle": false,
     "tableResultSettingsMap": {},
     "title": ""
    }
   },
   "outputs": [],
   "source": [
    "df_dallas_copy = df_dallas.select(\"*\")"
   ]
  },
  {
   "cell_type": "code",
   "execution_count": 0,
   "metadata": {
    "application/vnd.databricks.v1+cell": {
     "cellMetadata": {
      "byteLimit": 2048000,
      "rowLimit": 10000
     },
     "inputWidgets": {},
     "nuid": "bcd82ed7-c7c9-478f-bfdd-6398c123e057",
     "showTitle": false,
     "tableResultSettingsMap": {},
     "title": ""
    }
   },
   "outputs": [
    {
     "output_type": "stream",
     "name": "stdout",
     "output_type": "stream",
     "text": [
      "+-----------------------------------------------------------------+\n|violation_description1                                           |\n+-----------------------------------------------------------------+\n|44 Trash can provided for papertowel waste                       |\n|10 Clean Sight and Touch                                         |\n|28 Original cont. of RTE/PHF/Day1= day of opening                |\n|35 Eating food, chewing gum, drinking beverages, or using tobacco|\n|02 Cold Hold (41øF/45øF or below)                                |\n+-----------------------------------------------------------------+\nonly showing top 5 rows\n\n"
     ]
    }
   ],
   "source": [
    "df_dallas_copy.select(\"violation_description1\").show(5, truncate=False)"
   ]
  },
  {
   "cell_type": "markdown",
   "metadata": {
    "application/vnd.databricks.v1+cell": {
     "cellMetadata": {
      "byteLimit": 2048000,
      "rowLimit": 10000
     },
     "inputWidgets": {},
     "nuid": "94525164-b495-4ea5-b780-1c50a7d13e42",
     "showTitle": false,
     "tableResultSettingsMap": {},
     "title": ""
    }
   },
   "source": [
    "### Transformations \n",
    "\n",
    "1. Convert Texas to 'TX'\n",
    "2. Add inspection id with '_dallas' suffix\n",
    "3. Calculate risk based on inspection score\n",
    "4. Calculate results based on inspection score\n",
    "5. Mark business_type as 'Unknown'"
   ]
  },
  {
   "cell_type": "code",
   "execution_count": 0,
   "metadata": {
    "application/vnd.databricks.v1+cell": {
     "cellMetadata": {
      "byteLimit": 2048000,
      "rowLimit": 10000
     },
     "inputWidgets": {},
     "nuid": "d69db77c-88da-435a-badd-963d5a15ba90",
     "showTitle": false,
     "tableResultSettingsMap": {},
     "title": ""
    }
   },
   "outputs": [
    {
     "output_type": "stream",
     "name": "stdout",
     "output_type": "stream",
     "text": [
      "+-------------+--------------------+----+---------------+\n|inspection_id|     restaurant_name|risk|        results|\n+-------------+--------------------+----+---------------+\n|     1_dallas|CHIPOTLE MEXICAN ...|High|Out of Business|\n|     2_dallas|       LUSH CATERING|High|Out of Business|\n|     3_dallas|  THE WINSTON SCHOOL|High|Out of Business|\n|     4_dallas|MARY'S TWISTED KI...|High|Out of Business|\n|     5_dallas|BELMONTS CAFE ON ...|High|Out of Business|\n+-------------+--------------------+----+---------------+\nonly showing top 5 rows\n\n"
     ]
    }
   ],
   "source": [
    "from pyspark.sql.functions import concat, row_number, lit, when, col, monotonically_increasing_id\n",
    "from pyspark.sql.window import Window\n",
    "from pyspark.sql import functions as F\n",
    "\n",
    "# Define window specification\n",
    "window_spec = Window.orderBy(monotonically_increasing_id())\n",
    "\n",
    "# Add both columns to df_dallas\n",
    "df_dalls_details = df_dallas_copy.withColumn(\n",
    "                    \"state\",\n",
    "                    F.when(F.col(\"state\") == \"Texas\", \"TX\")\n",
    "                    .otherwise(F.col(\"state\"))\n",
    "                ).withColumn(\"inspection_id\", \n",
    "                          concat(row_number().over(window_spec).cast(\"string\"), \n",
    "                                lit(\"_dallas\"))\n",
    "                ).withColumn(\"risk\",\n",
    "                        when((col(\"inspection_score\") >= 79) & (col(\"inspection_score\") <= 100), \"Low\")\n",
    "                        .when((col(\"inspection_score\") >= 60) & (col(\"inspection_score\") <= 78), \"Medium\")\n",
    "                        .otherwise(\"High\")\n",
    "                ).withColumn(\"results\",\n",
    "                        when((col(\"inspection_score\") >= 80) & (col(\"inspection_score\") <= 100), \"Pass\")\n",
    "                        .when((col(\"inspection_score\") >= 60) & (col(\"inspection_score\") <= 78), \"Pass w/ Conditions\")\n",
    "                        .when((col(\"inspection_score\") >= 60) & (col(\"inspection_score\") <= 69), \"Fail\")\n",
    "                        .otherwise(\"Out of Business\")\n",
    "                ).withColumn(\"business_type\", lit(\"Unknown\")\n",
    "                ).withColumn(\"license_number\", lit(-9999))\n",
    "                 \n",
    "df_dalls_details.select(\"inspection_id\", \"restaurant_name\", \"risk\", \"results\").show(5)"
   ]
  },
  {
   "cell_type": "code",
   "execution_count": 0,
   "metadata": {
    "application/vnd.databricks.v1+cell": {
     "cellMetadata": {
      "byteLimit": 2048000,
      "rowLimit": 10000
     },
     "inputWidgets": {},
     "nuid": "eb962be2-dfb0-41ea-a4ed-b45c3ad0b3ff",
     "showTitle": false,
     "tableResultSettingsMap": {},
     "title": ""
    }
   },
   "outputs": [],
   "source": [
    "import re\n",
    "from pyspark.sql import functions as F\n",
    "\n",
    "df = df_dalls_details\n",
    "\n",
    "# discover and sort columns \n",
    "def sorted_cols(prefix):\n",
    "    return sorted(\n",
    "      [c for c in df.columns if c.startswith(prefix)],\n",
    "      key=lambda c: int(re.search(r\"(\\d+)$\", c).group(1))\n",
    "    )\n",
    "\n",
    "desc_cols   = sorted_cols(\"violation_description\")\n",
    "detail_cols = sorted_cols(\"violation_detail\")\n",
    "memo_cols   = sorted_cols(\"violation_memo\")\n",
    "\n",
    "# build a desc_arr from all description columns\n",
    "desc_arr = F.array(*[F.col(c) for c in desc_cols])\n",
    "\n",
    "# build a comment_arr by pairing detail/memo\n",
    "max_cm = max(len(detail_cols), len(memo_cols))\n",
    "comment_elems = []\n",
    "\n",
    "for i in range(max_cm):\n",
    "    d = F.col(detail_cols[i]) if i < len(detail_cols) else F.lit(None)\n",
    "    m = F.col(memo_cols[i])   if i < len(memo_cols)   else F.lit(None)\n",
    "\n",
    "    # trim & define “unknown” predicates\n",
    "    d_trim    = F.trim(d)\n",
    "    m_trim    = F.trim(m)\n",
    "    d_unknown = d.isNull() | (d_trim == \"\") | (F.lower(d_trim) == \"unknown\")\n",
    "    m_unknown = m.isNull() | (m_trim == \"\") | (F.lower(m_trim) == \"unknown\")\n",
    "\n",
    "    # build the conditional per rules:\n",
    "    # 1) both unknown      => \"Unknown\"\n",
    "    # 2) only detail valid => detail\n",
    "    # 3) only memo valid   => memo\n",
    "    # 4) both valid        => detail + \" \" + memo\n",
    "    comment_elems.append(\n",
    "        F.when(d_unknown & m_unknown, F.lit(\"Unknown\"))\n",
    "         .when(~d_unknown & m_unknown, d_trim)\n",
    "         .when(d_unknown & ~m_unknown, m_trim)\n",
    "         .otherwise(F.concat_ws(\" \", d_trim, m_trim))\n",
    "    )\n",
    "\n",
    "comment_arr = F.array(*comment_elems)\n",
    "\n",
    "zipped = F.arrays_zip(desc_arr.alias(\"desc\"), comment_arr.alias(\"comments\"))"
   ]
  },
  {
   "cell_type": "markdown",
   "metadata": {
    "application/vnd.databricks.v1+cell": {
     "cellMetadata": {
      "byteLimit": 2048000,
      "rowLimit": 10000
     },
     "inputWidgets": {},
     "nuid": "7320f847-8bdf-40dc-b69c-bd74033d5435",
     "showTitle": false,
     "tableResultSettingsMap": {},
     "title": ""
    }
   },
   "source": [
    "Split violation description into code, description\n",
    "\n",
    "Rules followed for transformation:\n",
    "\n",
    "1. if violation code is not present, and description is not present -> insert (9999, 'Unknown')\n",
    "2. if violation code is not present, and description is present -> insert (-1, description)\n",
    "3. if violation code is present, and description is present -> insert (code, desc)"
   ]
  },
  {
   "cell_type": "code",
   "execution_count": 0,
   "metadata": {
    "application/vnd.databricks.v1+cell": {
     "cellMetadata": {
      "byteLimit": 2048000,
      "rowLimit": 10000
     },
     "inputWidgets": {},
     "nuid": "135082ba-2156-4736-ae3d-f44892f9e368",
     "showTitle": false,
     "tableResultSettingsMap": {},
     "title": ""
    }
   },
   "outputs": [
    {
     "output_type": "stream",
     "name": "stdout",
     "output_type": "stream",
     "text": [
      "+-------------+----------------------+-------------------------------------------------------------------------------------------------------------------------------------------------------------+------------------------------------------------------------------------------------------------------------------------------------------------------------------------------------------------------------------------------------------------------------------------------------------------------------------------------------------------------------------------------------------------------------------------------------------------------------------------+------------------------------------------------------------------------------------------------------------------------------------------------------------------------------------------------------------------------------------------------------------------------------------------------------------------------------------------------------------------------------------------------------------------------------------------------------------------------------------------------------------------------------------------------------------------------------------------------------------------------------------------------------------------------------------------------------------------------------------------------------------------------------------------------------------------------------------------------------------------------------------------------------------------------------------------------------------------------------------------------------------------------------------------------------------------------------------------------------------------------------------------------------------------------------------------------------------------------------------------------------------------------------------------------------------------------------------------------------------------------------------------------------------------------------------------------------------------------------------------------------------------------------------------------------------------------------------------------------------------------------------------------------------------------------------------------------------------------------------------------------------------------------------------------------------------------------------------------------------------------------------------------------------------------------------------------------------------------------------------------------------------------------------------------------------------------------------------------------------------------------------------------------------------------------------------------------------------------------------------------------------------------------------------------------------------------------------------------------------------------------------------------------------------------------------------------------------------------------------------------------------------------------------------------------------------------------------------------------------------------------------------------------------------------------------------------------------------------------------+\n|inspection_id|restaurant_name       |violation_code                                                                                                                                               |violation_description                                                                                                                                                                                                                                                                                                                                                                                                                                                   |violation_comments                                                                                                                                                                                                                                                                                                                                                                                                                                                                                                                                                                                                                                                                                                                                                                                                                                                                                                                                                                                                                                                                                                                                                                                                                                                                                                                                                                                                                                                                                                                                                                                                                                                                                                                                                                                                                                                                                                                                                                                                                                                                                                                                                                                                                                                                                                                                                                                                                                                                                                                                                                                                                                                                                                                  |\n+-------------+----------------------+-------------------------------------------------------------------------------------------------------------------------------------------------------------+------------------------------------------------------------------------------------------------------------------------------------------------------------------------------------------------------------------------------------------------------------------------------------------------------------------------------------------------------------------------------------------------------------------------------------------------------------------------+------------------------------------------------------------------------------------------------------------------------------------------------------------------------------------------------------------------------------------------------------------------------------------------------------------------------------------------------------------------------------------------------------------------------------------------------------------------------------------------------------------------------------------------------------------------------------------------------------------------------------------------------------------------------------------------------------------------------------------------------------------------------------------------------------------------------------------------------------------------------------------------------------------------------------------------------------------------------------------------------------------------------------------------------------------------------------------------------------------------------------------------------------------------------------------------------------------------------------------------------------------------------------------------------------------------------------------------------------------------------------------------------------------------------------------------------------------------------------------------------------------------------------------------------------------------------------------------------------------------------------------------------------------------------------------------------------------------------------------------------------------------------------------------------------------------------------------------------------------------------------------------------------------------------------------------------------------------------------------------------------------------------------------------------------------------------------------------------------------------------------------------------------------------------------------------------------------------------------------------------------------------------------------------------------------------------------------------------------------------------------------------------------------------------------------------------------------------------------------------------------------------------------------------------------------------------------------------------------------------------------------------------------------------------------------------------------------------------------------+\n|1_dallas     |CHIPOTLE MEXICAN GRILL|[44, 42, 39, 37, 20, 36, -9999, -9999, -9999, -9999, -9999, -9999, -9999, -9999, -9999, -9999, -9999, -9999, -9999, -9999, -9999, -9999, -9999, -9999, -9999]|[Trash can provided for papertowel waste, Floors/walls/ceiling/nonfood dirty, Utensils, single serve items 6 inches off  - floor, Food shall be protected from contamination by storing the food in a clean, dry location, Grease Trap Tickets, Cloths in-use for wiping between uses stored, Unknown, Unknown, Unknown, Unknown, Unknown, Unknown, Unknown, Unknown, Unknown, Unknown, Unknown, Unknown, Unknown, Unknown, Unknown, Unknown, Unknown, Unknown, Unknown]|[228.152  Water, Plumbing, and Waste.          Refuse, Recyclables, and Returnables, Facilities on the Premises.          (g) Storage areas, rooms, and receptacles, capacity and availability.          (3) If disposable towels are used at handwashing lavatories, a waste receptacle shall be located at each lavatory or group of adjacent lavatories. Provide trash can by hand washing station, 228.114  Equipment, Utensils, and Linens.          Frequency of cleaning.          (c) Nonfood-contact surfaces.  Nonfood-contact surfaces of equipment shall be cleaned at a frequency necessary to preclude accumulation of soil residues. clean floor, 228.124  Equipment, Utensils, and Linens.          Storage.          (a) Equipment, utensils, linens, and single-service and single-use articles.          (1) Except as specified in paragraph (4) of this subsection, cleaned equipment and utensils, laundered linens, and single-service and single-use articles shall be stored:           (C) at least 15 centimeters (6 inches) above the floor. cannot have utensils on the floor, store 6 inches off the ground (burrito bowl lids), 228.69  Food.          Preventing contamination from the premises.          (a) Food Storage.          (1) Except as specified in paragraphs (2) and (3) of this subsection, food shall be protected from contamination by storing the food:          (A) in a clean, dry location; cannot place vent filters on trash can bin or any containers, Ch.19-126.5(c))     A producer shall sign the manifest from the transporter when a load is picked up by the transporter and shall keep a copy of all trip tickets at the producer#s business office for three years.  The director may inspect these records at any reasonable time. provide updated grease trap ( they should come every 90 days), 228.68  Food.          Preventing Contamination From Equipment, Utensils, and Linens.         (d) Wiping cloths, use limitation.          (2) cloths in-use for wiping counters and other equipment surfaces shall be:         (A) held between uses in a chemical sanitizer solution at a concentration specified in õ228.111(n) of this title; and store wiping cloths in sanitizer bucket, Unknown, Unknown, Unknown, Unknown, Unknown, Unknown, Unknown, Unknown, Unknown, Unknown, Unknown, Unknown, Unknown, Unknown, Unknown, Unknown, Unknown, Unknown, Unknown]                                                                                                                                                                                                                                                                                       |\n|2_dallas     |LUSH CATERING         |[10, 20, 21, 33, 37, 42, 43, -9999, -9999, -9999, -9999, -9999, -9999, -9999, -9999, -9999, -9999, -9999, -9999, -9999, -9999, -9999, -9999, -9999, -9999]   |[Clean Sight and Touch, Grease Trap Tickets, RFSM - Not On Site, Warewashing machines auto. dispense detergents, Storing the food where it is not exposed to splash, dust, or other contamination, Dirty nonfood contact surfaces, Light bulbs, light shields provided, Unknown, Unknown, Unknown, Unknown, Unknown, Unknown, Unknown, Unknown, Unknown, Unknown, Unknown, Unknown, Unknown, Unknown, Unknown, Unknown, Unknown, Unknown]                               |[228.113  Equipment, Utensils, and Linens.          Cleaning of equipment and utensils.          Equipment, food-contact surfaces, non-food contact surfaces and utensils.          (1) Equipment food-contact surfaces and utensils shall be clean to sight and touch. Clean dirty can opener, Ch.19-126.5(c))     A producer shall sign the manifest from the transporter when a load is picked up by the transporter and shall keep a copy of all trip tickets at the producer#s business office for three years.  The director may inspect these records at any reasonable time., Sec. 17-2.2(c)(1)(D)      (c) Registered food service managers. (1) Registered food service managers required.    (D) A food establishment shall have one registered food service manager employed and present in the establishment during all hours of operation, except that a registered food service manager serving multiple food establishments as authorized by Section 17-2.2(c)(1)(C) must only be present in the building in which the food establishment is located during all hours of operation., 228.106  Equipment, Utensils, and Linens.          Functionality of equipment.          (q)Warewashing machines, automatic dispensing of detergents and sanitizers. A warewashing machine that is installed after adoption of this section by the regulatory authority, shall be equipped to:  (1) automatically dispense detergents and sanitizers; and observed dish machine not auto dispense sanitizer solution, 228.69  Food.          Preventing contamination from the premises.          (a) Food Storage.          (1) Except as specified in paragraphs (2) and (3) of this subsection, food shall be protected from contamination by storing the food:          (B) where it is not exposed to splash, dust, or other contamination; and Provide splash guard for hand wash sink, 228.113  Equipment, Utensils, and Linens.          Cleaning of equipment and utensils.          (3) Nonfood-contact surfaces of equipment shall be kept free of an accumulation of dust, dirt, food residue, and other debris. clean dirty venthood, 228.174  Physical Facilities.          Functionality.          (a) Light bulbs, protective shielding.          (1) Except as specified in  paragraph (2) of this subsection, light bulbs shall be shielded, coated, or otherwise shatter-resistant in areas where there is exposed food; clean equipment, utensils, and linens; or unwrapped single-service and single-use articles. Repair venthood light, Unknown, Unknown, Unknown, Unknown, Unknown, Unknown, Unknown, Unknown, Unknown, Unknown, Unknown, Unknown, Unknown, Unknown, Unknown, Unknown, Unknown, Unknown]|\n+-------------+----------------------+-------------------------------------------------------------------------------------------------------------------------------------------------------------+------------------------------------------------------------------------------------------------------------------------------------------------------------------------------------------------------------------------------------------------------------------------------------------------------------------------------------------------------------------------------------------------------------------------------------------------------------------------+------------------------------------------------------------------------------------------------------------------------------------------------------------------------------------------------------------------------------------------------------------------------------------------------------------------------------------------------------------------------------------------------------------------------------------------------------------------------------------------------------------------------------------------------------------------------------------------------------------------------------------------------------------------------------------------------------------------------------------------------------------------------------------------------------------------------------------------------------------------------------------------------------------------------------------------------------------------------------------------------------------------------------------------------------------------------------------------------------------------------------------------------------------------------------------------------------------------------------------------------------------------------------------------------------------------------------------------------------------------------------------------------------------------------------------------------------------------------------------------------------------------------------------------------------------------------------------------------------------------------------------------------------------------------------------------------------------------------------------------------------------------------------------------------------------------------------------------------------------------------------------------------------------------------------------------------------------------------------------------------------------------------------------------------------------------------------------------------------------------------------------------------------------------------------------------------------------------------------------------------------------------------------------------------------------------------------------------------------------------------------------------------------------------------------------------------------------------------------------------------------------------------------------------------------------------------------------------------------------------------------------------------------------------------------------------------------------------------------------+\nonly showing top 2 rows\n\n"
     ]
    }
   ],
   "source": [
    "df_out = df.withColumn(\"zipped\", zipped) \\\n",
    "    .withColumn(\"violation_code\",\n",
    "        F.transform(\"zipped\", lambda x:\n",
    "            F.when(\n",
    "                x[\"desc\"].isNull() |\n",
    "                (F.trim(x[\"desc\"]) == \"\") |\n",
    "                (F.lower(F.trim(x[\"desc\"])) == \"unknown\"),\n",
    "                F.lit(-9999)\n",
    "            )\n",
    "            .when(\n",
    "                F.regexp_extract(x[\"desc\"], r\"^(\\d+)\", 1) != \"\",\n",
    "                F.regexp_extract(x[\"desc\"], r\"^(\\d+)\", 1).cast(\"int\")\n",
    "            )\n",
    "            .otherwise(F.lit(-1))\n",
    "        )\n",
    "    ) \\\n",
    "    .withColumn(\"violation_description\",\n",
    "        F.transform(\"zipped\", lambda x:\n",
    "            F.when(\n",
    "                x[\"desc\"].isNull() |\n",
    "                (F.trim(x[\"desc\"]) == \"\") |\n",
    "                (F.lower(F.trim(x[\"desc\"])) == \"unknown\"),\n",
    "                F.lit(\"Unknown\")\n",
    "            )\n",
    "            .when(\n",
    "                F.regexp_extract(x[\"desc\"], r\"^\\d+\\s+(.*)\", 1) != \"\",\n",
    "                F.regexp_extract(x[\"desc\"], r\"^\\d+\\s+(.*)\", 1)\n",
    "            )\n",
    "            .otherwise(F.trim(x[\"desc\"]))\n",
    "        )\n",
    "    ) \\\n",
    "    .withColumn(\"violation_comments\",\n",
    "        F.transform(\"zipped\", lambda x:\n",
    "            F.when(\n",
    "                x[\"comments\"].isNull() |\n",
    "                (F.trim(x[\"comments\"]) == \"\"),\n",
    "                F.lit(\"Unknown\")\n",
    "            )\n",
    "            .otherwise(F.trim(x[\"comments\"]))\n",
    "        )\n",
    "    ) \\\n",
    "    .drop(\"zipped\")\n",
    "\n",
    "# all three arrays now have the same length \n",
    "df_out.select(\"inspection_id\",\n",
    "              \"restaurant_name\",\n",
    "    \"violation_code\",\n",
    "    \"violation_description\",\n",
    "    \"violation_comments\"\n",
    ").show(2, truncate=False)"
   ]
  },
  {
   "cell_type": "markdown",
   "metadata": {
    "application/vnd.databricks.v1+cell": {
     "cellMetadata": {
      "byteLimit": 2048000,
      "rowLimit": 10000
     },
     "inputWidgets": {},
     "nuid": "4ca6d3b4-e3f0-4037-8439-8ead5e3e2c84",
     "showTitle": false,
     "tableResultSettingsMap": {},
     "title": ""
    }
   },
   "source": [
    "### Flatten the data"
   ]
  },
  {
   "cell_type": "code",
   "execution_count": 0,
   "metadata": {
    "application/vnd.databricks.v1+cell": {
     "cellMetadata": {
      "byteLimit": 2048000,
      "rowLimit": 10000
     },
     "inputWidgets": {},
     "nuid": "eb75373c-a012-444c-bb04-32cd90ef27dd",
     "showTitle": false,
     "tableResultSettingsMap": {},
     "title": ""
    }
   },
   "outputs": [
    {
     "output_type": "stream",
     "name": "stdout",
     "output_type": "stream",
     "text": [
      "+-------------+----------------+--------------+---------------------+------------------+\n|inspection_id|restaurant_name |violation_code|violation_description|violation_comments|\n+-------------+----------------+--------------+---------------------+------------------+\n|10000_dallas |7-ELEVEN #38461A|-9999         |Unknown              |Unknown           |\n|10001_dallas |FRESHII         |-9999         |Unknown              |Unknown           |\n+-------------+----------------+--------------+---------------------+------------------+\nonly showing top 2 rows\n\n"
     ]
    }
   ],
   "source": [
    "from pyspark.sql import functions as F\n",
    "\n",
    "df_zipped = df_out.withColumn(\n",
    "    \"zipped2\",\n",
    "    F.arrays_zip(\n",
    "        \"violation_code\",\n",
    "        \"violation_description\",\n",
    "        \"violation_comments\"\n",
    "    )\n",
    ")\n",
    "\n",
    "# flatten\n",
    "df_exploded = df_zipped.withColumn(\"z\", F.explode(\"zipped2\"))\n",
    "\n",
    "# select *all original columns except* the 3 array cols + zipped2,z, \n",
    "cols_to_drop = [\"violation_code\", \"violation_description\", \"violation_comments\", \"zipped2\", \"z\"]\n",
    "df_flat = df_exploded.select(\n",
    "    *[c for c in df_exploded.columns if c not in cols_to_drop],\n",
    "    F.col(\"z.violation_code\").alias(\"violation_code\"),\n",
    "    F.col(\"z.violation_description\").alias(\"violation_description\"),\n",
    "    F.col(\"z.violation_comments\").alias(\"violation_comments\")\n",
    ")\n",
    "\n",
    "# drop duplicates\n",
    "df_flat_dedup = df_flat.dropDuplicates(\n",
    "    [\"inspection_id\", \"violation_code\", \"violation_description\", \"violation_comments\"]\n",
    ")\n",
    "\n",
    "df_flat_dedup.select(\"inspection_id\",\n",
    "              \"restaurant_name\",\n",
    "    \"violation_code\",\n",
    "    \"violation_description\",\n",
    "    \"violation_comments\"\n",
    ").show(2, truncate=False)"
   ]
  },
  {
   "cell_type": "code",
   "execution_count": 0,
   "metadata": {
    "application/vnd.databricks.v1+cell": {
     "cellMetadata": {
      "byteLimit": 2048000,
      "rowLimit": 10000
     },
     "inputWidgets": {},
     "nuid": "7cff2c38-feb3-4043-bde0-11c80a4c4783",
     "showTitle": false,
     "tableResultSettingsMap": {},
     "title": ""
    }
   },
   "outputs": [
    {
     "output_type": "stream",
     "name": "stdout",
     "output_type": "stream",
     "text": [
      "+-------------+--------------+---------------------------------------------------------------------------------------+--------------------------------------------------------------------------------------------------------------------------------------------------------------------------------------------------------------------------------------------------------------------------------------------------------------------------------------------------------------------------------------------------------------------------------------------------------------------------------------------+\n|inspection_id|violation_code|violation_description                                                                  |violation_comments                                                                                                                                                                                                                                                                                                                                                                                                                                                                          |\n+-------------+--------------+---------------------------------------------------------------------------------------+--------------------------------------------------------------------------------------------------------------------------------------------------------------------------------------------------------------------------------------------------------------------------------------------------------------------------------------------------------------------------------------------------------------------------------------------------------------------------------------------+\n|1_dallas     |44            |Trash can provided for papertowel waste                                                |228.152  Water, Plumbing, and Waste.          Refuse, Recyclables, and Returnables, Facilities on the Premises.          (g) Storage areas, rooms, and receptacles, capacity and availability.          (3) If disposable towels are used at handwashing lavatories, a waste receptacle shall be located at each lavatory or group of adjacent lavatories. Provide trash can by hand washing station                                                                                        |\n|1_dallas     |42            |Floors/walls/ceiling/nonfood dirty                                                     |228.114  Equipment, Utensils, and Linens.          Frequency of cleaning.          (c) Nonfood-contact surfaces.  Nonfood-contact surfaces of equipment shall be cleaned at a frequency necessary to preclude accumulation of soil residues. clean floor                                                                                                                                                                                                                                    |\n|1_dallas     |39            |Utensils, single serve items 6 inches off  - floor                                     |228.124  Equipment, Utensils, and Linens.          Storage.          (a) Equipment, utensils, linens, and single-service and single-use articles.          (1) Except as specified in paragraph (4) of this subsection, cleaned equipment and utensils, laundered linens, and single-service and single-use articles shall be stored:           (C) at least 15 centimeters (6 inches) above the floor. cannot have utensils on the floor, store 6 inches off the ground (burrito bowl lids)|\n|1_dallas     |37            |Food shall be protected from contamination by storing the food in a clean, dry location|228.69  Food.          Preventing contamination from the premises.          (a) Food Storage.          (1) Except as specified in paragraphs (2) and (3) of this subsection, food shall be protected from contamination by storing the food:          (A) in a clean, dry location; cannot place vent filters on trash can bin or any containers                                                                                                                                            |\n|1_dallas     |20            |Grease Trap Tickets                                                                    |Ch.19-126.5(c))     A producer shall sign the manifest from the transporter when a load is picked up by the transporter and shall keep a copy of all trip tickets at the producer#s business office for three years.  The director may inspect these records at any reasonable time. provide updated grease trap ( they should come every 90 days)                                                                                                                                          |\n|1_dallas     |36            |Cloths in-use for wiping between uses stored                                           |228.68  Food.          Preventing Contamination From Equipment, Utensils, and Linens.         (d) Wiping cloths, use limitation.          (2) cloths in-use for wiping counters and other equipment surfaces shall be:         (A) held between uses in a chemical sanitizer solution at a concentration specified in õ228.111(n) of this title; and store wiping cloths in sanitizer bucket                                                                                                |\n|1_dallas     |-9999         |Unknown                                                                                |Unknown                                                                                                                                                                                                                                                                                                                                                                                                                                                                                     |\n+-------------+--------------+---------------------------------------------------------------------------------------+--------------------------------------------------------------------------------------------------------------------------------------------------------------------------------------------------------------------------------------------------------------------------------------------------------------------------------------------------------------------------------------------------------------------------------------------------------------------------------------------+\n\n"
     ]
    }
   ],
   "source": [
    "df_flat_dedup.filter(F.col(\"inspection_id\") == \"1_dallas\").select(\"inspection_id\",\n",
    "    \"violation_code\",\n",
    "    \"violation_description\",\n",
    "    \"violation_comments\"\n",
    ").show(truncate=False)"
   ]
  },
  {
   "cell_type": "markdown",
   "metadata": {
    "application/vnd.databricks.v1+cell": {
     "cellMetadata": {
      "byteLimit": 2048000,
      "rowLimit": 10000
     },
     "inputWidgets": {},
     "nuid": "b6458308-4246-436b-848b-9099ff0c3142",
     "showTitle": false,
     "tableResultSettingsMap": {},
     "title": ""
    }
   },
   "source": [
    "Number of rows with Violation code -9999 and Violation description 'Unknown' before removing duplicate rows:"
   ]
  },
  {
   "cell_type": "code",
   "execution_count": 0,
   "metadata": {
    "application/vnd.databricks.v1+cell": {
     "cellMetadata": {
      "byteLimit": 2048000,
      "rowLimit": 10000
     },
     "inputWidgets": {},
     "nuid": "5e91f0fb-1349-4ace-8204-0fd73cf4b3ff",
     "showTitle": false,
     "tableResultSettingsMap": {},
     "title": ""
    }
   },
   "outputs": [
    {
     "output_type": "execute_result",
     "data": {
      "text/plain": [
       "28223"
      ]
     },
     "execution_count": 9,
     "metadata": {},
     "output_type": "execute_result"
    }
   ],
   "source": [
    "df_flat_dedup.filter(F.col(\"violation_code\") == -9999).count()"
   ]
  },
  {
   "cell_type": "code",
   "execution_count": 0,
   "metadata": {
    "application/vnd.databricks.v1+cell": {
     "cellMetadata": {
      "byteLimit": 2048000,
      "rowLimit": 10000
     },
     "inputWidgets": {},
     "nuid": "3a18bd3d-eeec-40ce-95cd-184517e10162",
     "showTitle": false,
     "tableResultSettingsMap": {},
     "title": ""
    }
   },
   "outputs": [
    {
     "output_type": "stream",
     "name": "stdout",
     "output_type": "stream",
     "text": [
      "+-------------+----------------+--------------+---------------------+-----------------------------------------------------------------------------------------------------------------------------------------------------------------------------------------------------------------------------------------------------------------------------------------------------------------------------------------------------------------------------------------------------------------------------------------------------------------------------------------------------------------------------+\n|inspection_id|restaurant_name |violation_code|violation_description|violation_comments                                                                                                                                                                                                                                                                                                                                                                                                                                                                                                           |\n+-------------+----------------+--------------+---------------------+-----------------------------------------------------------------------------------------------------------------------------------------------------------------------------------------------------------------------------------------------------------------------------------------------------------------------------------------------------------------------------------------------------------------------------------------------------------------------------------------------------------------------------+\n|10000_dallas |7-ELEVEN #38461A|-9999         |Unknown              |Unknown                                                                                                                                                                                                                                                                                                                                                                                                                                                                                                                      |\n|10001_dallas |FRESHII         |21            |RFSM - Not On Site   |Sec. 17-2.2(c)(1)(D)      (c) Registered food service managers. (1) Registered food service managers required.    (D) A food establishment shall have one registered food service manager employed and present in the establishment during all hours of operation, except that a registered food service manager serving multiple food establishments as authorized by Section 17-2.2(c)(1)(C) must only be present in the building in which the food establishment is located during all hours of operation. No RFSM on site|\n|10001_dallas |FRESHII         |26            |Allergen Labeling    |228.79  Food.          Labeling.       (a) Food labels.         (2) Label information shall include:       (E) the name of the food source for each major food allergen contained in the food unless the food source is already part of the common or usual name of the respective ingredient; Must have consumer advisory posted                                                                                                                                                                                            |\n+-------------+----------------+--------------+---------------------+-----------------------------------------------------------------------------------------------------------------------------------------------------------------------------------------------------------------------------------------------------------------------------------------------------------------------------------------------------------------------------------------------------------------------------------------------------------------------------------------------------------------------------+\nonly showing top 3 rows\n\n"
     ]
    }
   ],
   "source": [
    "w = Window.partitionBy(\"inspection_id\")\n",
    "\n",
    "# add a flag: 1 if there's any code != -9999 in that group, else 0\n",
    "df_flagged = df_flat_dedup.withColumn(\n",
    "    \"has_real_violation\",\n",
    "    F.max((F.col(\"violation_code\") != -9999).cast(\"int\")).over(w)\n",
    ")\n",
    "\n",
    "# filter:\n",
    "#  – if has_real_violation == 1, keep only rows where code != -9999  \n",
    "#  – if has_real_violation == 0, keep the placeholder row\n",
    "df_final = df_flagged.filter(\n",
    "    ((F.col(\"has_real_violation\") == 1) & (F.col(\"violation_code\") != -9999))\n",
    "    | (F.col(\"has_real_violation\") == 0)\n",
    ").drop(\"has_real_violation\")\n",
    "\n",
    "# 4) inspect\n",
    "df_final.select(\"inspection_id\",\n",
    "    \"restaurant_name\",\n",
    "    \"violation_code\",\n",
    "    \"violation_description\",\n",
    "    \"violation_comments\"\n",
    ").show(3, truncate=False)"
   ]
  },
  {
   "cell_type": "markdown",
   "metadata": {
    "application/vnd.databricks.v1+cell": {
     "cellMetadata": {
      "byteLimit": 2048000,
      "rowLimit": 10000
     },
     "inputWidgets": {},
     "nuid": "22342829-f331-4c1a-8241-bc01526a85c6",
     "showTitle": false,
     "tableResultSettingsMap": {},
     "title": ""
    }
   },
   "source": [
    "Number of rows with Violation code -9999 and description 'Unknown' after removing duplicate rows:"
   ]
  },
  {
   "cell_type": "code",
   "execution_count": 0,
   "metadata": {
    "application/vnd.databricks.v1+cell": {
     "cellMetadata": {
      "byteLimit": 2048000,
      "rowLimit": 10000
     },
     "inputWidgets": {},
     "nuid": "425bf489-4cf5-4239-8e21-24236bd79aff",
     "showTitle": false,
     "tableResultSettingsMap": {},
     "title": ""
    }
   },
   "outputs": [
    {
     "output_type": "execute_result",
     "data": {
      "text/plain": [
       "2665"
      ]
     },
     "execution_count": 11,
     "metadata": {},
     "output_type": "execute_result"
    }
   ],
   "source": [
    "df_final.filter(F.col(\"violation_code\") == -9999).count()"
   ]
  },
  {
   "cell_type": "code",
   "execution_count": 0,
   "metadata": {
    "application/vnd.databricks.v1+cell": {
     "cellMetadata": {
      "byteLimit": 2048000,
      "rowLimit": 10000
     },
     "inputWidgets": {},
     "nuid": "63ad9904-820a-4aba-8420-82b74b73702f",
     "showTitle": false,
     "tableResultSettingsMap": {},
     "title": ""
    }
   },
   "outputs": [],
   "source": [
    "df_dallas_food_inspection = df_final.withColumnRenamed(\"restaurant_name\", \"business_name\").withColumnRenamed(\"street_address\", \"address\")"
   ]
  },
  {
   "cell_type": "code",
   "execution_count": 0,
   "metadata": {
    "application/vnd.databricks.v1+cell": {
     "cellMetadata": {
      "byteLimit": 2048000,
      "rowLimit": 10000
     },
     "inputWidgets": {},
     "nuid": "acc06282-1d61-41fc-91ca-3a79a10a9d22",
     "showTitle": false,
     "tableResultSettingsMap": {},
     "title": ""
    }
   },
   "outputs": [
    {
     "output_type": "stream",
     "name": "stdout",
     "output_type": "stream",
     "text": [
      "+-------------+----------------+-------------+--------------+---------------------+-------+------+-----+---------------+---------------+----+---------------+--------------+---------------------------------------------+-----------------------------------------------------------------------------------------------------------------------------------------------------------------------------------------------------------------------------------------------------------------------------------------------------------------------------------------------------------------------------------------------------------------------------------------------------------------------------------------------------------------------------+\n|inspection_id|business_name   |business_type|license_number|address              |zipcode|city  |state|inspection_type|inspection_date|risk|results        |violation_code|violation_description                        |violation_comments                                                                                                                                                                                                                                                                                                                                                                                                                                                                                                           |\n+-------------+----------------+-------------+--------------+---------------------+-------+------+-----+---------------+---------------+----+---------------+--------------+---------------------------------------------+-----------------------------------------------------------------------------------------------------------------------------------------------------------------------------------------------------------------------------------------------------------------------------------------------------------------------------------------------------------------------------------------------------------------------------------------------------------------------------------------------------------------------------+\n|10000_dallas |7-ELEVEN #38461A|Unknown      |-9999         |2450 GUS THOMASSON RD|75228  |Dallas|TX   |Routine        |2021-11-22     |High|Out of Business|-9999         |Unknown                                      |Unknown                                                                                                                                                                                                                                                                                                                                                                                                                                                                                                                      |\n|10001_dallas |FRESHII         |Unknown      |-9999         |2414 VICTORY PARK LN |75219  |Dallas|TX   |Routine        |2022-09-17     |High|Out of Business|21            |RFSM - Not On Site                           |Sec. 17-2.2(c)(1)(D)      (c) Registered food service managers. (1) Registered food service managers required.    (D) A food establishment shall have one registered food service manager employed and present in the establishment during all hours of operation, except that a registered food service manager serving multiple food establishments as authorized by Section 17-2.2(c)(1)(C) must only be present in the building in which the food establishment is located during all hours of operation. No RFSM on site|\n|10001_dallas |FRESHII         |Unknown      |-9999         |2414 VICTORY PARK LN |75219  |Dallas|TX   |Routine        |2022-09-17     |High|Out of Business|26            |Allergen Labeling                            |228.79  Food.          Labeling.       (a) Food labels.         (2) Label information shall include:       (E) the name of the food source for each major food allergen contained in the food unless the food source is already part of the common or usual name of the respective ingredient; Must have consumer advisory posted                                                                                                                                                                                            |\n|10002_dallas |TCBY            |Unknown      |-9999         |6402 E MOCKINGBIRD LN|75214  |Dallas|TX   |Routine        |2023-01-17     |High|Out of Business|10            |Clean Sight and Touch                        |228.113  Equipment, Utensils, and Linens.          Cleaning of equipment and utensils.          Equipment, food-contact surfaces, non-food contact surfaces and utensils.          (1) Equipment food-contact surfaces and utensils shall be clean to sight and touch. BUILD UP INSIDE ICE MACHINE                                                                                                                                                                                                                           |\n|10002_dallas |TCBY            |Unknown      |-9999         |6402 E MOCKINGBIRD LN|75214  |Dallas|TX   |Routine        |2023-01-17     |High|Out of Business|22            |Accredited food handler certificate - 60 days|õ228.33. Certified Food Protection Manager and Food Handler Requirements  (d) Except in a temporary food establishment and the certified food manager, all food employees shall successfully complete an accredited food handler training course, within 60 days of employment. NO FOOD HANDLER CERTIFICATE PROVIDED                                                                                                                                                                                                         |\n+-------------+----------------+-------------+--------------+---------------------+-------+------+-----+---------------+---------------+----+---------------+--------------+---------------------------------------------+-----------------------------------------------------------------------------------------------------------------------------------------------------------------------------------------------------------------------------------------------------------------------------------------------------------------------------------------------------------------------------------------------------------------------------------------------------------------------------------------------------------------------------+\nonly showing top 5 rows\n\n"
     ]
    }
   ],
   "source": [
    "# Define the list of columns to keep\n",
    "final_columns = [\n",
    "    'inspection_id',\n",
    "    'business_name',\n",
    "    'business_type',\n",
    "    'license_number',\n",
    "    'address',\n",
    "    'zipcode',\n",
    "    'city',\n",
    "    'state',\n",
    "    'inspection_type',\n",
    "    'inspection_date',\n",
    "    'risk',\n",
    "    'results',\n",
    "    'violation_code',\n",
    "    'violation_description',\n",
    "    'violation_comments'\n",
    "    \n",
    "]\n",
    "\n",
    "df_dallas_final = df_dallas_food_inspection.select(*final_columns)\n",
    "\n",
    "df_dallas_final.show(5, truncate=False)"
   ]
  },
  {
   "cell_type": "code",
   "execution_count": 0,
   "metadata": {
    "application/vnd.databricks.v1+cell": {
     "cellMetadata": {
      "byteLimit": 2048000,
      "rowLimit": 10000
     },
     "inputWidgets": {},
     "nuid": "45d0933e-ce00-4c40-9989-400e0fda2043",
     "showTitle": false,
     "tableResultSettingsMap": {},
     "title": ""
    }
   },
   "outputs": [
    {
     "output_type": "stream",
     "name": "stdout",
     "output_type": "stream",
     "text": [
      "+-------------+-------------+-------------+--------------+-------+-------+----+-----+---------------+---------------+----+-------+--------------+---------------------+------------------+\n|inspection_id|business_name|business_type|license_number|address|zipcode|city|state|inspection_type|inspection_date|risk|results|violation_code|violation_description|violation_comments|\n+-------------+-------------+-------------+--------------+-------+-------+----+-----+---------------+---------------+----+-------+--------------+---------------------+------------------+\n|0            |0            |0            |0             |0      |0      |0   |0    |0              |0              |0   |0      |0             |0                    |0                 |\n+-------------+-------------+-------------+--------------+-------+-------+----+-----+---------------+---------------+----+-------+--------------+---------------------+------------------+\n\n"
     ]
    }
   ],
   "source": [
    "null_counts = df_dallas_final.select([\n",
    "    F.count(F.when(F.col(c).isNull(), c)).alias(c)\n",
    "    for c in df_dallas_final.columns\n",
    "])\n",
    "\n",
    "null_counts.show(truncate=False)"
   ]
  },
  {
   "cell_type": "code",
   "execution_count": 0,
   "metadata": {
    "application/vnd.databricks.v1+cell": {
     "cellMetadata": {
      "byteLimit": 2048000,
      "rowLimit": 10000
     },
     "inputWidgets": {},
     "nuid": "73a760d1-cd77-4a25-b59d-aa6f7fb29f01",
     "showTitle": false,
     "tableResultSettingsMap": {},
     "title": ""
    }
   },
   "outputs": [
    {
     "output_type": "execute_result",
     "data": {
      "text/plain": [
       "140478"
      ]
     },
     "execution_count": 15,
     "metadata": {},
     "output_type": "execute_result"
    }
   ],
   "source": [
    "df_dallas_final.count()"
   ]
  },
  {
   "cell_type": "code",
   "execution_count": 0,
   "metadata": {
    "application/vnd.databricks.v1+cell": {
     "cellMetadata": {
      "byteLimit": 2048000,
      "rowLimit": 10000
     },
     "inputWidgets": {},
     "nuid": "6f927a49-a66d-457b-87f0-c02157697aea",
     "showTitle": false,
     "tableResultSettingsMap": {},
     "title": ""
    }
   },
   "outputs": [],
   "source": [
    "# Set up Snowflake options\n",
    "sfOptions = {\n",
    "    \"sfURL\": \"KOMAXUA-FHA53164.snowflakecomputing.com\",  \n",
    "    \"sfDatabase\": \"FOOD_INSPECTION_DB\",                 \n",
    "    \"sfSchema\": \"RAW_STAGE_SCHEMA\",                     \n",
    "    \"sfWarehouse\": \"DADABI_WH\",                         \n",
    "    \"sfRole\": \"DEVELOPER\",                              \n",
    "    \"sfUser\": \"DADABI_USER\",                            \n",
    "    \"sfPassword\": \"snowflake123#\"                       \n",
    "}"
   ]
  },
  {
   "cell_type": "markdown",
   "metadata": {
    "application/vnd.databricks.v1+cell": {
     "cellMetadata": {
      "byteLimit": 2048000,
      "rowLimit": 10000
     },
     "inputWidgets": {},
     "nuid": "10fa0a8c-e7be-4d37-a7c8-076ef9957a1d",
     "showTitle": false,
     "tableResultSettingsMap": {},
     "title": ""
    }
   },
   "source": [
    "### Load the cleaned and transformed data to Snowflake Dallas stage table"
   ]
  },
  {
   "cell_type": "code",
   "execution_count": 0,
   "metadata": {
    "application/vnd.databricks.v1+cell": {
     "cellMetadata": {
      "byteLimit": 2048000,
      "rowLimit": 10000
     },
     "inputWidgets": {},
     "nuid": "6b2503f3-abe2-48ae-acd1-ce3fe6c41bee",
     "showTitle": false,
     "tableResultSettingsMap": {},
     "title": ""
    }
   },
   "outputs": [],
   "source": [
    "# Write DataFrame to Snowflake\n",
    "(\n",
    "    df_dallas_final.write\n",
    "    .format(\"net.snowflake.spark.snowflake\")\n",
    "    .options(**sfOptions)\n",
    "    .option(\"dbtable\", \"STG_DALLAS\")\n",
    "    .mode(\"overwrite\")\n",
    "    .save()\n",
    ")"
   ]
  }
 ],
 "metadata": {
  "application/vnd.databricks.v1+notebook": {
   "computePreferences": null,
   "dashboards": [],
   "environmentMetadata": {
    "base_environment": "",
    "environment_version": "1"
   },
   "inputWidgetPreferences": null,
   "language": "python",
   "notebookMetadata": {
    "pythonIndentUnit": 4
   },
   "notebookName": "Dallas_Data_Transformation",
   "widgets": {}
  }
 },
 "nbformat": 4,
 "nbformat_minor": 0
}